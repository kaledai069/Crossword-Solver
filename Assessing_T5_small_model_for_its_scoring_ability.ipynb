{
  "nbformat": 4,
  "nbformat_minor": 0,
  "metadata": {
    "colab": {
      "provenance": [],
      "gpuType": "T4",
      "authorship_tag": "ABX9TyPGrmCvW0VwINFobRfa/vNi",
      "include_colab_link": true
    },
    "kernelspec": {
      "name": "python3",
      "display_name": "Python 3"
    },
    "language_info": {
      "name": "python"
    },
    "accelerator": "GPU"
  },
  "cells": [
    {
      "cell_type": "markdown",
      "metadata": {
        "id": "view-in-github",
        "colab_type": "text"
      },
      "source": [
        "<a href=\"https://colab.research.google.com/github/kaledai069/Crossword-Solver-A-Neural-Transformer-based-Approach/blob/master/Assessing_T5_small_model_for_its_scoring_ability.ipynb\" target=\"_parent\"><img src=\"https://colab.research.google.com/assets/colab-badge.svg\" alt=\"Open In Colab\"/></a>"
      ]
    },
    {
      "cell_type": "code",
      "execution_count": null,
      "metadata": {
        "colab": {
          "base_uri": "https://localhost:8080/"
        },
        "id": "sfj2RSTXO85e",
        "outputId": "df66ad75-9fd4-4c53-97f6-9e5d63327bc6"
      },
      "outputs": [
        {
          "output_type": "stream",
          "name": "stdout",
          "text": [
            "Mounted at /content/gdrive\n"
          ]
        }
      ],
      "source": [
        "from google.colab import drive\n",
        "drive.mount('/content/gdrive')"
      ]
    },
    {
      "cell_type": "code",
      "source": [
        "!pip install -q wordsegment"
      ],
      "metadata": {
        "colab": {
          "base_uri": "https://localhost:8080/"
        },
        "id": "FDXtrAP2Q4Dz",
        "outputId": "ef16a7db-bb5c-4f7d-c055-f63fc42ad24f"
      },
      "execution_count": null,
      "outputs": [
        {
          "output_type": "stream",
          "name": "stdout",
          "text": [
            "\u001b[2K     \u001b[90m━━━━━━━━━━━━━━━━━━━━━━━━━━━━━━━━━━━━━━━━\u001b[0m \u001b[32m4.8/4.8 MB\u001b[0m \u001b[31m17.0 MB/s\u001b[0m eta \u001b[36m0:00:00\u001b[0m\n",
            "\u001b[?25h"
          ]
        }
      ]
    },
    {
      "cell_type": "code",
      "source": [
        "import pandas as pd\n",
        "import numpy as np\n",
        "import os\n",
        "import torch\n",
        "import time\n",
        "import datetime\n",
        "import random\n",
        "import string\n",
        "import re\n",
        "import unicodedata\n",
        "\n",
        "from pprint import pprint\n",
        "from tqdm import tqdm\n",
        "from transformers import AutoTokenizer, T5ForConditionalGeneration\n",
        "from wordsegment import load, segment\n",
        "load()"
      ],
      "metadata": {
        "id": "P3byMCLZPaST"
      },
      "execution_count": null,
      "outputs": []
    },
    {
      "cell_type": "code",
      "source": [
        "crossword_path = \"/content/gdrive/MyDrive/Clue-Answer Dataset/Clue-Answer-Dataset_Version_2.csv\"\n",
        "t5_reranker_path = \"/content/gdrive/MyDrive/Second Pass Model/t5_small_new_dataset_2EPOCHS/\"\n",
        "t5_model_name = 't5-small'\n",
        "\n",
        "byt5_reranker_path = \"/content/gdrive/MyDrive/Second Pass Model/byt5_reranker/\"\n",
        "byt5_model_name = 'google/byt5-small'"
      ],
      "metadata": {
        "id": "9gqfsnOTPaPy"
      },
      "execution_count": null,
      "outputs": []
    },
    {
      "cell_type": "code",
      "source": [
        "clue_answer_df = pd.read_csv(crossword_path)\n",
        "clue_answer_df.head()"
      ],
      "metadata": {
        "colab": {
          "base_uri": "https://localhost:8080/",
          "height": 206
        },
        "id": "pJB5bLx1PaKy",
        "outputId": "bb5ba227-9f16-4550-8423-27318aa45201"
      },
      "execution_count": null,
      "outputs": [
        {
          "output_type": "execute_result",
          "data": {
            "text/plain": [
              "   Unnamed: 0                               Clue  Answer Segmented Answer  \\\n",
              "0           0     cpa for example crossword clue  taxpro          tax pro   \n",
              "1           1             cordial crossword clue    warm             warm   \n",
              "2           2    joe without jolt crossword clue   decaf            decaf   \n",
              "3           3   bouillabaisse bit crossword clue  mussel           mussel   \n",
              "4           4  pre-gps travel aid crossword clue  aaamap          aaa map   \n",
              "\n",
              "   answer_length  \n",
              "0            6.0  \n",
              "1            4.0  \n",
              "2            5.0  \n",
              "3            6.0  \n",
              "4            6.0  "
            ],
            "text/html": [
              "\n",
              "  <div id=\"df-8cd57549-6c0f-4533-80e8-3b5a0cc0462b\" class=\"colab-df-container\">\n",
              "    <div>\n",
              "<style scoped>\n",
              "    .dataframe tbody tr th:only-of-type {\n",
              "        vertical-align: middle;\n",
              "    }\n",
              "\n",
              "    .dataframe tbody tr th {\n",
              "        vertical-align: top;\n",
              "    }\n",
              "\n",
              "    .dataframe thead th {\n",
              "        text-align: right;\n",
              "    }\n",
              "</style>\n",
              "<table border=\"1\" class=\"dataframe\">\n",
              "  <thead>\n",
              "    <tr style=\"text-align: right;\">\n",
              "      <th></th>\n",
              "      <th>Unnamed: 0</th>\n",
              "      <th>Clue</th>\n",
              "      <th>Answer</th>\n",
              "      <th>Segmented Answer</th>\n",
              "      <th>answer_length</th>\n",
              "    </tr>\n",
              "  </thead>\n",
              "  <tbody>\n",
              "    <tr>\n",
              "      <th>0</th>\n",
              "      <td>0</td>\n",
              "      <td>cpa for example crossword clue</td>\n",
              "      <td>taxpro</td>\n",
              "      <td>tax pro</td>\n",
              "      <td>6.0</td>\n",
              "    </tr>\n",
              "    <tr>\n",
              "      <th>1</th>\n",
              "      <td>1</td>\n",
              "      <td>cordial crossword clue</td>\n",
              "      <td>warm</td>\n",
              "      <td>warm</td>\n",
              "      <td>4.0</td>\n",
              "    </tr>\n",
              "    <tr>\n",
              "      <th>2</th>\n",
              "      <td>2</td>\n",
              "      <td>joe without jolt crossword clue</td>\n",
              "      <td>decaf</td>\n",
              "      <td>decaf</td>\n",
              "      <td>5.0</td>\n",
              "    </tr>\n",
              "    <tr>\n",
              "      <th>3</th>\n",
              "      <td>3</td>\n",
              "      <td>bouillabaisse bit crossword clue</td>\n",
              "      <td>mussel</td>\n",
              "      <td>mussel</td>\n",
              "      <td>6.0</td>\n",
              "    </tr>\n",
              "    <tr>\n",
              "      <th>4</th>\n",
              "      <td>4</td>\n",
              "      <td>pre-gps travel aid crossword clue</td>\n",
              "      <td>aaamap</td>\n",
              "      <td>aaa map</td>\n",
              "      <td>6.0</td>\n",
              "    </tr>\n",
              "  </tbody>\n",
              "</table>\n",
              "</div>\n",
              "    <div class=\"colab-df-buttons\">\n",
              "\n",
              "  <div class=\"colab-df-container\">\n",
              "    <button class=\"colab-df-convert\" onclick=\"convertToInteractive('df-8cd57549-6c0f-4533-80e8-3b5a0cc0462b')\"\n",
              "            title=\"Convert this dataframe to an interactive table.\"\n",
              "            style=\"display:none;\">\n",
              "\n",
              "  <svg xmlns=\"http://www.w3.org/2000/svg\" height=\"24px\" viewBox=\"0 -960 960 960\">\n",
              "    <path d=\"M120-120v-720h720v720H120Zm60-500h600v-160H180v160Zm220 220h160v-160H400v160Zm0 220h160v-160H400v160ZM180-400h160v-160H180v160Zm440 0h160v-160H620v160ZM180-180h160v-160H180v160Zm440 0h160v-160H620v160Z\"/>\n",
              "  </svg>\n",
              "    </button>\n",
              "\n",
              "  <style>\n",
              "    .colab-df-container {\n",
              "      display:flex;\n",
              "      gap: 12px;\n",
              "    }\n",
              "\n",
              "    .colab-df-convert {\n",
              "      background-color: #E8F0FE;\n",
              "      border: none;\n",
              "      border-radius: 50%;\n",
              "      cursor: pointer;\n",
              "      display: none;\n",
              "      fill: #1967D2;\n",
              "      height: 32px;\n",
              "      padding: 0 0 0 0;\n",
              "      width: 32px;\n",
              "    }\n",
              "\n",
              "    .colab-df-convert:hover {\n",
              "      background-color: #E2EBFA;\n",
              "      box-shadow: 0px 1px 2px rgba(60, 64, 67, 0.3), 0px 1px 3px 1px rgba(60, 64, 67, 0.15);\n",
              "      fill: #174EA6;\n",
              "    }\n",
              "\n",
              "    .colab-df-buttons div {\n",
              "      margin-bottom: 4px;\n",
              "    }\n",
              "\n",
              "    [theme=dark] .colab-df-convert {\n",
              "      background-color: #3B4455;\n",
              "      fill: #D2E3FC;\n",
              "    }\n",
              "\n",
              "    [theme=dark] .colab-df-convert:hover {\n",
              "      background-color: #434B5C;\n",
              "      box-shadow: 0px 1px 3px 1px rgba(0, 0, 0, 0.15);\n",
              "      filter: drop-shadow(0px 1px 2px rgba(0, 0, 0, 0.3));\n",
              "      fill: #FFFFFF;\n",
              "    }\n",
              "  </style>\n",
              "\n",
              "    <script>\n",
              "      const buttonEl =\n",
              "        document.querySelector('#df-8cd57549-6c0f-4533-80e8-3b5a0cc0462b button.colab-df-convert');\n",
              "      buttonEl.style.display =\n",
              "        google.colab.kernel.accessAllowed ? 'block' : 'none';\n",
              "\n",
              "      async function convertToInteractive(key) {\n",
              "        const element = document.querySelector('#df-8cd57549-6c0f-4533-80e8-3b5a0cc0462b');\n",
              "        const dataTable =\n",
              "          await google.colab.kernel.invokeFunction('convertToInteractive',\n",
              "                                                    [key], {});\n",
              "        if (!dataTable) return;\n",
              "\n",
              "        const docLinkHtml = 'Like what you see? Visit the ' +\n",
              "          '<a target=\"_blank\" href=https://colab.research.google.com/notebooks/data_table.ipynb>data table notebook</a>'\n",
              "          + ' to learn more about interactive tables.';\n",
              "        element.innerHTML = '';\n",
              "        dataTable['output_type'] = 'display_data';\n",
              "        await google.colab.output.renderOutput(dataTable, element);\n",
              "        const docLink = document.createElement('div');\n",
              "        docLink.innerHTML = docLinkHtml;\n",
              "        element.appendChild(docLink);\n",
              "      }\n",
              "    </script>\n",
              "  </div>\n",
              "\n",
              "\n",
              "<div id=\"df-8480b31e-70fd-438e-9fa7-2f8a8290fa5a\">\n",
              "  <button class=\"colab-df-quickchart\" onclick=\"quickchart('df-8480b31e-70fd-438e-9fa7-2f8a8290fa5a')\"\n",
              "            title=\"Suggest charts\"\n",
              "            style=\"display:none;\">\n",
              "\n",
              "<svg xmlns=\"http://www.w3.org/2000/svg\" height=\"24px\"viewBox=\"0 0 24 24\"\n",
              "     width=\"24px\">\n",
              "    <g>\n",
              "        <path d=\"M19 3H5c-1.1 0-2 .9-2 2v14c0 1.1.9 2 2 2h14c1.1 0 2-.9 2-2V5c0-1.1-.9-2-2-2zM9 17H7v-7h2v7zm4 0h-2V7h2v10zm4 0h-2v-4h2v4z\"/>\n",
              "    </g>\n",
              "</svg>\n",
              "  </button>\n",
              "\n",
              "<style>\n",
              "  .colab-df-quickchart {\n",
              "      --bg-color: #E8F0FE;\n",
              "      --fill-color: #1967D2;\n",
              "      --hover-bg-color: #E2EBFA;\n",
              "      --hover-fill-color: #174EA6;\n",
              "      --disabled-fill-color: #AAA;\n",
              "      --disabled-bg-color: #DDD;\n",
              "  }\n",
              "\n",
              "  [theme=dark] .colab-df-quickchart {\n",
              "      --bg-color: #3B4455;\n",
              "      --fill-color: #D2E3FC;\n",
              "      --hover-bg-color: #434B5C;\n",
              "      --hover-fill-color: #FFFFFF;\n",
              "      --disabled-bg-color: #3B4455;\n",
              "      --disabled-fill-color: #666;\n",
              "  }\n",
              "\n",
              "  .colab-df-quickchart {\n",
              "    background-color: var(--bg-color);\n",
              "    border: none;\n",
              "    border-radius: 50%;\n",
              "    cursor: pointer;\n",
              "    display: none;\n",
              "    fill: var(--fill-color);\n",
              "    height: 32px;\n",
              "    padding: 0;\n",
              "    width: 32px;\n",
              "  }\n",
              "\n",
              "  .colab-df-quickchart:hover {\n",
              "    background-color: var(--hover-bg-color);\n",
              "    box-shadow: 0 1px 2px rgba(60, 64, 67, 0.3), 0 1px 3px 1px rgba(60, 64, 67, 0.15);\n",
              "    fill: var(--button-hover-fill-color);\n",
              "  }\n",
              "\n",
              "  .colab-df-quickchart-complete:disabled,\n",
              "  .colab-df-quickchart-complete:disabled:hover {\n",
              "    background-color: var(--disabled-bg-color);\n",
              "    fill: var(--disabled-fill-color);\n",
              "    box-shadow: none;\n",
              "  }\n",
              "\n",
              "  .colab-df-spinner {\n",
              "    border: 2px solid var(--fill-color);\n",
              "    border-color: transparent;\n",
              "    border-bottom-color: var(--fill-color);\n",
              "    animation:\n",
              "      spin 1s steps(1) infinite;\n",
              "  }\n",
              "\n",
              "  @keyframes spin {\n",
              "    0% {\n",
              "      border-color: transparent;\n",
              "      border-bottom-color: var(--fill-color);\n",
              "      border-left-color: var(--fill-color);\n",
              "    }\n",
              "    20% {\n",
              "      border-color: transparent;\n",
              "      border-left-color: var(--fill-color);\n",
              "      border-top-color: var(--fill-color);\n",
              "    }\n",
              "    30% {\n",
              "      border-color: transparent;\n",
              "      border-left-color: var(--fill-color);\n",
              "      border-top-color: var(--fill-color);\n",
              "      border-right-color: var(--fill-color);\n",
              "    }\n",
              "    40% {\n",
              "      border-color: transparent;\n",
              "      border-right-color: var(--fill-color);\n",
              "      border-top-color: var(--fill-color);\n",
              "    }\n",
              "    60% {\n",
              "      border-color: transparent;\n",
              "      border-right-color: var(--fill-color);\n",
              "    }\n",
              "    80% {\n",
              "      border-color: transparent;\n",
              "      border-right-color: var(--fill-color);\n",
              "      border-bottom-color: var(--fill-color);\n",
              "    }\n",
              "    90% {\n",
              "      border-color: transparent;\n",
              "      border-bottom-color: var(--fill-color);\n",
              "    }\n",
              "  }\n",
              "</style>\n",
              "\n",
              "  <script>\n",
              "    async function quickchart(key) {\n",
              "      const quickchartButtonEl =\n",
              "        document.querySelector('#' + key + ' button');\n",
              "      quickchartButtonEl.disabled = true;  // To prevent multiple clicks.\n",
              "      quickchartButtonEl.classList.add('colab-df-spinner');\n",
              "      try {\n",
              "        const charts = await google.colab.kernel.invokeFunction(\n",
              "            'suggestCharts', [key], {});\n",
              "      } catch (error) {\n",
              "        console.error('Error during call to suggestCharts:', error);\n",
              "      }\n",
              "      quickchartButtonEl.classList.remove('colab-df-spinner');\n",
              "      quickchartButtonEl.classList.add('colab-df-quickchart-complete');\n",
              "    }\n",
              "    (() => {\n",
              "      let quickchartButtonEl =\n",
              "        document.querySelector('#df-8480b31e-70fd-438e-9fa7-2f8a8290fa5a button');\n",
              "      quickchartButtonEl.style.display =\n",
              "        google.colab.kernel.accessAllowed ? 'block' : 'none';\n",
              "    })();\n",
              "  </script>\n",
              "</div>\n",
              "\n",
              "    </div>\n",
              "  </div>\n"
            ]
          },
          "metadata": {},
          "execution_count": 5
        }
      ]
    },
    {
      "cell_type": "code",
      "source": [
        "clue_answer_df['Unsegmented Answer'] = clue_answer_df['Segmented Answer'].apply(lambda x: str(x).replace(' ', ''))\n",
        "all_answers = clue_answer_df['Unsegmented Answer'].unique().tolist()"
      ],
      "metadata": {
        "id": "AIU4j9rOPaIX"
      },
      "execution_count": null,
      "outputs": []
    },
    {
      "cell_type": "code",
      "source": [
        "def get_random_clue_answer_pair(no_samples = 1, clue_answer_df = None):\n",
        "    '''\n",
        "    Should get me a random clue-answer pair from the dataset\n",
        "    '''\n",
        "    if clue_answer_df is None:\n",
        "        raise ValueError(\"clue_answer_df must be provided.\")\n",
        "\n",
        "    random_indices = np.random.choice(clue_answer_df.index, size = no_samples, replace=False)\n",
        "    random_sample = clue_answer_df.loc[random_indices]\n",
        "    random_clues = random_sample['Clue'].tolist()\n",
        "    random_answers = random_sample['Unsegmented Answer'].tolist()\n",
        "\n",
        "    return zip(random_clues, random_answers)"
      ],
      "metadata": {
        "id": "JDaMIIYwSE67"
      },
      "execution_count": null,
      "outputs": []
    },
    {
      "cell_type": "code",
      "source": [
        "def get_randomly_edited_string(input_str, no_of_generation):\n",
        "    '''\n",
        "        Generate random edit-distance for 1 or 2 edit-distance randomly\n",
        "        Input: input_str -> string; no_of_generation -> total generation in action\n",
        "        Returns -> A list of 20-30 random strings with 1 or 2 edit distances.\n",
        "    '''\n",
        "    result = []\n",
        "\n",
        "    i = 0\n",
        "    while i < no_of_generation:\n",
        "        choice = random.choice([1, 2])\n",
        "\n",
        "        if choice == 1:\n",
        "            # 1-edit distance\n",
        "            edit_pos = random.randint(0, len(input_str) - 1)\n",
        "            edit_char = random.choice(string.ascii_lowercase)\n",
        "            new_str = input_str[:edit_pos] + edit_char + input_str[edit_pos + 1:]\n",
        "\n",
        "        else:\n",
        "            # 2-edit distances\n",
        "            edit_pos1, edit_pos2 = random.sample(range(len(input_str)), 2)\n",
        "            edit_char1, edit_char2 = random.choices(string.ascii_lowercase, k = 2)\n",
        "            new_str = (\n",
        "                input_str[:edit_pos1]\n",
        "                + edit_char1\n",
        "                + input_str[edit_pos1 + 1 : edit_pos2]\n",
        "                + edit_char2\n",
        "                + input_str[edit_pos2 + 1:]\n",
        "            )\n",
        "\n",
        "        i += 1\n",
        "        if new_str[:len(input_str)] != input_str:\n",
        "            result.append((new_str[:len(input_str)]))\n",
        "        else:\n",
        "            i -= 1\n",
        "\n",
        "    return result\n",
        "\n",
        "'''\n",
        "    Plan out - lets takes randomly done edited 1 or 2 distance answers with equal string length\n",
        "             - take 10-random answers from the dataset\n",
        "'''\n",
        "def get_random_answers_from_dataset(answer, all_answers, no_of_generation):\n",
        "    output_random_answers = []\n",
        "    range_of_random_indices = [random.randint(0, len(all_answers)) for _ in range(30)]\n",
        "\n",
        "    i = 0\n",
        "    while i < no_of_generation:\n",
        "        random_index = random.randint(0, len(all_answers))\n",
        "\n",
        "        if all_answers[random_index] != answer and len(all_answers[random_index]) == len(answer):\n",
        "            output_random_answers.append(all_answers[random_index])\n",
        "            i += 1\n",
        "\n",
        "    return output_random_answers"
      ],
      "metadata": {
        "id": "dkoJJs5B7cSZ"
      },
      "execution_count": null,
      "outputs": []
    },
    {
      "cell_type": "code",
      "source": [
        "def get_negative_answers(answer, all_answers, no_randomly_edited, no_random_from_dataset):\n",
        "    candidate_negatives = []\n",
        "\n",
        "    randomly_edited_strings = get_randomly_edited_string(answer, no_randomly_edited)\n",
        "    random_answers_from_dataset = get_random_answers_from_dataset('example', all_answers, no_random_from_dataset)\n",
        "\n",
        "    candidate_negatives.extend(randomly_edited_strings)\n",
        "    candidate_negatives.extend(random_answers_from_dataset)\n",
        "\n",
        "    return candidate_negatives"
      ],
      "metadata": {
        "id": "9TV82YAgFEZ_"
      },
      "execution_count": null,
      "outputs": []
    },
    {
      "cell_type": "code",
      "source": [
        "def preprocess_clue_fn(clue):\n",
        "    clue = str(clue)\n",
        "    clue = ''.join(c for c in unicodedata.normalize('NFD', clue) if unicodedata.category(c) != 'Mn')\n",
        "\n",
        "    clue = re.sub(\"\\x17|\\x18|\\x93|\\x94|“|”|''|\\\"\\\"\", \"\\\"\", clue)\n",
        "    clue = re.sub(\"\\x85|…\", \"...\", clue)\n",
        "    clue = re.sub(\"\\x91|\\x92|‘|’\", \"'\", clue)\n",
        "\n",
        "    clue = re.sub(\"‚\", \",\", clue)\n",
        "    clue = re.sub(\"—|–\", \"-\", clue)\n",
        "    clue = re.sub(\"¢\", \" cents\", clue)\n",
        "    clue = re.sub(\"¿|¡|^;|\\{|\\}\", \"\", clue)\n",
        "    clue = re.sub(\"÷\", \"division\", clue)\n",
        "    clue = re.sub(\"°\", \" degrees\", clue)\n",
        "\n",
        "    euro = re.search(\"^£[0-9]+(,*[0-9]*){0,}| £[0-9]+(,*[0-9]*){0,}\", clue)\n",
        "    if euro:\n",
        "        num = clue[:euro.end()]\n",
        "        rest_clue = clue[euro.end():]\n",
        "        clue = num + \" Euros\" + rest_clue\n",
        "        clue = re.sub(\", Euros\", \" Euros\", clue)\n",
        "        clue = re.sub(\"Euros [Mm]illion\", \"million Euros\", clue)\n",
        "        clue = re.sub(\"Euros [Bb]illion\", \"billion Euros\", clue)\n",
        "        clue = re.sub(\"Euros[Kk]\", \"K Euros\", clue)\n",
        "        clue = re.sub(\" K Euros\", \"K Euros\", clue)\n",
        "        clue = re.sub(\"£\", \"\", clue)\n",
        "\n",
        "    clue = re.sub(\" *\\(\\d{1,},*\\)$| *\\(\\d{1,},* \\d{1,}\\)$\", \"\", clue)\n",
        "\n",
        "    clue = re.sub(\"&amp;\", \"&\", clue)\n",
        "    clue = re.sub(\"&lt;\", \"<\", clue)\n",
        "    clue = re.sub(\"&gt;\", \">\", clue)\n",
        "\n",
        "    clue = re.sub(\"e\\.g\\.|for ex\\.\", \"for example\", clue)\n",
        "    clue = re.sub(\": [Aa]bbreviat\\.|: [Aa]bbrev\\.|: [Aa]bbrv\\.|: [Aa]bbrv|: [Aa]bbr\\.|: [Aa]bbr\", \" abbreviation\", clue)\n",
        "    clue = re.sub(\"abbr\\.|abbrv\\.\", \"abbreviation\", clue)\n",
        "    clue = re.sub(\"Abbr\\.|Abbrv\\.\", \"Abbreviation\", clue)\n",
        "    clue = re.sub(\"\\(anag\\.\\)|\\(anag\\)\", \"(anagram)\", clue)\n",
        "    clue = re.sub(\"org\\.\", \"organization\", clue)\n",
        "    clue = re.sub(\"Org\\.\", \"Organization\", clue)\n",
        "    clue = re.sub(\"Grp\\.|Gp\\.\", \"Group\", clue)\n",
        "    clue = re.sub(\"grp\\.|gp\\.\", \"group\", clue)\n",
        "    clue = re.sub(\": Sp\\.\", \" (Spanish)\", clue)\n",
        "    clue = re.sub(\"\\(Sp\\.\\)|Sp\\.\", \"(Spanish)\", clue)\n",
        "    clue = re.sub(\"Ave\\.\", \"Avenue\", clue)\n",
        "    clue = re.sub(\"Sch\\.\", \"School\", clue)\n",
        "    clue = re.sub(\"sch\\.\", \"school\", clue)\n",
        "    clue = re.sub(\"Agcy\\.\", \"Agency\", clue)\n",
        "    clue = re.sub(\"agcy\\.\", \"agency\", clue)\n",
        "    clue = re.sub(\"Co\\.\", \"Company\", clue)\n",
        "    clue = re.sub(\"co\\.\", \"company\", clue)\n",
        "    clue = re.sub(\"No\\.\", \"Number\", clue)\n",
        "    clue = re.sub(\"no\\.\", \"number\", clue)\n",
        "    clue = re.sub(\": [Vv]ar\\.\", \" variable\", clue)\n",
        "    clue = re.sub(\"Subj\\.\", \"Subject\", clue)\n",
        "    clue = re.sub(\"subj\\.\", \"subject\", clue)\n",
        "    clue = re.sub(\"Subjs\\.\", \"Subjects\", clue)\n",
        "    clue = re.sub(\"subjs\\.\", \"subjects\", clue)\n",
        "\n",
        "    theme_clue = re.search(\"^.+\\|[A-Z]{1,}\", clue)\n",
        "    if theme_clue:\n",
        "        clue = re.sub(\"\\|\", \" | \", clue)\n",
        "\n",
        "    if \"Partner of\" in clue:\n",
        "        clue = re.sub(\"Partner of\", \"\", clue)\n",
        "        clue = clue + \" and ___\"\n",
        "\n",
        "    link = re.search(\"^.+-.+ [Ll]ink$\", clue)\n",
        "    if link:\n",
        "        no_link = re.search(\"^.+-.+ \", clue)\n",
        "        x_y = clue[no_link.start():no_link.end() - 1]\n",
        "        x_y_lst = x_y.split(\"-\")\n",
        "        clue = x_y_lst[0] + \" ___ \" + x_y_lst[1]\n",
        "\n",
        "    follower = re.search(\"^.+ [Ff]ollower$\", clue)\n",
        "    if follower:\n",
        "        no_follower = re.search(\"^.+ \", clue)\n",
        "        x = clue[:no_follower.end() - 1]\n",
        "        clue = x + \" ___\"\n",
        "\n",
        "    preceder = re.search(\"^.+ [Pp]receder$\", clue)\n",
        "    if preceder:\n",
        "        no_preceder = re.search(\"^.+ \", clue)\n",
        "        x = clue[:no_preceder.end() - 1]\n",
        "        clue = \"___ \" + x\n",
        "\n",
        "    if re.search(\"--[^A-Za-z]|--$\", clue):\n",
        "        clue = re.sub(\"--\", \"__\", clue)\n",
        "    if not re.search(\"_-[A-Za-z]|_-$\", clue):\n",
        "        clue = re.sub(\"_-\", \"__\", clue)\n",
        "\n",
        "    clue = re.sub(\"_{2,}\", \"___\", clue)\n",
        "\n",
        "    clue = re.sub(\"\\?$\", \" (wordplay)\", clue)\n",
        "\n",
        "    nonverbal = re.search(\"\\[[^0-9]+,* *[^0-9]*\\]\", clue)\n",
        "    if nonverbal:\n",
        "        clue = re.sub(\"\\[|\\]\", \"\", clue)\n",
        "        clue = clue + \" (nonverbal)\"\n",
        "\n",
        "    if clue[:4] == \"\\\"\\\"\\\" \" and clue[-4:] == \" \\\"\\\"\\\"\":\n",
        "        clue = \"\\\"\" + clue[4:-4] + \"\\\"\"\n",
        "    if clue[:4] == \"''' \" and clue[-4:] == \" '''\":\n",
        "        clue = \"'\" + clue[4:-4] + \"'\"\n",
        "    if clue[:3] == \"\\\"\\\"\\\"\" and clue[-3:] == \"\\\"\\\"\\\"\":\n",
        "        clue = \"\\\"\" + clue[3:-3] + \"\\\"\"\n",
        "    if clue[:3] == \"'''\" and clue[-3:] == \"'''\":\n",
        "        clue = \"'\" + clue[3:-3] + \"'\"\n",
        "\n",
        "    return clue\n",
        "\n",
        "def post_process_clue(clue):\n",
        "    clue = preprocess_clue_fn(clue)\n",
        "    if clue[-3:] == '. .':\n",
        "        clue = clue[:-3]\n",
        "    elif clue[-3:] == ' ..':\n",
        "        clue = clue[:-3]\n",
        "    elif clue[-2:] == '..':\n",
        "        clue = clue[:-2]\n",
        "    elif clue[-1] == '.':\n",
        "        clue = clue[:-1]\n",
        "    return clue"
      ],
      "metadata": {
        "id": "UM3ZZ3wuF66K"
      },
      "execution_count": null,
      "outputs": []
    },
    {
      "cell_type": "code",
      "source": [
        "def get_scores(clue, answer_list, model, tokenizer):\n",
        "    segmented_answer_list = []\n",
        "    device = model.device\n",
        "\n",
        "    for ans in answer_list:\n",
        "        segmented_answer_list.append(\" \".join(segment(ans.lower())))\n",
        "    clue = post_process_clue(clue)\n",
        "    scores = []\n",
        "\n",
        "    with torch.no_grad(), torch.inference_mode():\n",
        "        input = tokenizer(['Q: ' + clue], return_tensors = 'pt')['input_ids'].to(device)\n",
        "        model.eval()\n",
        "\n",
        "        for answer in segmented_answer_list:\n",
        "            label = tokenizer([answer], return_tensors = 'pt')['input_ids'].to(device)\n",
        "            loss = model(input, labels = label)\n",
        "            answer_length = label.shape[1]\n",
        "            score = loss[0].item() * answer_length\n",
        "            scores.append(score)\n",
        "\n",
        "    return scores"
      ],
      "metadata": {
        "id": "89aJ4mL4Fzz8"
      },
      "execution_count": null,
      "outputs": []
    },
    {
      "cell_type": "code",
      "source": [
        "device = torch.device('cuda' if torch.cuda.is_available() else 'cpu')\n",
        "t5_tokenizer = AutoTokenizer.from_pretrained(\"t5-small\")\n",
        "t5_model = T5ForConditionalGeneration.from_pretrained(t5_reranker_path)\n",
        "t5_model.eval().to(device)\n",
        "\n",
        "byt5_tokenizer = AutoTokenizer.from_pretrained(\"google/byt5-small\")\n",
        "byt5_model = T5ForConditionalGeneration.from_pretrained(byt5_reranker_path)\n",
        "byt5_model.eval().to(device)\n",
        "print()"
      ],
      "metadata": {
        "colab": {
          "base_uri": "https://localhost:8080/"
        },
        "id": "EcgRP-IBP_fQ",
        "outputId": "9ad6251f-d222-489b-df83-6a3f0c7b4a0b"
      },
      "execution_count": null,
      "outputs": [
        {
          "output_type": "stream",
          "name": "stderr",
          "text": [
            "/usr/local/lib/python3.10/dist-packages/huggingface_hub/utils/_token.py:72: UserWarning: \n",
            "The secret `HF_TOKEN` does not exist in your Colab secrets.\n",
            "To authenticate with the Hugging Face Hub, create a token in your settings tab (https://huggingface.co/settings/tokens), set it as secret in your Google Colab and restart your session.\n",
            "You will be able to reuse this secret in all of your notebooks.\n",
            "Please note that authentication is recommended but still optional to access public models or datasets.\n",
            "  warnings.warn(\n"
          ]
        },
        {
          "output_type": "stream",
          "name": "stdout",
          "text": [
            "\n"
          ]
        }
      ]
    },
    {
      "cell_type": "code",
      "source": [
        "def get_test_dataset(test_size, CA_df, answers_list):\n",
        "    size = test_size\n",
        "\n",
        "    test_dataset = []\n",
        "    clue_answer_pairs = get_random_clue_answer_pair(size, CA_df)\n",
        "\n",
        "    for clue, answer in clue_answer_pairs:\n",
        "        candidate_negatives = get_negative_answers(answer, answers_list, 75, 25)\n",
        "        candidate_negatives.insert(0, answer)\n",
        "        test_dataset.append([clue, candidate_negatives])\n",
        "    return test_dataset"
      ],
      "metadata": {
        "id": "i3ZBKLkZcCe-"
      },
      "execution_count": null,
      "outputs": []
    },
    {
      "cell_type": "code",
      "source": [
        "def get_recall_k(ranks, k):\n",
        "    count = 0\n",
        "    for rank in ranks:\n",
        "        if rank <= k:\n",
        "            count += 1\n",
        "    return count / len(ranks)\n",
        "\n",
        "def mean_reciprocal_rank(ranks):\n",
        "    return sum(1.0 / rank for rank in ranks) / len(ranks)"
      ],
      "metadata": {
        "id": "q1boNxKAjyb0"
      },
      "execution_count": null,
      "outputs": []
    },
    {
      "cell_type": "code",
      "source": [
        "test_dataset = get_test_dataset(500, clue_answer_df, all_answers)"
      ],
      "metadata": {
        "id": "7JR6tDePdvXU"
      },
      "execution_count": null,
      "outputs": []
    },
    {
      "cell_type": "code",
      "source": [
        "all_scores = []\n",
        "for clue, answer_list in tqdm(test_dataset, ncols = 120):\n",
        "    scores = []\n",
        "    scores = get_scores(clue, answer_list, t5_model, t5_tokenizer)\n",
        "    all_scores.append(scores)\n",
        "\n",
        "ranks = []\n",
        "for score_list in all_scores:\n",
        "    ranks.append(score_list.index(min(score_list)) + 1)\n",
        "\n",
        "for k in [1, 2, 5, 10, 20, 30, 40, 50, 60, 70, 80, 90, 100]:\n",
        "    print(f\"Recall @ {k}: {get_recall_k(ranks, k)}\")"
      ],
      "metadata": {
        "colab": {
          "base_uri": "https://localhost:8080/"
        },
        "id": "j0Vwwpw2EDwa",
        "outputId": "28419171-d5e3-4142-8256-917d1081dcac"
      },
      "execution_count": null,
      "outputs": [
        {
          "output_type": "stream",
          "name": "stderr",
          "text": [
            "100%|█████████████████████████████████████████████████████████████████████████████████| 500/500 [12:00<00:00,  1.44s/it]"
          ]
        },
        {
          "output_type": "stream",
          "name": "stdout",
          "text": [
            "Recall @ 1: 0.774\n",
            "Recall @ 2: 0.774\n",
            "Recall @ 5: 0.778\n",
            "Recall @ 10: 0.79\n",
            "Recall @ 20: 0.8\n",
            "Recall @ 30: 0.808\n",
            "Recall @ 40: 0.822\n",
            "Recall @ 50: 0.828\n",
            "Recall @ 60: 0.84\n",
            "Recall @ 70: 0.846\n",
            "Recall @ 80: 0.884\n",
            "Recall @ 90: 0.946\n",
            "Recall @ 100: 1.0\n"
          ]
        },
        {
          "output_type": "stream",
          "name": "stderr",
          "text": [
            "\n"
          ]
        }
      ]
    },
    {
      "cell_type": "code",
      "source": [
        "mean_reciprocal_rank(ranks)"
      ],
      "metadata": {
        "colab": {
          "base_uri": "https://localhost:8080/"
        },
        "id": "H1FZd80vl3kG",
        "outputId": "820c6ab7-91ce-403c-f16c-3e21f770f60c"
      },
      "execution_count": null,
      "outputs": [
        {
          "output_type": "execute_result",
          "data": {
            "text/plain": [
              "0.7800076603218346"
            ]
          },
          "metadata": {},
          "execution_count": 72
        }
      ]
    },
    {
      "cell_type": "code",
      "source": [
        "all_scores = []\n",
        "for clue, answer_list in tqdm(test_dataset, ncols = 120):\n",
        "    scores = []\n",
        "    scores = get_scores(clue, answer_list, byt5_model, byt5_tokenizer)\n",
        "    all_scores.append(scores)\n",
        "\n",
        "ranks = []\n",
        "for score_list in all_scores:\n",
        "    ranks.append(score_list.index(min(score_list)) + 1)\n",
        "\n",
        "for k in [1, 2, 5, 10, 20, 30, 40, 50, 60, 70, 80, 90, 100]:\n",
        "    print(f\"Recall @ {k}: {get_recall_k(ranks, k)}\")"
      ],
      "metadata": {
        "colab": {
          "base_uri": "https://localhost:8080/"
        },
        "id": "fTU-xDMbWVZi",
        "outputId": "cfbc570f-9b2f-4cf2-9b9d-3e06a90069de"
      },
      "execution_count": null,
      "outputs": [
        {
          "output_type": "stream",
          "name": "stderr",
          "text": [
            "100%|█████████████████████████████████████████████████████████████████████████████████| 500/500 [15:39<00:00,  1.88s/it]"
          ]
        },
        {
          "output_type": "stream",
          "name": "stdout",
          "text": [
            "Recall @ 1: 0.63\n",
            "Recall @ 2: 0.632\n",
            "Recall @ 5: 0.64\n",
            "Recall @ 10: 0.652\n",
            "Recall @ 20: 0.68\n",
            "Recall @ 30: 0.694\n",
            "Recall @ 40: 0.712\n",
            "Recall @ 50: 0.722\n",
            "Recall @ 60: 0.742\n",
            "Recall @ 70: 0.762\n",
            "Recall @ 80: 0.814\n",
            "Recall @ 90: 0.914\n",
            "Recall @ 100: 0.996\n"
          ]
        },
        {
          "output_type": "stream",
          "name": "stderr",
          "text": [
            "\n"
          ]
        }
      ]
    },
    {
      "cell_type": "code",
      "source": [
        "mean_reciprocal_rank(ranks)"
      ],
      "metadata": {
        "colab": {
          "base_uri": "https://localhost:8080/"
        },
        "id": "rT3PS9ppgNWJ",
        "outputId": "00b9ab13-f089-47ec-acd0-0c2a25be1f87"
      },
      "execution_count": null,
      "outputs": [
        {
          "output_type": "execute_result",
          "data": {
            "text/plain": [
              "0.640894651759727"
            ]
          },
          "metadata": {},
          "execution_count": 74
        }
      ]
    },
    {
      "cell_type": "code",
      "source": [],
      "metadata": {
        "id": "KU-9uUnMoCsE"
      },
      "execution_count": null,
      "outputs": []
    }
  ]
}