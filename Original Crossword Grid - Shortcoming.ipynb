{
 "cells": [
  {
   "cell_type": "code",
   "execution_count": 3,
   "id": "943e3bf3",
   "metadata": {},
   "outputs": [],
   "source": [
    "import datetime\n",
    "\n",
    "from utils import fetch_nyt_crossword\n",
    "from solver.Crossword import Crossword"
   ]
  },
  {
   "cell_type": "code",
   "execution_count": 4,
   "id": "0be40601",
   "metadata": {},
   "outputs": [
    {
     "name": "stdout",
     "output_type": "stream",
     "text": [
      "01/21/2021\n"
     ]
    }
   ],
   "source": [
    "date_ = datetime.date(2021, 1, 21)\n",
    "formatted_date = date_.strftime('%m/%d/%Y')\n",
    "print(formatted_date)\n",
    "\n",
    "puzzle = fetch_nyt_crossword(formatted_date)"
   ]
  },
  {
   "cell_type": "code",
   "execution_count": 16,
   "id": "63ee606f",
   "metadata": {},
   "outputs": [
    {
     "name": "stdout",
     "output_type": "stream",
     "text": [
      "H A B I B - S N A P - E D S - \n",
      "A M A R O - C A N I - V E T S \n",
      "M O D E R N I S T S - I C E E \n",
      "M E T - A C E - I M A L O N E \n",
      "- B A R T O N - - O D E D O N \n",
      "C O K I E - T S P - D Y E S - \n",
      "D I E D - S I T U A T E - - - \n",
      "C D S - Y E S O R N O - M F R \n",
      "- - - C A S T L E S - A R E A \n",
      "- A C H Y - S I C - B I P E D \n",
      "P R O A M S - - H A I L E D - \n",
      "D E G R E E S - A U G - A B E \n",
      "A N N A - T U R N S I G N A L \n",
      "S T A D - I M A C - F A U C I \n",
      "- I C E - N O P E - S I T K A \n"
     ]
    }
   ],
   "source": [
    "for row in puzzle['grid']:\n",
    "    for ele in row:\n",
    "        if isinstance(ele, list):\n",
    "            print(ele[1], end = ' ')\n",
    "        else:\n",
    "            print(\"- \", end = '')\n",
    "    print()"
   ]
  }
 ],
 "metadata": {
  "kernelspec": {
   "display_name": "Python 3 (ipykernel)",
   "language": "python",
   "name": "python3"
  },
  "language_info": {
   "codemirror_mode": {
    "name": "ipython",
    "version": 3
   },
   "file_extension": ".py",
   "mimetype": "text/x-python",
   "name": "python",
   "nbconvert_exporter": "python",
   "pygments_lexer": "ipython3",
   "version": "3.11.4"
  }
 },
 "nbformat": 4,
 "nbformat_minor": 5
}
