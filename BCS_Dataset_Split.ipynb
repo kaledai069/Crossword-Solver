{
  "nbformat": 4,
  "nbformat_minor": 0,
  "metadata": {
    "colab": {
      "provenance": [],
      "authorship_tag": "ABX9TyPvraIgMpRvxCBc7/Q61m/A",
      "include_colab_link": true
    },
    "kernelspec": {
      "name": "python3",
      "display_name": "Python 3"
    },
    "language_info": {
      "name": "python"
    }
  },
  "cells": [
    {
      "cell_type": "markdown",
      "metadata": {
        "id": "view-in-github",
        "colab_type": "text"
      },
      "source": [
        "<a href=\"https://colab.research.google.com/github/kaledai069/Crossword-Solver-A-Neural-Transformer-based-Approach/blob/master/BCS_Dataset_Split.ipynb\" target=\"_parent\"><img src=\"https://colab.research.google.com/assets/colab-badge.svg\" alt=\"Open In Colab\"/></a>"
      ]
    },
    {
      "cell_type": "code",
      "source": [
        "from google.colab import drive\n",
        "drive.mount('/content/gdrive')"
      ],
      "metadata": {
        "colab": {
          "base_uri": "https://localhost:8080/"
        },
        "id": "T1BDee-JMQFD",
        "outputId": "5bbda179-8669-4bb5-8aa0-6024adc75c37"
      },
      "execution_count": 63,
      "outputs": [
        {
          "output_type": "stream",
          "name": "stdout",
          "text": [
            "Mounted at /content/gdrive\n"
          ]
        }
      ]
    },
    {
      "cell_type": "markdown",
      "source": [
        "**Lets Split the BCS - Train-Validation Dataset into Shards for Training DistilBERT**"
      ],
      "metadata": {
        "id": "wVDvYAl2Huwi"
      }
    },
    {
      "cell_type": "code",
      "source": [
        "!pip install -q git+https://github.com/alexdej/puzpy.git\n",
        "!pip install -q xword-dl\n",
        "!pip install -q wordsegment"
      ],
      "metadata": {
        "colab": {
          "base_uri": "https://localhost:8080/"
        },
        "id": "6mq16aw4IYF1",
        "outputId": "1560ffbb-81de-4ad3-e667-412bda0791cf"
      },
      "execution_count": 57,
      "outputs": [
        {
          "output_type": "stream",
          "name": "stdout",
          "text": [
            "  Preparing metadata (setup.py) ... \u001b[?25l\u001b[?25hdone\n",
            "  Building wheel for puzpy (setup.py) ... \u001b[?25l\u001b[?25hdone\n",
            "\u001b[31mERROR: pip's dependency resolver does not currently take into account all the packages that are installed. This behaviour is the source of the following dependency conflicts.\n",
            "xword-dl 2023.12.2 requires puzpy==0.2.5, but you have puzpy 0.2.4 which is incompatible.\u001b[0m\u001b[31m\n",
            "\u001b[2K     \u001b[90m━━━━━━━━━━━━━━━━━━━━━━━━━━━━━━━━━━━━━━━━\u001b[0m \u001b[32m4.8/4.8 MB\u001b[0m \u001b[31m24.1 MB/s\u001b[0m eta \u001b[36m0:00:00\u001b[0m\n",
            "\u001b[?25h"
          ]
        }
      ]
    },
    {
      "cell_type": "markdown",
      "source": [
        "#### Lets accumulate all the CSV file from 2021 first"
      ],
      "metadata": {
        "id": "_Ep0_f1VEk8a"
      }
    },
    {
      "cell_type": "code",
      "source": [
        "import unicodedata\n",
        "import re\n",
        "import numpy as np\n",
        "import matplotlib.pyplot as plt\n",
        "import datetime\n",
        "import subprocess\n",
        "import puz\n",
        "import glob\n",
        "import os\n",
        "import json\n",
        "import pandas as pd\n",
        "\n",
        "from tqdm import tqdm\n",
        "from pprint import pprint\n",
        "from wordsegment import load, segment\n",
        "from sklearn.model_selection import train_test_split\n",
        "load()"
      ],
      "metadata": {
        "id": "sH9Wl4ThFXbh"
      },
      "execution_count": 118,
      "outputs": []
    },
    {
      "cell_type": "markdown",
      "source": [
        "#### Preprocess Clues"
      ],
      "metadata": {
        "id": "_0bkvWayKqXP"
      }
    },
    {
      "cell_type": "code",
      "source": [
        "def preprocess_clue_fn(clue):\n",
        "    clue = str(clue)\n",
        "\n",
        "    clue = ''.join(c for c in unicodedata.normalize('NFD', clue) if unicodedata.category(c) != 'Mn')\n",
        "\n",
        "    clue = re.sub(\"\\x17|\\x18|\\x93|\\x94|“|”|''|\\\"\\\"\", \"\\\"\", clue)\n",
        "    clue = re.sub(\"\\x85|…\", \"...\", clue)\n",
        "    clue = re.sub(\"\\x91|\\x92|‘|’\", \"'\", clue)\n",
        "\n",
        "    clue = re.sub(\"‚\", \",\", clue)\n",
        "    clue = re.sub(\"—|–\", \"-\", clue)\n",
        "    clue = re.sub(\"¢\", \" cents\", clue)\n",
        "    clue = re.sub(\"¿|¡|^;|\\{|\\}\", \"\", clue)\n",
        "    clue = re.sub(\"÷\", \"division\", clue)\n",
        "    clue = re.sub(\"°\", \" degrees\", clue)\n",
        "\n",
        "    euro = re.search(\"^£[0-9]+(,*[0-9]*){0,}| £[0-9]+(,*[0-9]*){0,}\", clue)\n",
        "    if euro:\n",
        "        num = clue[:euro.end()]\n",
        "        rest_clue = clue[euro.end():]\n",
        "        clue = num + \" Euros\" + rest_clue\n",
        "        clue = re.sub(\", Euros\", \" Euros\", clue)\n",
        "        clue = re.sub(\"Euros [Mm]illion\", \"million Euros\", clue)\n",
        "        clue = re.sub(\"Euros [Bb]illion\", \"billion Euros\", clue)\n",
        "        clue = re.sub(\"Euros[Kk]\", \"K Euros\", clue)\n",
        "        clue = re.sub(\" K Euros\", \"K Euros\", clue)\n",
        "        clue = re.sub(\"£\", \"\", clue)\n",
        "\n",
        "    clue = re.sub(\" *\\(\\d{1,},*\\)$| *\\(\\d{1,},* \\d{1,}\\)$\", \"\", clue)\n",
        "\n",
        "    clue = re.sub(\"&amp;\", \"&\", clue)\n",
        "    clue = re.sub(\"&lt;\", \"<\", clue)\n",
        "    clue = re.sub(\"&gt;\", \">\", clue)\n",
        "\n",
        "    clue = re.sub(\"e\\.g\\.|for ex\\.\", \"for example\", clue)\n",
        "    clue = re.sub(\": [Aa]bbreviat\\.|: [Aa]bbrev\\.|: [Aa]bbrv\\.|: [Aa]bbrv|: [Aa]bbr\\.|: [Aa]bbr\", \" abbreviation\", clue)\n",
        "    clue = re.sub(\"abbr\\.|abbrv\\.\", \"abbreviation\", clue)\n",
        "    clue = re.sub(\"Abbr\\.|Abbrv\\.\", \"Abbreviation\", clue)\n",
        "    clue = re.sub(\"\\(anag\\.\\)|\\(anag\\)\", \"(anagram)\", clue)\n",
        "    clue = re.sub(\"org\\.\", \"organization\", clue)\n",
        "    clue = re.sub(\"Org\\.\", \"Organization\", clue)\n",
        "    clue = re.sub(\"Grp\\.|Gp\\.\", \"Group\", clue)\n",
        "    clue = re.sub(\"grp\\.|gp\\.\", \"group\", clue)\n",
        "    clue = re.sub(\": Sp\\.\", \" (Spanish)\", clue)\n",
        "    clue = re.sub(\"\\(Sp\\.\\)|Sp\\.\", \"(Spanish)\", clue)\n",
        "    clue = re.sub(\"Ave\\.\", \"Avenue\", clue)\n",
        "    clue = re.sub(\"Sch\\.\", \"School\", clue)\n",
        "    clue = re.sub(\"sch\\.\", \"school\", clue)\n",
        "    clue = re.sub(\"Agcy\\.\", \"Agency\", clue)\n",
        "    clue = re.sub(\"agcy\\.\", \"agency\", clue)\n",
        "    clue = re.sub(\"Co\\.\", \"Company\", clue)\n",
        "    clue = re.sub(\"co\\.\", \"company\", clue)\n",
        "    clue = re.sub(\"No\\.\", \"Number\", clue)\n",
        "    clue = re.sub(\"no\\.\", \"number\", clue)\n",
        "    clue = re.sub(\": [Vv]ar\\.\", \" variable\", clue)\n",
        "    clue = re.sub(\"Subj\\.\", \"Subject\", clue)\n",
        "    clue = re.sub(\"subj\\.\", \"subject\", clue)\n",
        "    clue = re.sub(\"Subjs\\.\", \"Subjects\", clue)\n",
        "    clue = re.sub(\"subjs\\.\", \"subjects\", clue)\n",
        "\n",
        "    theme_clue = re.search(\"^.+\\|[A-Z]{1,}\", clue)\n",
        "    if theme_clue:\n",
        "        clue = re.sub(\"\\|\", \" | \", clue)\n",
        "\n",
        "    if \"Partner of\" in clue:\n",
        "        clue = re.sub(\"Partner of\", \"\", clue)\n",
        "        clue = clue + \" and ___\"\n",
        "\n",
        "    link = re.search(\"^.+-.+ [Ll]ink$\", clue)\n",
        "    if link:\n",
        "        no_link = re.search(\"^.+-.+ \", clue)\n",
        "        x_y = clue[no_link.start():no_link.end() - 1]\n",
        "        x_y_lst = x_y.split(\"-\")\n",
        "        clue = x_y_lst[0] + \" ___ \" + x_y_lst[1]\n",
        "\n",
        "    follower = re.search(\"^.+ [Ff]ollower$\", clue)\n",
        "    if follower:\n",
        "        no_follower = re.search(\"^.+ \", clue)\n",
        "        x = clue[:no_follower.end() - 1]\n",
        "        clue = x + \" ___\"\n",
        "\n",
        "    preceder = re.search(\"^.+ [Pp]receder$\", clue)\n",
        "    if preceder:\n",
        "        no_preceder = re.search(\"^.+ \", clue)\n",
        "        x = clue[:no_preceder.end() - 1]\n",
        "        clue = \"___ \" + x\n",
        "\n",
        "    if re.search(\"--[^A-Za-z]|--$\", clue):\n",
        "        clue = re.sub(\"--\", \"__\", clue)\n",
        "    if not re.search(\"_-[A-Za-z]|_-$\", clue):\n",
        "        clue = re.sub(\"_-\", \"__\", clue)\n",
        "\n",
        "    clue = re.sub(\"_{2,}\", \"___\", clue)\n",
        "\n",
        "    clue = re.sub(\"\\?$\", \" (wordplay)\", clue)\n",
        "\n",
        "    nonverbal = re.search(\"\\[[^0-9]+,* *[^0-9]*\\]\", clue)\n",
        "    if nonverbal:\n",
        "        clue = re.sub(\"\\[|\\]\", \"\", clue)\n",
        "        clue = clue + \" (nonverbal)\"\n",
        "\n",
        "    if clue[:4] == \"\\\"\\\"\\\" \" and clue[-4:] == \" \\\"\\\"\\\"\":\n",
        "        clue = \"\\\"\" + clue[4:-4] + \"\\\"\"\n",
        "    if clue[:4] == \"''' \" and clue[-4:] == \" '''\":\n",
        "        clue = \"'\" + clue[4:-4] + \"'\"\n",
        "    if clue[:3] == \"\\\"\\\"\\\"\" and clue[-3:] == \"\\\"\\\"\\\"\":\n",
        "        clue = \"\\\"\" + clue[3:-3] + \"\\\"\"\n",
        "    if clue[:3] == \"'''\" and clue[-3:] == \"'''\":\n",
        "        clue = \"'\" + clue[3:-3] + \"'\"\n",
        "\n",
        "    return clue"
      ],
      "metadata": {
        "id": "er3p9ZzMFUyl"
      },
      "execution_count": 55,
      "outputs": []
    },
    {
      "cell_type": "markdown",
      "source": [
        "#### Prepare Clues and Answer for Training (2021)"
      ],
      "metadata": {
        "id": "DZzqagivKv_H"
      }
    },
    {
      "cell_type": "code",
      "source": [
        "CSV_file_paths = glob.glob('./*.csv')\n",
        "all_CA_pairs = []\n",
        "\n",
        "CA_df = pd.DataFrame(columns = ['Clue', 'Answer'])\n",
        "for file_path in CSV_file_paths:\n",
        "    temp_df = pd.read_csv(file_path)\n",
        "    CA_df = pd.concat([CA_df, temp_df[['Clue', 'Answer']]], axis = 0, ignore_index = True)\n",
        "\n",
        "CA_df['Clue'] = CA_df['Clue'].apply(lambda x: preprocess_clue_fn(x).lower() if isinstance(x, str) else 'UJJWAL')\n",
        "CA_df['Answer'] = CA_df['Answer'].apply(lambda x: x.lower() if isinstance(x, str) else 'UJJWAL')\n",
        "\n",
        "print(\"Before excluding 'NAN': \", len(CA_df))\n",
        "CA_df = CA_df[~(CA_df['Answer'] == 'UJJWAL')]\n",
        "CA_df = CA_df[~(CA_df['Clue'] == 'UJJWAL')]\n",
        "print(\"After excluding 'NAN': \", len(CA_df))\n",
        "\n",
        "print(\"\\nBefore excluding Duplicates: \", len(CA_df))\n",
        "CA_df = CA_df.drop_duplicates(subset=['Clue', 'Answer'])\n",
        "print(\"After excluding Duplicates: \", len(CA_df))\n",
        "\n",
        "print(\"\\nBefore excluding Duplicates from Segmented Answers: \", len(CA_df))\n",
        "CA_df['Segmented Answer'] = CA_df['Answer'].apply(lambda x: \" \".join(segment(x)))\n",
        "CA_df = CA_df.drop_duplicates(subset=['Clue', 'Segmented Answer'])\n",
        "print(\"After excluding Duplicates from Segmented Answers: \", len(CA_df))"
      ],
      "metadata": {
        "colab": {
          "base_uri": "https://localhost:8080/"
        },
        "id": "5GGaF0ywEq3w",
        "outputId": "422c6330-3e56-486b-f9d1-a0431307bc10"
      },
      "execution_count": 62,
      "outputs": [
        {
          "output_type": "stream",
          "name": "stdout",
          "text": [
            "Before excluding 'NAN':  135609\n",
            "After excluding 'NAN':  135599\n",
            "\n",
            "Before excluding Duplicates:  135599\n",
            "After excluding Duplicates:  120990\n",
            "\n",
            "Before excluding Duplicates from Segmented Answers:  120990\n",
            "After excluding Duplicates from Segmented Answers:  120990\n"
          ]
        }
      ]
    },
    {
      "cell_type": "code",
      "source": [
        "# lets save this 2021 only clue-answer pairs for future references\n",
        "CA_df.to_csv('/content/gdrive/MyDrive/Clue-Answer Dataset/2021_CA_dataset.csv')"
      ],
      "metadata": {
        "id": "UlyS-tTFMJ9N"
      },
      "execution_count": 64,
      "outputs": []
    },
    {
      "cell_type": "code",
      "source": [
        "# lets analysze this 2021_referential CA dataset to the cool histogram plot\n",
        "ans_histogram_ = {}\n",
        "for row in tqdm(CA_df.iterrows(), ncols = 100):\n",
        "    clue = row[1]['Clue']\n",
        "    answer = row[1]['Answer']\n",
        "    if isinstance(answer, float):\n",
        "        continue\n",
        "    if len(answer) in ans_histogram_:\n",
        "        ans_histogram_[len(answer)] += 1\n",
        "    else:\n",
        "        ans_histogram_[len(answer)] = 1\n",
        "\n",
        "hist_array = []\n",
        "for ans_len, count in ans_histogram_.items():\n",
        "    hist_array.append([ans_len, count])\n",
        "\n",
        "hist_array.sort(key = lambda x: x[0])\n",
        "hist_array = np.array(hist_array)\n",
        "\n",
        "plt.figure(figsize = (8, 4))\n",
        "plt.bar(hist_array[:, 0], hist_array[:, 1])\n",
        "plt.xticks(hist_array[:, 0])\n",
        "plt.show()"
      ],
      "metadata": {
        "colab": {
          "base_uri": "https://localhost:8080/",
          "height": 385
        },
        "id": "ErJyq3xfGxPU",
        "outputId": "b8321800-83a4-437e-ee48-1a37ec85d9ec"
      },
      "execution_count": 67,
      "outputs": [
        {
          "output_type": "stream",
          "name": "stderr",
          "text": [
            "120990it [00:06, 18877.17it/s]\n"
          ]
        },
        {
          "output_type": "display_data",
          "data": {
            "text/plain": [
              "<Figure size 800x400 with 1 Axes>"
            ],
            "image/png": "[encoded data removed]"
          },
          "metadata": {}
        }
      ]
    },
    {
      "cell_type": "markdown",
      "source": [
        "#### Lets start with the BCS dataset and analyze"
      ],
      "metadata": {
        "id": "inpAMlUENCW2"
      }
    },
    {
      "cell_type": "code",
      "source": [
        "root_BCS_path = '/content/gdrive/MyDrive/Clue-Answer Dataset/BCS - Dataset'\n",
        "bcs_splitted_csv_paths = glob.glob(os.path.join(root_BCS_path, '*.csv'))\n",
        "\n",
        "valid_df = pd.read_csv(bcs_splitted_csv_paths[0])\n",
        "train_df = pd.read_csv(bcs_splitted_csv_paths[1])\n",
        "\n",
        "print(\"Initial Training Split Size: \", len(train_df))\n",
        "print(\"Initial Validation Split Size: \", len(valid_df))"
      ],
      "metadata": {
        "colab": {
          "base_uri": "https://localhost:8080/"
        },
        "id": "DyGdIREUNBRQ",
        "outputId": "4b7beb5f-100b-43f8-8525-d908ee1ece69"
      },
      "execution_count": 75,
      "outputs": [
        {
          "output_type": "stream",
          "name": "stdout",
          "text": [
            "Initial Training Split Size:  6420790\n",
            "Initial Validation Split Size:  361458\n"
          ]
        }
      ]
    },
    {
      "cell_type": "code",
      "source": [
        "bcs_answer_series = pd.concat([train_df['answer'], valid_df['answer']])\n",
        "bcs_answer_list = bcs_answer_series.unique().tolist()\n",
        "\n",
        "print(\"Total answers in BCS: \", len(bcs_answer_series))\n",
        "print(\"Total unique answers in Train set: \", len(train_df['answer'].unique()))\n",
        "print(\"Total unique answers in Validation set: \", len(valid_df['answer'].unique()))\n",
        "print(\"Total unique answers in Overall set: \", len(bcs_answer_list))"
      ],
      "metadata": {
        "colab": {
          "base_uri": "https://localhost:8080/"
        },
        "id": "VIVSLvjSN1iD",
        "outputId": "2d59ef28-9924-4235-f9fd-dc2d41d23901"
      },
      "execution_count": 93,
      "outputs": [
        {
          "output_type": "stream",
          "name": "stdout",
          "text": [
            "Total answers in BCS:  6782248\n",
            "Total unique answers in Train set:  437722\n",
            "Total unique answers in Validation set:  83926\n",
            "Total unique answers in Overall set:  447125\n"
          ]
        }
      ]
    },
    {
      "cell_type": "code",
      "source": [
        "# now lets test how many of answers from the 2021 are in the BCS\n",
        "bcs_segmented_answer_list = []\n",
        "for ans in tqdm(bcs_answer_list, ncols = 120):\n",
        "    bcs_segmented_answer_list.append(\" \".join(segment(str(ans))))"
      ],
      "metadata": {
        "colab": {
          "base_uri": "https://localhost:8080/"
        },
        "id": "RCNl8TtgRJg9",
        "outputId": "34faf116-dd11-4baf-9e70-51ab77ed0182"
      },
      "execution_count": 96,
      "outputs": [
        {
          "output_type": "stream",
          "name": "stderr",
          "text": [
            "100%|█████████████████████████████████████████████████████████████████████████| 447125/447125 [04:03<00:00, 1834.46it/s]\n"
          ]
        }
      ]
    },
    {
      "cell_type": "code",
      "source": [
        "answer_2021_list = CA_df['Segmented Answer'].unique().tolist()\n",
        "\n",
        "bcs_set = set(bcs_segmented_answer_list)\n",
        "answer_2021_set = set(answer_2021_list)\n",
        "\n",
        "print(\"Intersection between BCS and 2021-only Answer set: \", len(answer_2021_set.intersection(bcs_set)))"
      ],
      "metadata": {
        "colab": {
          "base_uri": "https://localhost:8080/"
        },
        "id": "Uke10j4cP5or",
        "outputId": "11517475-bf78-4a4b-ff51-c3f532a344fa"
      },
      "execution_count": 100,
      "outputs": [
        {
          "output_type": "stream",
          "name": "stdout",
          "text": [
            "Intersection between BCS and 2021-only Answer set:  36477\n"
          ]
        }
      ]
    },
    {
      "cell_type": "code",
      "source": [
        "# lets fine the overlap between the BCS train and validation set\n",
        "\n",
        "bcs_overall_pairs = pd.concat([train_df, valid_df], ignore_index = True)\n",
        "print(\"Overall BCS Clue-Answer pairs: \", len(bcs_overall_pairs))\n",
        "\n",
        "bcs_overall_pairs.rename(columns={'clue': 'Clue', 'answer': 'Answer'}, inplace = True)\n",
        "bcs_overall_pairs['Clue'] = bcs_overall_pairs['Clue'].apply(lambda x : preprocess_clue_fn(x).lower() if isinstance(x, str) else 'UJJWAL')\n",
        "bcs_overall_pairs['Answer'] = bcs_overall_pairs['Answer'].apply(lambda x : x.lower().replace(\" \", '') if isinstance(x, str) else 'UJJWAL')\n",
        "\n",
        "bcs_overall_pairs = bcs_overall_pairs[~(bcs_overall_pairs['Clue'] == 'UJJWAL')]\n",
        "bcs_overall_pairs = bcs_overall_pairs[~(bcs_overall_pairs['Answer'] == 'UJJWAL')]\n",
        "print(\"BCS size after excluding 'NaNs': \", len(bcs_overall_pairs))\n",
        "\n",
        "bcs_overall_pairs = bcs_overall_pairs.drop_duplicates(subset = ['Clue', 'Answer'])\n",
        "print(\"BCS size after excluding Duplicates: \", len(bcs_overall_pairs))"
      ],
      "metadata": {
        "colab": {
          "base_uri": "https://localhost:8080/"
        },
        "id": "sI840-t7Symv",
        "outputId": "ea5d61d4-1521-4b44-c513-aa9ba78aab77"
      },
      "execution_count": 103,
      "outputs": [
        {
          "output_type": "stream",
          "name": "stdout",
          "text": [
            "Overall BCS Clue-Answer pairs:  6782248\n",
            "BCS size after excluding 'NaNs':  6781566\n",
            "BCS size after excluding Duplicates:  6617216\n"
          ]
        }
      ]
    },
    {
      "cell_type": "code",
      "source": [
        "# to normalize between two datasets from BCS and 2021, lets just have similar technique behind word segmentation\n",
        "bcs_overall_pairs['Segmented Answer'] = bcs_overall_pairs['Answer'].apply(lambda x: \" \".join(segment(x)))"
      ],
      "metadata": {
        "id": "PXUm0CSxWhjq"
      },
      "execution_count": 105,
      "outputs": []
    },
    {
      "cell_type": "code",
      "source": [
        "bcs_final_pairs = bcs_overall_pairs[['Clue', 'Segmented Answer']]\n",
        "bcs_final_pairs.head()"
      ],
      "metadata": {
        "colab": {
          "base_uri": "https://localhost:8080/",
          "height": 206
        },
        "id": "qI9fJyAJW3Ld",
        "outputId": "1545acab-8e51-4d17-cf2c-61356ec536bc"
      },
      "execution_count": 108,
      "outputs": [
        {
          "output_type": "execute_result",
          "data": {
            "text/plain": [
              "                                     Clue Segmented Answer\n",
              "0  carol's about to tolerate bad language         swearing\n",
              "1             explorer or actor sebastian            cabot\n",
              "2                         tv talk pioneer             paar\n",
              "3             utter failure, figuratively     lead balloon\n",
              "4                           ages and ages             e on"
            ],
            "text/html": [
              "\n",
              "  <div id=\"df-38d9bbd2-4af9-46df-8338-88eb51572669\" class=\"colab-df-container\">\n",
              "    <div>\n",
              "<style scoped>\n",
              "    .dataframe tbody tr th:only-of-type {\n",
              "        vertical-align: middle;\n",
              "    }\n",
              "\n",
              "    .dataframe tbody tr th {\n",
              "        vertical-align: top;\n",
              "    }\n",
              "\n",
              "    .dataframe thead th {\n",
              "        text-align: right;\n",
              "    }\n",
              "</style>\n",
              "<table border=\"1\" class=\"dataframe\">\n",
              "  <thead>\n",
              "    <tr style=\"text-align: right;\">\n",
              "      <th></th>\n",
              "      <th>Clue</th>\n",
              "      <th>Segmented Answer</th>\n",
              "    </tr>\n",
              "  </thead>\n",
              "  <tbody>\n",
              "    <tr>\n",
              "      <th>0</th>\n",
              "      <td>carol's about to tolerate bad language</td>\n",
              "      <td>swearing</td>\n",
              "    </tr>\n",
              "    <tr>\n",
              "      <th>1</th>\n",
              "      <td>explorer or actor sebastian</td>\n",
              "      <td>cabot</td>\n",
              "    </tr>\n",
              "    <tr>\n",
              "      <th>2</th>\n",
              "      <td>tv talk pioneer</td>\n",
              "      <td>paar</td>\n",
              "    </tr>\n",
              "    <tr>\n",
              "      <th>3</th>\n",
              "      <td>utter failure, figuratively</td>\n",
              "      <td>lead balloon</td>\n",
              "    </tr>\n",
              "    <tr>\n",
              "      <th>4</th>\n",
              "      <td>ages and ages</td>\n",
              "      <td>e on</td>\n",
              "    </tr>\n",
              "  </tbody>\n",
              "</table>\n",
              "</div>\n",
              "    <div class=\"colab-df-buttons\">\n",
              "\n",
              "  <div class=\"colab-df-container\">\n",
              "    <button class=\"colab-df-convert\" onclick=\"convertToInteractive('df-38d9bbd2-4af9-46df-8338-88eb51572669')\"\n",
              "            title=\"Convert this dataframe to an interactive table.\"\n",
              "            style=\"display:none;\">\n",
              "\n",
              "  <svg xmlns=\"http://www.w3.org/2000/svg\" height=\"24px\" viewBox=\"0 -960 960 960\">\n",
              "    <path d=\"M120-120v-720h720v720H120Zm60-500h600v-160H180v160Zm220 220h160v-160H400v160Zm0 220h160v-160H400v160ZM180-400h160v-160H180v160Zm440 0h160v-160H620v160ZM180-180h160v-160H180v160Zm440 0h160v-160H620v160Z\"/>\n",
              "  </svg>\n",
              "    </button>\n",
              "\n",
              "  <style>\n",
              "    .colab-df-container {\n",
              "      display:flex;\n",
              "      gap: 12px;\n",
              "    }\n",
              "\n",
              "    .colab-df-convert {\n",
              "      background-color: #E8F0FE;\n",
              "      border: none;\n",
              "      border-radius: 50%;\n",
              "      cursor: pointer;\n",
              "      display: none;\n",
              "      fill: #1967D2;\n",
              "      height: 32px;\n",
              "      padding: 0 0 0 0;\n",
              "      width: 32px;\n",
              "    }\n",
              "\n",
              "    .colab-df-convert:hover {\n",
              "      background-color: #E2EBFA;\n",
              "      box-shadow: 0px 1px 2px rgba(60, 64, 67, 0.3), 0px 1px 3px 1px rgba(60, 64, 67, 0.15);\n",
              "      fill: #174EA6;\n",
              "    }\n",
              "\n",
              "    .colab-df-buttons div {\n",
              "      margin-bottom: 4px;\n",
              "    }\n",
              "\n",
              "    [theme=dark] .colab-df-convert {\n",
              "      background-color: #3B4455;\n",
              "      fill: #D2E3FC;\n",
              "    }\n",
              "\n",
              "    [theme=dark] .colab-df-convert:hover {\n",
              "      background-color: #434B5C;\n",
              "      box-shadow: 0px 1px 3px 1px rgba(0, 0, 0, 0.15);\n",
              "      filter: drop-shadow(0px 1px 2px rgba(0, 0, 0, 0.3));\n",
              "      fill: #FFFFFF;\n",
              "    }\n",
              "  </style>\n",
              "\n",
              "    <script>\n",
              "      const buttonEl =\n",
              "        document.querySelector('#df-38d9bbd2-4af9-46df-8338-88eb51572669 button.colab-df-convert');\n",
              "      buttonEl.style.display =\n",
              "        google.colab.kernel.accessAllowed ? 'block' : 'none';\n",
              "\n",
              "      async function convertToInteractive(key) {\n",
              "        const element = document.querySelector('#df-38d9bbd2-4af9-46df-8338-88eb51572669');\n",
              "        const dataTable =\n",
              "          await google.colab.kernel.invokeFunction('convertToInteractive',\n",
              "                                                    [key], {});\n",
              "        if (!dataTable) return;\n",
              "\n",
              "        const docLinkHtml = 'Like what you see? Visit the ' +\n",
              "          '<a target=\"_blank\" href=https://colab.research.google.com/notebooks/data_table.ipynb>data table notebook</a>'\n",
              "          + ' to learn more about interactive tables.';\n",
              "        element.innerHTML = '';\n",
              "        dataTable['output_type'] = 'display_data';\n",
              "        await google.colab.output.renderOutput(dataTable, element);\n",
              "        const docLink = document.createElement('div');\n",
              "        docLink.innerHTML = docLinkHtml;\n",
              "        element.appendChild(docLink);\n",
              "      }\n",
              "    </script>\n",
              "  </div>\n",
              "\n",
              "\n",
              "<div id=\"df-22672098-6a05-4668-bc17-cc2761b1071b\">\n",
              "  <button class=\"colab-df-quickchart\" onclick=\"quickchart('df-22672098-6a05-4668-bc17-cc2761b1071b')\"\n",
              "            title=\"Suggest charts\"\n",
              "            style=\"display:none;\">\n",
              "\n",
              "<svg xmlns=\"http://www.w3.org/2000/svg\" height=\"24px\"viewBox=\"0 0 24 24\"\n",
              "     width=\"24px\">\n",
              "    <g>\n",
              "        <path d=\"M19 3H5c-1.1 0-2 .9-2 2v14c0 1.1.9 2 2 2h14c1.1 0 2-.9 2-2V5c0-1.1-.9-2-2-2zM9 17H7v-7h2v7zm4 0h-2V7h2v10zm4 0h-2v-4h2v4z\"/>\n",
              "    </g>\n",
              "</svg>\n",
              "  </button>\n",
              "\n",
              "<style>\n",
              "  .colab-df-quickchart {\n",
              "      --bg-color: #E8F0FE;\n",
              "      --fill-color: #1967D2;\n",
              "      --hover-bg-color: #E2EBFA;\n",
              "      --hover-fill-color: #174EA6;\n",
              "      --disabled-fill-color: #AAA;\n",
              "      --disabled-bg-color: #DDD;\n",
              "  }\n",
              "\n",
              "  [theme=dark] .colab-df-quickchart {\n",
              "      --bg-color: #3B4455;\n",
              "      --fill-color: #D2E3FC;\n",
              "      --hover-bg-color: #434B5C;\n",
              "      --hover-fill-color: #FFFFFF;\n",
              "      --disabled-bg-color: #3B4455;\n",
              "      --disabled-fill-color: #666;\n",
              "  }\n",
              "\n",
              "  .colab-df-quickchart {\n",
              "    background-color: var(--bg-color);\n",
              "    border: none;\n",
              "    border-radius: 50%;\n",
              "    cursor: pointer;\n",
              "    display: none;\n",
              "    fill: var(--fill-color);\n",
              "    height: 32px;\n",
              "    padding: 0;\n",
              "    width: 32px;\n",
              "  }\n",
              "\n",
              "  .colab-df-quickchart:hover {\n",
              "    background-color: var(--hover-bg-color);\n",
              "    box-shadow: 0 1px 2px rgba(60, 64, 67, 0.3), 0 1px 3px 1px rgba(60, 64, 67, 0.15);\n",
              "    fill: var(--button-hover-fill-color);\n",
              "  }\n",
              "\n",
              "  .colab-df-quickchart-complete:disabled,\n",
              "  .colab-df-quickchart-complete:disabled:hover {\n",
              "    background-color: var(--disabled-bg-color);\n",
              "    fill: var(--disabled-fill-color);\n",
              "    box-shadow: none;\n",
              "  }\n",
              "\n",
              "  .colab-df-spinner {\n",
              "    border: 2px solid var(--fill-color);\n",
              "    border-color: transparent;\n",
              "    border-bottom-color: var(--fill-color);\n",
              "    animation:\n",
              "      spin 1s steps(1) infinite;\n",
              "  }\n",
              "\n",
              "  @keyframes spin {\n",
              "    0% {\n",
              "      border-color: transparent;\n",
              "      border-bottom-color: var(--fill-color);\n",
              "      border-left-color: var(--fill-color);\n",
              "    }\n",
              "    20% {\n",
              "      border-color: transparent;\n",
              "      border-left-color: var(--fill-color);\n",
              "      border-top-color: var(--fill-color);\n",
              "    }\n",
              "    30% {\n",
              "      border-color: transparent;\n",
              "      border-left-color: var(--fill-color);\n",
              "      border-top-color: var(--fill-color);\n",
              "      border-right-color: var(--fill-color);\n",
              "    }\n",
              "    40% {\n",
              "      border-color: transparent;\n",
              "      border-right-color: var(--fill-color);\n",
              "      border-top-color: var(--fill-color);\n",
              "    }\n",
              "    60% {\n",
              "      border-color: transparent;\n",
              "      border-right-color: var(--fill-color);\n",
              "    }\n",
              "    80% {\n",
              "      border-color: transparent;\n",
              "      border-right-color: var(--fill-color);\n",
              "      border-bottom-color: var(--fill-color);\n",
              "    }\n",
              "    90% {\n",
              "      border-color: transparent;\n",
              "      border-bottom-color: var(--fill-color);\n",
              "    }\n",
              "  }\n",
              "</style>\n",
              "\n",
              "  <script>\n",
              "    async function quickchart(key) {\n",
              "      const quickchartButtonEl =\n",
              "        document.querySelector('#' + key + ' button');\n",
              "      quickchartButtonEl.disabled = true;  // To prevent multiple clicks.\n",
              "      quickchartButtonEl.classList.add('colab-df-spinner');\n",
              "      try {\n",
              "        const charts = await google.colab.kernel.invokeFunction(\n",
              "            'suggestCharts', [key], {});\n",
              "      } catch (error) {\n",
              "        console.error('Error during call to suggestCharts:', error);\n",
              "      }\n",
              "      quickchartButtonEl.classList.remove('colab-df-spinner');\n",
              "      quickchartButtonEl.classList.add('colab-df-quickchart-complete');\n",
              "    }\n",
              "    (() => {\n",
              "      let quickchartButtonEl =\n",
              "        document.querySelector('#df-22672098-6a05-4668-bc17-cc2761b1071b button');\n",
              "      quickchartButtonEl.style.display =\n",
              "        google.colab.kernel.accessAllowed ? 'block' : 'none';\n",
              "    })();\n",
              "  </script>\n",
              "</div>\n",
              "\n",
              "    </div>\n",
              "  </div>\n"
            ],
            "application/vnd.google.colaboratory.intrinsic+json": {
              "type": "dataframe",
              "variable_name": "bcs_final_pairs"
            }
          },
          "metadata": {},
          "execution_count": 108
        }
      ]
    },
    {
      "cell_type": "code",
      "source": [
        "# lets concatenate bcs final pairs and the 2021-set\n",
        "CA_2021_pairs = CA_df[['Clue', 'Segmented Answer']]\n",
        "CA_2021_pairs.head()"
      ],
      "metadata": {
        "colab": {
          "base_uri": "https://localhost:8080/",
          "height": 206
        },
        "id": "CWWZNUDUdQPZ",
        "outputId": "fe4f9baf-0e4a-4606-d877-41f7568414ad"
      },
      "execution_count": 110,
      "outputs": [
        {
          "output_type": "execute_result",
          "data": {
            "text/plain": [
              "                        Clue Segmented Answer\n",
              "0  common surname like jones            smith\n",
              "1          capital of norway             oslo\n",
              "2                 fill fully             sate\n",
              "3               new employee           hire e\n",
              "4     ear-cleaning implement             swab"
            ],
            "text/html": [
              "\n",
              "  <div id=\"df-0053238d-5872-4c94-b245-4c1f3e3af56b\" class=\"colab-df-container\">\n",
              "    <div>\n",
              "<style scoped>\n",
              "    .dataframe tbody tr th:only-of-type {\n",
              "        vertical-align: middle;\n",
              "    }\n",
              "\n",
              "    .dataframe tbody tr th {\n",
              "        vertical-align: top;\n",
              "    }\n",
              "\n",
              "    .dataframe thead th {\n",
              "        text-align: right;\n",
              "    }\n",
              "</style>\n",
              "<table border=\"1\" class=\"dataframe\">\n",
              "  <thead>\n",
              "    <tr style=\"text-align: right;\">\n",
              "      <th></th>\n",
              "      <th>Clue</th>\n",
              "      <th>Segmented Answer</th>\n",
              "    </tr>\n",
              "  </thead>\n",
              "  <tbody>\n",
              "    <tr>\n",
              "      <th>0</th>\n",
              "      <td>common surname like jones</td>\n",
              "      <td>smith</td>\n",
              "    </tr>\n",
              "    <tr>\n",
              "      <th>1</th>\n",
              "      <td>capital of norway</td>\n",
              "      <td>oslo</td>\n",
              "    </tr>\n",
              "    <tr>\n",
              "      <th>2</th>\n",
              "      <td>fill fully</td>\n",
              "      <td>sate</td>\n",
              "    </tr>\n",
              "    <tr>\n",
              "      <th>3</th>\n",
              "      <td>new employee</td>\n",
              "      <td>hire e</td>\n",
              "    </tr>\n",
              "    <tr>\n",
              "      <th>4</th>\n",
              "      <td>ear-cleaning implement</td>\n",
              "      <td>swab</td>\n",
              "    </tr>\n",
              "  </tbody>\n",
              "</table>\n",
              "</div>\n",
              "    <div class=\"colab-df-buttons\">\n",
              "\n",
              "  <div class=\"colab-df-container\">\n",
              "    <button class=\"colab-df-convert\" onclick=\"convertToInteractive('df-0053238d-5872-4c94-b245-4c1f3e3af56b')\"\n",
              "            title=\"Convert this dataframe to an interactive table.\"\n",
              "            style=\"display:none;\">\n",
              "\n",
              "  <svg xmlns=\"http://www.w3.org/2000/svg\" height=\"24px\" viewBox=\"0 -960 960 960\">\n",
              "    <path d=\"M120-120v-720h720v720H120Zm60-500h600v-160H180v160Zm220 220h160v-160H400v160Zm0 220h160v-160H400v160ZM180-400h160v-160H180v160Zm440 0h160v-160H620v160ZM180-180h160v-160H180v160Zm440 0h160v-160H620v160Z\"/>\n",
              "  </svg>\n",
              "    </button>\n",
              "\n",
              "  <style>\n",
              "    .colab-df-container {\n",
              "      display:flex;\n",
              "      gap: 12px;\n",
              "    }\n",
              "\n",
              "    .colab-df-convert {\n",
              "      background-color: #E8F0FE;\n",
              "      border: none;\n",
              "      border-radius: 50%;\n",
              "      cursor: pointer;\n",
              "      display: none;\n",
              "      fill: #1967D2;\n",
              "      height: 32px;\n",
              "      padding: 0 0 0 0;\n",
              "      width: 32px;\n",
              "    }\n",
              "\n",
              "    .colab-df-convert:hover {\n",
              "      background-color: #E2EBFA;\n",
              "      box-shadow: 0px 1px 2px rgba(60, 64, 67, 0.3), 0px 1px 3px 1px rgba(60, 64, 67, 0.15);\n",
              "      fill: #174EA6;\n",
              "    }\n",
              "\n",
              "    .colab-df-buttons div {\n",
              "      margin-bottom: 4px;\n",
              "    }\n",
              "\n",
              "    [theme=dark] .colab-df-convert {\n",
              "      background-color: #3B4455;\n",
              "      fill: #D2E3FC;\n",
              "    }\n",
              "\n",
              "    [theme=dark] .colab-df-convert:hover {\n",
              "      background-color: #434B5C;\n",
              "      box-shadow: 0px 1px 3px 1px rgba(0, 0, 0, 0.15);\n",
              "      filter: drop-shadow(0px 1px 2px rgba(0, 0, 0, 0.3));\n",
              "      fill: #FFFFFF;\n",
              "    }\n",
              "  </style>\n",
              "\n",
              "    <script>\n",
              "      const buttonEl =\n",
              "        document.querySelector('#df-0053238d-5872-4c94-b245-4c1f3e3af56b button.colab-df-convert');\n",
              "      buttonEl.style.display =\n",
              "        google.colab.kernel.accessAllowed ? 'block' : 'none';\n",
              "\n",
              "      async function convertToInteractive(key) {\n",
              "        const element = document.querySelector('#df-0053238d-5872-4c94-b245-4c1f3e3af56b');\n",
              "        const dataTable =\n",
              "          await google.colab.kernel.invokeFunction('convertToInteractive',\n",
              "                                                    [key], {});\n",
              "        if (!dataTable) return;\n",
              "\n",
              "        const docLinkHtml = 'Like what you see? Visit the ' +\n",
              "          '<a target=\"_blank\" href=https://colab.research.google.com/notebooks/data_table.ipynb>data table notebook</a>'\n",
              "          + ' to learn more about interactive tables.';\n",
              "        element.innerHTML = '';\n",
              "        dataTable['output_type'] = 'display_data';\n",
              "        await google.colab.output.renderOutput(dataTable, element);\n",
              "        const docLink = document.createElement('div');\n",
              "        docLink.innerHTML = docLinkHtml;\n",
              "        element.appendChild(docLink);\n",
              "      }\n",
              "    </script>\n",
              "  </div>\n",
              "\n",
              "\n",
              "<div id=\"df-4d7ed9f8-d091-4e8f-b620-f695a47798d3\">\n",
              "  <button class=\"colab-df-quickchart\" onclick=\"quickchart('df-4d7ed9f8-d091-4e8f-b620-f695a47798d3')\"\n",
              "            title=\"Suggest charts\"\n",
              "            style=\"display:none;\">\n",
              "\n",
              "<svg xmlns=\"http://www.w3.org/2000/svg\" height=\"24px\"viewBox=\"0 0 24 24\"\n",
              "     width=\"24px\">\n",
              "    <g>\n",
              "        <path d=\"M19 3H5c-1.1 0-2 .9-2 2v14c0 1.1.9 2 2 2h14c1.1 0 2-.9 2-2V5c0-1.1-.9-2-2-2zM9 17H7v-7h2v7zm4 0h-2V7h2v10zm4 0h-2v-4h2v4z\"/>\n",
              "    </g>\n",
              "</svg>\n",
              "  </button>\n",
              "\n",
              "<style>\n",
              "  .colab-df-quickchart {\n",
              "      --bg-color: #E8F0FE;\n",
              "      --fill-color: #1967D2;\n",
              "      --hover-bg-color: #E2EBFA;\n",
              "      --hover-fill-color: #174EA6;\n",
              "      --disabled-fill-color: #AAA;\n",
              "      --disabled-bg-color: #DDD;\n",
              "  }\n",
              "\n",
              "  [theme=dark] .colab-df-quickchart {\n",
              "      --bg-color: #3B4455;\n",
              "      --fill-color: #D2E3FC;\n",
              "      --hover-bg-color: #434B5C;\n",
              "      --hover-fill-color: #FFFFFF;\n",
              "      --disabled-bg-color: #3B4455;\n",
              "      --disabled-fill-color: #666;\n",
              "  }\n",
              "\n",
              "  .colab-df-quickchart {\n",
              "    background-color: var(--bg-color);\n",
              "    border: none;\n",
              "    border-radius: 50%;\n",
              "    cursor: pointer;\n",
              "    display: none;\n",
              "    fill: var(--fill-color);\n",
              "    height: 32px;\n",
              "    padding: 0;\n",
              "    width: 32px;\n",
              "  }\n",
              "\n",
              "  .colab-df-quickchart:hover {\n",
              "    background-color: var(--hover-bg-color);\n",
              "    box-shadow: 0 1px 2px rgba(60, 64, 67, 0.3), 0 1px 3px 1px rgba(60, 64, 67, 0.15);\n",
              "    fill: var(--button-hover-fill-color);\n",
              "  }\n",
              "\n",
              "  .colab-df-quickchart-complete:disabled,\n",
              "  .colab-df-quickchart-complete:disabled:hover {\n",
              "    background-color: var(--disabled-bg-color);\n",
              "    fill: var(--disabled-fill-color);\n",
              "    box-shadow: none;\n",
              "  }\n",
              "\n",
              "  .colab-df-spinner {\n",
              "    border: 2px solid var(--fill-color);\n",
              "    border-color: transparent;\n",
              "    border-bottom-color: var(--fill-color);\n",
              "    animation:\n",
              "      spin 1s steps(1) infinite;\n",
              "  }\n",
              "\n",
              "  @keyframes spin {\n",
              "    0% {\n",
              "      border-color: transparent;\n",
              "      border-bottom-color: var(--fill-color);\n",
              "      border-left-color: var(--fill-color);\n",
              "    }\n",
              "    20% {\n",
              "      border-color: transparent;\n",
              "      border-left-color: var(--fill-color);\n",
              "      border-top-color: var(--fill-color);\n",
              "    }\n",
              "    30% {\n",
              "      border-color: transparent;\n",
              "      border-left-color: var(--fill-color);\n",
              "      border-top-color: var(--fill-color);\n",
              "      border-right-color: var(--fill-color);\n",
              "    }\n",
              "    40% {\n",
              "      border-color: transparent;\n",
              "      border-right-color: var(--fill-color);\n",
              "      border-top-color: var(--fill-color);\n",
              "    }\n",
              "    60% {\n",
              "      border-color: transparent;\n",
              "      border-right-color: var(--fill-color);\n",
              "    }\n",
              "    80% {\n",
              "      border-color: transparent;\n",
              "      border-right-color: var(--fill-color);\n",
              "      border-bottom-color: var(--fill-color);\n",
              "    }\n",
              "    90% {\n",
              "      border-color: transparent;\n",
              "      border-bottom-color: var(--fill-color);\n",
              "    }\n",
              "  }\n",
              "</style>\n",
              "\n",
              "  <script>\n",
              "    async function quickchart(key) {\n",
              "      const quickchartButtonEl =\n",
              "        document.querySelector('#' + key + ' button');\n",
              "      quickchartButtonEl.disabled = true;  // To prevent multiple clicks.\n",
              "      quickchartButtonEl.classList.add('colab-df-spinner');\n",
              "      try {\n",
              "        const charts = await google.colab.kernel.invokeFunction(\n",
              "            'suggestCharts', [key], {});\n",
              "      } catch (error) {\n",
              "        console.error('Error during call to suggestCharts:', error);\n",
              "      }\n",
              "      quickchartButtonEl.classList.remove('colab-df-spinner');\n",
              "      quickchartButtonEl.classList.add('colab-df-quickchart-complete');\n",
              "    }\n",
              "    (() => {\n",
              "      let quickchartButtonEl =\n",
              "        document.querySelector('#df-4d7ed9f8-d091-4e8f-b620-f695a47798d3 button');\n",
              "      quickchartButtonEl.style.display =\n",
              "        google.colab.kernel.accessAllowed ? 'block' : 'none';\n",
              "    })();\n",
              "  </script>\n",
              "</div>\n",
              "\n",
              "    </div>\n",
              "  </div>\n"
            ],
            "application/vnd.google.colaboratory.intrinsic+json": {
              "type": "dataframe",
              "variable_name": "CA_2021_pairs"
            }
          },
          "metadata": {},
          "execution_count": 110
        }
      ]
    },
    {
      "cell_type": "code",
      "source": [
        "bcs_all_pairs = pd.concat([bcs_final_pairs, CA_2021_pairs])\n",
        "print(\"Final BCS pairs before dropping duplicates: \", len(bcs_all_pairs))\n",
        "BCS_final = bcs_all_pairs.drop_duplicates(subset = ['Clue', 'Segmented Answer'])\n",
        "print(\"Final BCS pairs After dropping duplicates: \", len(BCS_final))"
      ],
      "metadata": {
        "colab": {
          "base_uri": "https://localhost:8080/"
        },
        "id": "ywm6G4bhdhyP",
        "outputId": "eb4df01a-3720-4fbb-dc29-cd6fb297dba2"
      },
      "execution_count": 111,
      "outputs": [
        {
          "output_type": "stream",
          "name": "stdout",
          "text": [
            "Final BCS pairs before dropping duplicates:  6738206\n",
            "Final BCS pairs After dropping duplicates:  6665320\n"
          ]
        }
      ]
    },
    {
      "cell_type": "code",
      "source": [
        "BCS_final.to_csv(\"/content/gdrive/MyDrive/Clue-Answer Dataset/BCS - Dataset/bcs_final.csv\")"
      ],
      "metadata": {
        "id": "636YzeqNd_LY"
      },
      "execution_count": 113,
      "outputs": []
    },
    {
      "cell_type": "markdown",
      "source": [
        "#### Lets now split this into multiple sets"
      ],
      "metadata": {
        "id": "FXK1kXKygSeH"
      }
    },
    {
      "cell_type": "code",
      "source": [
        "CA_dataset = BCS_final.sample(frac = 1, random_state = 69)\n",
        "CA_dataset.reset_index(drop = True, inplace = True)"
      ],
      "metadata": {
        "id": "MaqKk6k0gU_f"
      },
      "execution_count": 116,
      "outputs": []
    },
    {
      "cell_type": "code",
      "source": [
        "total_rows = len(CA_dataset)\n",
        "print(\"Total Rows in the Dataset:\", total_rows)\n",
        "\n",
        "splits = []\n",
        "no_splits = 5\n",
        "split_size = total_rows // no_splits\n",
        "\n",
        "for i in range(no_splits):\n",
        "    start_idx = i * split_size\n",
        "    end_idx = (i + 1) * split_size\n",
        "    if end_idx > total_rows:\n",
        "        end_idx = total_rows\n",
        "    split = CA_dataset[start_idx : end_idx].copy()\n",
        "    splits.append(split)"
      ],
      "metadata": {
        "colab": {
          "base_uri": "https://localhost:8080/"
        },
        "id": "khdfE_DPgeoR",
        "outputId": "85b8398f-f962-4c78-f0f8-cccb8907ff26"
      },
      "execution_count": 124,
      "outputs": [
        {
          "output_type": "stream",
          "name": "stdout",
          "text": [
            "Total Rows in the Dataset: 6665320\n"
          ]
        }
      ]
    },
    {
      "cell_type": "code",
      "source": [
        "for split in splits:\n",
        "    print(len(split))"
      ],
      "metadata": {
        "colab": {
          "base_uri": "https://localhost:8080/"
        },
        "id": "APBh74wphtqX",
        "outputId": "12e31955-4ce7-4212-a326-25e83de4b391"
      },
      "execution_count": 125,
      "outputs": [
        {
          "output_type": "stream",
          "name": "stdout",
          "text": [
            "1333064\n",
            "1333064\n",
            "1333064\n",
            "1333064\n",
            "1333064\n"
          ]
        }
      ]
    },
    {
      "cell_type": "code",
      "source": [
        "for i, split in tqdm(enumerate(splits), ncols = 60):\n",
        "    train_split, valid_split = train_test_split(split, test_size = 0.062000024002, random_state = 69)\n",
        "\n",
        "    train_split.to_csv(f\"/content/gdrive/MyDrive/Clue-Answer Dataset/BCS - Dataset/Splits/train_shard_{i + 1}_cluedata.csv\")\n",
        "    valid_split.to_csv(f\"/content/gdrive/MyDrive/Clue-Answer Dataset/BCS - Dataset/Splits/valid_shard_{i + 1}_cluedata.csv\")"
      ],
      "metadata": {
        "colab": {
          "base_uri": "https://localhost:8080/"
        },
        "id": "QtGTngrJgwoh",
        "outputId": "5844b911-3193-4b60-cceb-4bf9712cc2b0"
      },
      "execution_count": 126,
      "outputs": [
        {
          "output_type": "stream",
          "name": "stderr",
          "text": [
            "5it [00:15,  3.19s/it]\n"
          ]
        }
      ]
    }
  ]
}