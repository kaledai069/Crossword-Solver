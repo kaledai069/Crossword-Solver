{
 "cells": [
  {
   "cell_type": "code",
   "execution_count": null,
   "id": "a1962ead",
   "metadata": {},
   "outputs": [],
   "source": [
    "# import pandas as pd\n",
    "# import pickle\n",
    "# import shutil\n",
    "# import warnings\n",
    "\n",
    "# import re\n",
    "# from transformers import AutoTokenizer, T5ForConditionalGeneration\n",
    "# import tokenizers\n",
    "# import json\n",
    "# import puz\n",
    "# import os\n",
    "# import numpy as np\n",
    "# import streamlit as st\n",
    "# import scipy\n",
    "\n",
    "# import sys\n",
    "# import subprocess\n",
    "# import copy\n",
    "# import regex\n",
    "# import requests\n",
    "# import json\n",
    "# import datetime\n",
    "# import time\n",
    "\n",
    "# from itertools import zip_longest\n",
    "# from copy import deepcopy\n",
    "# from tqdm import tqdm\n",
    "# from pprint import pprint\n",
    "\n",
    "# from solver.Crossword import Crossword\n",
    "# from solver.BPSolver import BPSolver\n",
    "# from models import setup_closedbook, setup_t5_reranker, DPRForCrossword\n",
    "# from solver.Utils import print_grid\n",
    "\n",
    "# from utils import puz_to_json, fetch_nyt_crossword"
   ]
  },
  {
   "cell_type": "code",
   "execution_count": 1,
   "id": "b667f7a8",
   "metadata": {},
   "outputs": [],
   "source": [
    "import datetime\n",
    "import time\n",
    "\n",
    "from solver.Crossword import Crossword\n",
    "from solver.BPSolver import BPSolver\n",
    "from utils import puz_to_json, fetch_nyt_crossword"
   ]
  },
  {
   "cell_type": "code",
   "execution_count": 2,
   "id": "3a77a46d",
   "metadata": {},
   "outputs": [],
   "source": [
    "model_path = \"./checkpoints/distilbert_EPOCHs_7_COMPLETE.bin\"\n",
    "ans_path = \"./checkpoints/all_answer_list.tsv\"\n",
    "dense_embd_path = \"./checkpoints/distilbert_7_epochs_embeddings.pkl\"\n",
    "reranker_path = \"./checkpoints/t5_word_segmented_pair_2_epoch_3M/\""
   ]
  },
  {
   "cell_type": "code",
   "execution_count": 5,
   "id": "86de5821",
   "metadata": {},
   "outputs": [],
   "source": [
    "def solve(crossword, m_path, a_path, d_path, r_path, max_candidate = 40000):\n",
    "    solver = BPSolver(crossword, model_path = m_path, ans_tsv_path = a_path, dense_embd_path = d_path, reranker_path = r_path, max_candidates = max_candidate)\n",
    "    solution = solver.solve(num_iters = 60, iterative_improvement_steps = 0)\n",
    "    return solution\n",
    "#     solver.evaluate(solution)"
   ]
  },
  {
   "cell_type": "code",
   "execution_count": 6,
   "id": "2e17152f",
   "metadata": {},
   "outputs": [
    {
     "name": "stdout",
     "output_type": "stream",
     "text": [
      "12/09/2023\n"
     ]
    },
    {
     "name": "stderr",
     "output_type": "stream",
     "text": [
      "Overriding args parameter value from checkpoint state. Param = do_lower_case, value = True\n",
      "Overriding args parameter value from checkpoint state. Param = pretrained_model_cfg, value = distilbert-base-uncased\n",
      "Overriding args parameter value from checkpoint state. Param = encoder_model_type, value = hf_distilbert\n",
      "Overriding args parameter value from checkpoint state. Param = sequence_length, value = 32\n"
     ]
    },
    {
     "name": "stdout",
     "output_type": "stream",
     "text": [
      "beginning BP iterations\n"
     ]
    },
    {
     "name": "stderr",
     "output_type": "stream",
     "text": [
      "100%|██████████████████████████████████████████████████████████████████████████████████| 60/60 [00:13<00:00,  4.49it/s]\n"
     ]
    },
    {
     "name": "stdout",
     "output_type": "stream",
     "text": [
      "done BP iterations\n",
      "\n",
      "Before II with T5-small: Letters Correct: 97.94871794871794% | Words Correct: 91.17647058823529%\n",
      "1th iteration: Letters Correct: 98.46153846153847% | Words Correct: 94.11764705882352%\n",
      "2th iteration: Letters Correct: 98.97435897435898% | Words Correct: 95.58823529411765%\n",
      "\n",
      "After II with ByT5: Letters Correct: 98.97435897435898% | Words Correct: 95.58823529411765%\n",
      "Letters Correct: 193/195 | Words Correct: 65/68\n",
      "Letters Correct: 98.97435897435898% | Words Correct: 95.58823529411765%\n",
      "Total time taken:  340.96630215644836\n"
     ]
    }
   ],
   "source": [
    "date_ = datetime.date(2023, 12, 9)\n",
    "formatted_date = date_.strftime('%m/%d/%Y')\n",
    "print(formatted_date)\n",
    "\n",
    "puzzle = fetch_nyt_crossword(formatted_date)\n",
    "start_time = time.time()\n",
    "crossword = Crossword(puzzle)\n",
    "\n",
    "solve(crossword, model_path, ans_path, dense_embd_path, reranker_path, 10000)\n",
    "end_time = time.time()\n",
    "print(\"Total time taken: \", end_time - start_time)\n"
   ]
  },
  {
   "cell_type": "code",
   "execution_count": null,
   "id": "b64fd58b",
   "metadata": {},
   "outputs": [],
   "source": [
    "from wordsegment import load, segment\n",
    "load()\n",
    "\n",
    "\" \".join(segment(\"helloyousdf\"))"
   ]
  },
  {
   "cell_type": "code",
   "execution_count": null,
   "id": "4e3afa4a",
   "metadata": {},
   "outputs": [],
   "source": []
  }
 ],
 "metadata": {
  "kernelspec": {
   "display_name": "Python 3 (ipykernel)",
   "language": "python",
   "name": "python3"
  },
  "language_info": {
   "codemirror_mode": {
    "name": "ipython",
    "version": 3
   },
   "file_extension": ".py",
   "mimetype": "text/x-python",
   "name": "python",
   "nbconvert_exporter": "python",
   "pygments_lexer": "ipython3",
   "version": "3.11.4"
  }
 },
 "nbformat": 4,
 "nbformat_minor": 5
}
