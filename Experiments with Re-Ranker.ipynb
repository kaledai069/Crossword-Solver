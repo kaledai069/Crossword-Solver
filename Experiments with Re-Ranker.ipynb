{
 "cells": [
  {
   "cell_type": "code",
   "execution_count": 1,
   "id": "9069c921",
   "metadata": {},
   "outputs": [],
   "source": [
    "import pandas as pd\n",
    "import re\n",
    "from transformers import AutoTokenizer, GPT2LMHeadModel, GPT2Tokenizer, T5ForConditionalGeneration\n",
    "import tokenizers\n",
    "import json\n",
    "import puz\n",
    "import os\n",
    "import numpy as np\n",
    "import streamlit as st\n",
    "import scipy\n",
    "\n",
    "import sys\n",
    "import subprocess\n",
    "import copy\n",
    "import json\n",
    "\n",
    "from itertools import zip_longest\n",
    "from copy import deepcopy\n",
    "import regex\n",
    "\n",
    "from solver.Crossword import Crossword\n",
    "from solver.BPSolver import BPSolver\n",
    "from models import setup_closedbook, setup_t5_reranker, DPRForCrossword\n",
    "from solver.Utils import print_grid\n",
    "\n",
    "from tqdm import tqdm\n",
    "from pprint import pprint\n",
    "import pandas as pd\n",
    "import pickle\n",
    "import shutil\n",
    "import time\n",
    "\n",
    "from utils import puz_to_json"
   ]
  },
  {
   "cell_type": "code",
   "execution_count": 2,
   "id": "4c27c767",
   "metadata": {},
   "outputs": [],
   "source": [
    "def solve(crossword, max_candidate):\n",
    "    solver = BPSolver(crossword, max_candidates = max_candidate)\n",
    "    solution = solver.solve(num_iters = 60, iterative_improvement_steps = 0)\n",
    "    solver.evaluate(solution)"
   ]
  },
  {
   "cell_type": "code",
   "execution_count": 3,
   "id": "a4b4e13b",
   "metadata": {},
   "outputs": [],
   "source": [
    "def json_CA_json_converter(json_file_path, is_path):\n",
    "    try:\n",
    "        if is_path:\n",
    "            with open(json_file_path, \"r\") as file:\n",
    "                data = json.load(file)\n",
    "        else:\n",
    "            data = json_file_path\n",
    "\n",
    "        json_conversion_dict = {}\n",
    "\n",
    "        rows = data[\"size\"][\"rows\"]\n",
    "        cols = data[\"size\"][\"cols\"]\n",
    "        date = data[\"date\"]\n",
    "\n",
    "        clues = data[\"clues\"]\n",
    "        answers = data[\"answers\"]\n",
    "\n",
    "        json_conversion_dict[\"metadata\"] = {\"date\": date, \"rows\": rows, \"cols\": cols}\n",
    "\n",
    "        across_clue_answer = {}\n",
    "        down_clue_answer = {}\n",
    "\n",
    "        for clue, ans in zip(clues[\"across\"], answers[\"across\"]):\n",
    "            split_clue = clue.split(\" \")\n",
    "            clue_num = split_clue[0][:-1]\n",
    "            clue_ = \" \".join(split_clue[1:])\n",
    "            clue_ = clue_.replace(\"[\", \"\").replace(\"]\", \"\")\n",
    "            across_clue_answer[clue_num] = [clue_, ans]\n",
    "\n",
    "        for clue, ans in zip(clues[\"down\"], answers[\"down\"]):\n",
    "            split_clue = clue.split(\" \")\n",
    "            clue_num = split_clue[0][:-1]\n",
    "            clue_ = \" \".join(split_clue[1:])\n",
    "            clue_ = clue_.replace(\"[\", \"\").replace(\"]\", \"\")\n",
    "            down_clue_answer[clue_num] = [clue_, ans]\n",
    "\n",
    "        json_conversion_dict[\"clues\"] = {\n",
    "            \"across\": across_clue_answer,\n",
    "            \"down\": down_clue_answer,\n",
    "        }\n",
    "\n",
    "        grid_info = data[\"grid\"]\n",
    "        grid_num = data[\"gridnums\"]\n",
    "\n",
    "        grid_info_list = []\n",
    "        for i in range(rows):\n",
    "            row_list = []\n",
    "            for j in range(cols):\n",
    "                if grid_info[i * rows + j] == \".\":\n",
    "                    row_list.append(\"BLACK\")\n",
    "                else:\n",
    "                    if grid_num[i * rows + j] == 0:\n",
    "                        row_list.append([\"\", grid_info[i * rows + j]])\n",
    "                    else:\n",
    "                        row_list.append(\n",
    "                            [str(grid_num[i * rows + j]), grid_info[i * rows + j]]\n",
    "                        )\n",
    "            grid_info_list.append(row_list)\n",
    "\n",
    "        json_conversion_dict[\"grid\"] = grid_info_list\n",
    "\n",
    "        return json_conversion_dict\n",
    "    \n",
    "    except:\n",
    "        print(\"ERROR has occured.\")"
   ]
  },
  {
   "cell_type": "code",
   "execution_count": 4,
   "id": "0f9e3d5c",
   "metadata": {},
   "outputs": [],
   "source": [
    "json_puzzle_path = r\"C:\\Users\\parzi\\OneDrive - Tribhuvan University\\Desktop\\Major Project\\CODE\\BCS Code\\BCS-ALL-Code\\Crossword Solver\\demo crosswords\\crossword_1.json\"\n",
    "\n",
    "puzzle = json_CA_json_converter(json_puzzle_path, True)\n",
    "\n",
    "for dim in ['across', 'down']:\n",
    "    for grid_num in puzzle['clues'][dim].keys():\n",
    "        clue_answer_list = puzzle['clues'][dim][grid_num]\n",
    "        clue_section = clue_answer_list[0]\n",
    "        ans_section = clue_answer_list[1]\n",
    "        clue_section = clue_section.replace(\"&quot;\", \"\").replace(\"&#39;\", \"\")\n",
    "        puzzle['clues'][dim][grid_num] = [clue_section, ans_section]"
   ]
  },
  {
   "cell_type": "code",
   "execution_count": 5,
   "id": "12c6d934",
   "metadata": {},
   "outputs": [],
   "source": [
    "crossword = Crossword(puzzle)"
   ]
  },
  {
   "cell_type": "code",
   "execution_count": 6,
   "id": "43870ddd",
   "metadata": {},
   "outputs": [
    {
     "name": "stdout",
     "output_type": "stream",
     "text": [
      "Help on Crossword in module solver.Crossword object:\n",
      "\n",
      "class Crossword(builtins.object)\n",
      " |  Crossword(data)\n",
      " |  \n",
      " |  This class defines a crossword datastructure which stores a puzzle solution and contains maps between words,\n",
      " |  crossing words, and the grid cells they contain. During initialization, this class takes a JSON representation\n",
      " |  of the crossword that matches our data scraper's specification.\n",
      " |  \n",
      " |  Args:\n",
      " |      data (dict): JSON representation of crossword data\n",
      " |  \n",
      " |  Attributes:\n",
      " |      self.letter_grid (list): 2D array representing gold crossword solution\n",
      " |      self.number_grid (list): 2D array with numbers representing beginnings of clues\n",
      " |      self.variables (dict): mapping from clues to gold answers, cells, and intersecting clues\n",
      " |  \n",
      " |  Methods defined here:\n",
      " |  \n",
      " |  __init__(self, data)\n",
      " |      Initialize self.  See help(type(self)) for accurate signature.\n",
      " |  \n",
      " |  initialize_clues(self, clues)\n",
      " |  \n",
      " |  initialize_crossing(self)\n",
      " |  \n",
      " |  initialize_grids(self, grid)\n",
      " |  \n",
      " |  initialize_variable(self, position, clues, across=True)\n",
      " |  \n",
      " |  initialize_variables(self)\n",
      " |  \n",
      " |  ----------------------------------------------------------------------\n",
      " |  Data descriptors defined here:\n",
      " |  \n",
      " |  __dict__\n",
      " |      dictionary for instance variables (if defined)\n",
      " |  \n",
      " |  __weakref__\n",
      " |      list of weak references to the object (if defined)\n",
      "\n"
     ]
    }
   ],
   "source": [
    "help(crossword)"
   ]
  },
  {
   "cell_type": "code",
   "execution_count": 26,
   "id": "24869e30",
   "metadata": {},
   "outputs": [
    {
     "data": {
      "text/plain": [
       "[['B', 'I', 'B', 'B', '', 'P', 'I', 'A', 'F', '', 'O', 'F', 'O', 'L', 'D'],\n",
       " ['O', 'N', 'E', 'A', '', 'U', 'G', 'L', 'I', '', 'R', 'E', 'N', 'E', 'E'],\n",
       " ['M', 'E', 'L', 'O', 'N', 'B', 'A', 'L', 'L', '', 'Z', 'E', 'S', 'T', 'A'],\n",
       " ['B', 'R', 'I', 'B', 'E', 'S', '', 'T', 'I', 'T', 'O', '', 'L', 'I', 'D'],\n",
       " ['', 'T', 'E', 'A', 'M', '', 'S', 'O', 'A', 'K', '', 'E', 'A', 'T', 'S'],\n",
       " ['', '', '', 'B', 'O', 'U', 'I', 'L', 'L', 'O', 'N', 'C', 'U', 'B', 'E'],\n",
       " ['A', 'D', 'D', 'S', '', 'M', 'A', 'D', '', '', 'R', 'O', 'G', 'E', 'T'],\n",
       " ['C', 'R', 'O', '', 'S', 'A', 'M', '', 'P', 'T', 'A', '', 'H', 'M', 'O'],\n",
       " ['T', 'Y', 'P', 'O', 'S', '', '', 'A', 'A', 'A', '', 'S', 'T', 'E', 'N'],\n",
       " ['I', 'C', 'E', 'C', 'R', 'E', 'A', 'M', 'C', 'O', 'N', 'E', '', '', ''],\n",
       " ['V', 'E', 'N', 'T', '', 'S', 'C', 'A', 'T', '', 'E', 'E', 'L', 'S', ''],\n",
       " ['I', 'R', 'A', '', 'G', 'E', 'T', 'Z', '', 'R', 'E', 'S', 'O', 'L', 'E'],\n",
       " ['S', 'E', 'N', 'S', 'E', '', 'S', 'O', 'L', 'I', 'D', 'F', 'O', 'O', 'D'],\n",
       " ['T', 'A', 'C', 'I', 'T', '', 'U', 'N', 'T', 'O', '', 'I', 'S', 'P', 'Y'],\n",
       " ['S', 'L', 'E', 'D', 'S', '', 'P', 'S', 'S', 'T', '', 'T', 'E', 'E', 'S']]"
      ]
     },
     "execution_count": 26,
     "metadata": {},
     "output_type": "execute_result"
    }
   ],
   "source": [
    "crossword.letter_grid"
   ]
  },
  {
   "cell_type": "code",
   "execution_count": 29,
   "id": "431ad5c0",
   "metadata": {},
   "outputs": [
    {
     "data": {
      "application/vnd.jupyter.widget-view+json": {
       "model_id": "dea08b0a423c4317967a9a78839cf962",
       "version_major": 2,
       "version_minor": 0
      },
      "text/plain": [
       "Downloading config.json:   0%|          | 0.00/698 [00:00<?, ?B/s]"
      ]
     },
     "metadata": {},
     "output_type": "display_data"
    },
    {
     "data": {
      "application/vnd.jupyter.widget-view+json": {
       "model_id": "54702ea7bcc24f8a9e1a83a500fb90e3",
       "version_major": 2,
       "version_minor": 0
      },
      "text/plain": [
       "Downloading pytorch_model.bin:   0%|          | 0.00/1.20G [00:00<?, ?B/s]"
      ]
     },
     "metadata": {},
     "output_type": "display_data"
    },
    {
     "name": "stderr",
     "output_type": "stream",
     "text": [
      "\n",
      "KeyboardInterrupt\n",
      "\n"
     ]
    }
   ],
   "source": [
    "import torch\n",
    "from transformers import T5ForConditionalGeneration, ByT5Tokenizer\n",
    "\n",
    "# Load pre-trained ByT5 model and tokenizer\n",
    "model = T5ForConditionalGeneration.from_pretrained(\"google/byt5-small\")\n",
    "tokenizer = AutoTokenizer.from_pretrained(\"google/byt5-small\")\n",
    "\n",
    "# Example positive and negative pairs\n",
    "positive_pair = (\"What is the capital of France?\", \"Paris\")\n",
    "negative_pair = (\"What is the capital of France?\", \"Berlin\")\n",
    "\n",
    "# Tokenize inputs\n",
    "positive_inputs = tokenizer(positive_pair[0], positive_pair[1], return_tensors=\"pt\", truncation=True)\n",
    "negative_inputs = tokenizer(negative_pair[0], negative_pair[1], return_tensors=\"pt\", truncation=True)\n",
    "\n",
    "# Forward pass\n",
    "positive_logits = model(**positive_inputs).logits\n",
    "negative_logits = model(**negative_inputs).logits\n",
    "\n",
    "# Define pairwise ranking loss\n",
    "loss_function = torch.nn.MarginRankingLoss(margin=1.0)\n",
    "target = torch.tensor([1.0])  # Positive pair should have higher score\n",
    "\n",
    "# Compute loss\n",
    "loss = loss_function(positive_logits, negative_logits, target)\n",
    "print(\"Loss:\", loss.item())\n",
    "\n",
    "# Continue with training loop, optimization, and evaluation as needed\n"
   ]
  },
  {
   "cell_type": "code",
   "execution_count": null,
   "id": "b8df3a8a",
   "metadata": {},
   "outputs": [],
   "source": []
  }
 ],
 "metadata": {
  "kernelspec": {
   "display_name": "Python 3 (ipykernel)",
   "language": "python",
   "name": "python3"
  },
  "language_info": {
   "codemirror_mode": {
    "name": "ipython",
    "version": 3
   },
   "file_extension": ".py",
   "mimetype": "text/x-python",
   "name": "python",
   "nbconvert_exporter": "python",
   "pygments_lexer": "ipython3",
   "version": "3.11.4"
  }
 },
 "nbformat": 4,
 "nbformat_minor": 5
}
