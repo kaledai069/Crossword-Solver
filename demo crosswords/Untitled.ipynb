{
 "cells": [
  {
   "cell_type": "code",
   "execution_count": 46,
   "id": "dc2f66c8",
   "metadata": {},
   "outputs": [],
   "source": [
    "import json\n",
    "from pprint import pprint\n",
    "import copy\n",
    "\n",
    "file_path = 'crossword_1.json'\n",
    "\n",
    "with open(file_path, 'r') as file:\n",
    "    data = json.load(file)\n",
    "elements_per_sublist = data['size']['rows']\n",
    "\n",
    "reshaped_list = []\n",
    "for i in range(0, len(data['grid']), elements_per_sublist):\n",
    "    sublist = data['grid'][i:i + elements_per_sublist]\n",
    "    reshaped_list.append(sublist)\n",
    "\n",
    "\n",
    "mask_grid = [[0] * data['size']['rows'] for col in range(data['size']['rows'])]\n",
    "\n",
    "for i in range(data['size']['rows']):\n",
    "    for j in range(data['size']['cols']):\n",
    "        if reshaped_list[i][j] == '.':\n",
    "            mask_grid[i][j] = 1\n",
    "            \n"
   ]
  },
  {
   "cell_type": "code",
   "execution_count": 48,
   "id": "86453797",
   "metadata": {},
   "outputs": [
    {
     "name": "stdout",
     "output_type": "stream",
     "text": [
      "[[8, 8, 8, 8, 1, 8, 8, 8, 8, 1, 8, 8, 8, 8, 8],\n",
      " [8, 0, 0, 0, 1, 8, 0, 0, 0, 1, 8, 0, 0, 0, 0],\n",
      " [8, 0, 0, 0, 8, 0, 0, 0, 0, 1, 8, 0, 0, 0, 0],\n",
      " [8, 0, 0, 0, 0, 0, 1, 8, 0, 8, 0, 1, 8, 0, 0],\n",
      " [1, 8, 0, 0, 0, 1, 8, 0, 0, 0, 1, 8, 0, 0, 0],\n",
      " [1, 1, 1, 8, 0, 8, 0, 0, 0, 0, 8, 0, 0, 0, 0],\n",
      " [8, 8, 8, 0, 1, 8, 0, 0, 1, 1, 8, 0, 0, 0, 0],\n",
      " [8, 0, 0, 1, 8, 0, 0, 1, 8, 8, 0, 1, 8, 0, 0],\n",
      " [8, 0, 0, 8, 0, 1, 1, 8, 0, 0, 1, 8, 0, 0, 0],\n",
      " [8, 0, 0, 0, 0, 8, 8, 0, 0, 0, 8, 0, 1, 1, 1],\n",
      " [8, 0, 0, 0, 1, 8, 0, 0, 0, 1, 8, 0, 8, 8, 1],\n",
      " [8, 0, 0, 1, 8, 0, 0, 0, 1, 8, 0, 0, 0, 0, 8],\n",
      " [8, 0, 0, 8, 0, 1, 8, 0, 8, 0, 0, 0, 0, 0, 0],\n",
      " [8, 0, 0, 0, 0, 1, 8, 0, 0, 0, 1, 8, 0, 0, 0],\n",
      " [8, 0, 0, 0, 0, 1, 8, 0, 0, 0, 1, 8, 0, 0, 0]]\n",
      "[[1, 2, 3, 4, 1, 5, 6, 7, 8, 1, 9, 10, 11, 12, 13],\n",
      " [14, 0, 0, 0, 1, 15, 0, 0, 0, 1, 16, 0, 0, 0, 0],\n",
      " [17, 0, 0, 0, 18, 0, 0, 0, 0, 1, 19, 0, 0, 0, 0],\n",
      " [20, 0, 0, 0, 0, 0, 1, 21, 0, 22, 0, 1, 23, 0, 0],\n",
      " [1, 24, 0, 0, 0, 1, 25, 0, 0, 0, 1, 26, 0, 0, 0],\n",
      " [1, 1, 1, 27, 0, 28, 0, 0, 0, 0, 29, 0, 0, 0, 0],\n",
      " [30, 31, 32, 0, 1, 33, 0, 0, 1, 1, 34, 0, 0, 0, 0],\n",
      " [35, 0, 0, 1, 36, 0, 0, 1, 37, 38, 0, 1, 39, 0, 0],\n",
      " [40, 0, 0, 41, 0, 1, 1, 42, 0, 0, 1, 43, 0, 0, 0],\n",
      " [44, 0, 0, 0, 0, 45, 46, 0, 0, 0, 47, 0, 1, 1, 1],\n",
      " [48, 0, 0, 0, 1, 49, 0, 0, 0, 1, 50, 0, 51, 52, 1],\n",
      " [53, 0, 0, 1, 54, 0, 0, 0, 1, 55, 0, 0, 0, 0, 56],\n",
      " [57, 0, 0, 58, 0, 1, 59, 0, 60, 0, 0, 0, 0, 0, 0],\n",
      " [61, 0, 0, 0, 0, 1, 62, 0, 0, 0, 1, 63, 0, 0, 0],\n",
      " [64, 0, 0, 0, 0, 1, 65, 0, 0, 0, 1, 66, 0, 0, 0]]\n"
     ]
    }
   ],
   "source": [
    "temp_grid = copy.deepcopy(mask_grid)\n",
    "\n",
    "for i in range(data['size']['rows']):\n",
    "    for j in range(data['size']['cols']):\n",
    "        if (i - 1) == -1 or (j - 1) == -1:\n",
    "            if mask_grid[i][j] != 1:\n",
    "                temp_grid[i][j] = 8\n",
    "        elif temp_grid[i][j] == 1:\n",
    "            continue\n",
    "        elif mask_grid[i - 1][j] == 1 or mask_grid[i][j - 1] == 1:\n",
    "            temp_grid[i][j] = 8\n",
    "        \n",
    "pprint(temp_grid)    \n",
    "\n",
    "count = 1\n",
    "for i in range(data['size']['rows']):\n",
    "    for j in range(data['size']['cols']):\n",
    "        if temp_grid[i][j] == 8:\n",
    "            temp_grid[i][j] = count\n",
    "            count += 1\n",
    "pprint(temp_grid)"
   ]
  },
  {
   "cell_type": "code",
   "execution_count": null,
   "id": "c562727c",
   "metadata": {},
   "outputs": [],
   "source": []
  },
  {
   "cell_type": "code",
   "execution_count": null,
   "id": "8f9faf4a",
   "metadata": {},
   "outputs": [],
   "source": []
  }
 ],
 "metadata": {
  "kernelspec": {
   "display_name": "Python 3 (ipykernel)",
   "language": "python",
   "name": "python3"
  },
  "language_info": {
   "codemirror_mode": {
    "name": "ipython",
    "version": 3
   },
   "file_extension": ".py",
   "mimetype": "text/x-python",
   "name": "python",
   "nbconvert_exporter": "python",
   "pygments_lexer": "ipython3",
   "version": "3.11.4"
  }
 },
 "nbformat": 4,
 "nbformat_minor": 5
}
