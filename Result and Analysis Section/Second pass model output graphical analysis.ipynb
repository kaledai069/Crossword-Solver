{
 "cells": [
  {
   "cell_type": "code",
   "execution_count": 1,
   "id": "330f23c7",
   "metadata": {},
   "outputs": [],
   "source": [
    "import pandas as pd\n",
    "import os\n",
    "import numpy as np\n",
    "import matplotlib.pyplot as plt\n",
    "import glob\n",
    "import re\n",
    "import seaborn as sns\n",
    "from pprint import pprint"
   ]
  },
  {
   "cell_type": "code",
   "execution_count": 2,
   "id": "3888bd7a",
   "metadata": {},
   "outputs": [],
   "source": [
    "# os.chdir(r\"C:\\Users\\parzi\\OneDrive - Tribhuvan University\\Desktop\\Major Project\\CODE\\BCS Code\\BCS-ALL-Code\\Crossword Solver\")"
   ]
  },
  {
   "cell_type": "code",
   "execution_count": 67,
   "id": "680a5fe2",
   "metadata": {},
   "outputs": [],
   "source": [
    "# lets clear-up some of the rusty information\n",
    "valid_lines = []\n",
    "with open(\"./Second pass model outputs/byt5 inference data.txt\", 'r') as f:\n",
    "    lines = f.readlines()\n",
    "for line in lines:\n",
    "    if (('2023' in line) or ('Before' in line) or ('iteration:' in line)) and ('error' not in line):\n",
    "        valid_lines.append(line.strip())\n",
    "\n",
    "with open(\"./Second pass model outputs/byt5 inference clean data.txt\", 'w') as f:\n",
    "    f.write(\"\\n\".join(valid_lines))"
   ]
  },
  {
   "cell_type": "code",
   "execution_count": 3,
   "id": "a83b20a0",
   "metadata": {},
   "outputs": [
    {
     "data": {
      "text/plain": [
       "['./Second pass model outputs\\\\ByT5 Console Output.txt',\n",
       " './Second pass model outputs\\\\byt5 inference data.txt',\n",
       " './Second pass model outputs\\\\byt5 multi iteration data.txt',\n",
       " './Second pass model outputs\\\\T5 Console Output.txt',\n",
       " './Second pass model outputs\\\\t5 full dateaset word segment.txt',\n",
       " './Second pass model outputs\\\\t5 inference data.txt',\n",
       " './Second pass model outputs\\\\t5 multi iteration 70 percentage data trained on.txt',\n",
       " './Second pass model outputs\\\\t5 multi iteration data segmented answer model.txt',\n",
       " './Second pass model outputs\\\\t5 multi iteration data segmented answer model_2.txt',\n",
       " './Second pass model outputs\\\\t5 multi iteration data word segmented.txt',\n",
       " './Second pass model outputs\\\\t5 multi iteration data.txt',\n",
       " './Second pass model outputs\\\\t5 multi iteration wod segmented 2 epochs.txt',\n",
       " './Second pass model outputs\\\\t5 training output.txt',\n",
       " './Second pass model outputs\\\\t5_small on all dataset training.txt']"
      ]
     },
     "execution_count": 3,
     "metadata": {},
     "output_type": "execute_result"
    }
   ],
   "source": [
    "glob.glob('./Second pass model outputs/*.txt')"
   ]
  },
  {
   "cell_type": "code",
   "execution_count": 4,
   "id": "13bf0f28",
   "metadata": {},
   "outputs": [],
   "source": [
    "def extract_float(input_string):\n",
    "    pattern = r\"\\d+\\.\\d+\"\n",
    "    matches = re.findall(pattern, input_string)\n",
    "    float_numbers = [float(match) for match in matches]\n",
    "    return float_numbers"
   ]
  },
  {
   "cell_type": "code",
   "execution_count": 55,
   "id": "4cd40de6",
   "metadata": {},
   "outputs": [],
   "source": [
    "def get_mean_data(F_NAME):\n",
    "    # F_NAME = \"byt5 multi iteration data.txt\"\n",
    "    with open(F_NAME, 'r') as f:\n",
    "        lines = f.readlines()\n",
    "    date_pattern = r\"\\b\\d{2}/\\d{2}/\\d{4}\\b\"\n",
    "    data_dict = {}\n",
    "    new_date_math = False\n",
    "    current_date = ''\n",
    "    error_dates = []\n",
    "    for line in lines:\n",
    "        if 'error' in line:\n",
    "            match = re.search(date_pattern, line)\n",
    "            error_dates.append(match.group())\n",
    "    \n",
    "    \n",
    "    for line in lines:\n",
    "        match = re.match(date_pattern, line) # to match the date pattern\n",
    "        \n",
    "        if match:\n",
    "            current_date = line.strip()\n",
    "            if current_date in error_dates:\n",
    "                continue\n",
    "            data_dict[current_date] = {}\n",
    "            data_dict[current_date]['Letter II'] = []\n",
    "            data_dict[current_date]['Word II'] = []\n",
    "        \n",
    "\n",
    "        if 'Before' in line:\n",
    "            [lett_accu, word_accu] = extract_float(line)\n",
    "            data_dict[current_date]['Before Letter Accuracy'] = lett_accu\n",
    "            data_dict[current_date]['Before Word Accuracy'] = word_accu\n",
    "\n",
    "        if 'iteration:' in line:\n",
    "            lett_accu, word_accu = extract_float(line)\n",
    "            data_dict[current_date]['Letter II'].append(lett_accu)\n",
    "            data_dict[current_date]['Word II'].append(word_accu)\n",
    "            \n",
    "    max_length = 0\n",
    "    for key, value in data_dict.items():\n",
    "        if len(value['Letter II']) > max_length:\n",
    "            max_length = len(value['Letter II'])\n",
    "    # cause the maximum with the ByT5 is 5 so\n",
    "    max_length = 5\n",
    "            \n",
    "    # extending all the letter and word accuracy float values to the maxm length\n",
    "    for key, value in data_dict.items():\n",
    "        if 'Before Letter Accuracy' in value.keys():\n",
    "            if value['Before Letter Accuracy'] == 100.0:\n",
    "                continue\n",
    "            if len(value['Letter II']) < max_length:\n",
    "                if len(value['Letter II']) == 0:\n",
    "                    last_lett_accu = value['Before Letter Accuracy']\n",
    "                    last_word_accu = value['Before Word Accuracy']\n",
    "                else:\n",
    "                    last_lett_accu = value['Letter II'][-1]\n",
    "                    last_word_accu = value['Word II'][-1]\n",
    "\n",
    "                for i in range(max_length - len(value['Letter II'])):\n",
    "                    data_dict[key]['Letter II'].append(last_lett_accu)\n",
    "                    data_dict[key]['Word II'].append(last_word_accu)\n",
    "            elif len(value['Letter II']) >= max_length:\n",
    "                value['Letter II'] = value['Letter II'][:max_length]\n",
    "                value['Word II'] = value['Word II'][:max_length]\n",
    "\n",
    "    all_letter_accu_list = []\n",
    "    all_word_accu_list = []\n",
    "\n",
    "    for key, value in data_dict.items():\n",
    "        if 'Before Letter Accuracy' in value.keys():\n",
    "            if value['Before Letter Accuracy'] == 100.0:\n",
    "                continue\n",
    "            letter_accu_list = value['Letter II'].copy()\n",
    "            letter_accu_list.insert(0, value['Before Letter Accuracy'])\n",
    "            all_letter_accu_list.append(letter_accu_list)\n",
    "\n",
    "            word_accu_list = value['Word II'].copy()\n",
    "            word_accu_list.insert(0, value['Before Word Accuracy'])\n",
    "            all_word_accu_list.append(word_accu_list)\n",
    "    \n",
    "    all_letter_accu = np.array(all_letter_accu_list)\n",
    "    all_word_accu = np.array(all_word_accu_list)\n",
    "    avg_letter_accu = np.mean(all_letter_accu, axis = 0)\n",
    "    avg_word_accu = np.mean(all_word_accu, axis = 0)\n",
    "    \n",
    "    return avg_letter_accu, avg_word_accu, data_dict"
   ]
  },
  {
   "cell_type": "code",
   "execution_count": 56,
   "id": "c24707bd",
   "metadata": {},
   "outputs": [],
   "source": [
    "byt5_letter_list, byt5_word_list, byt5_data = get_mean_data(\"./Second pass model outputs\\\\byt5 inference data.txt\")\n",
    "t5_letter_list, t5_word_list, t5_data = get_mean_data(\"./Second pass model outputs\\\\t5 inference data.txt\")"
   ]
  },
  {
   "cell_type": "code",
   "execution_count": 61,
   "id": "a69b076f",
   "metadata": {},
   "outputs": [
    {
     "data": {
      "image/png": "[encoded data removed]",
      "text/plain": [
       "<Figure size 1000x600 with 1 Axes>"
      ]
     },
     "metadata": {},
     "output_type": "display_data"
    }
   ],
   "source": [
    "sns.set_style('whitegrid')\n",
    "plt.figure(figsize = (10, 6))\n",
    "\n",
    "plt.plot(t5_letter_list, label = 'ByT5 - Letter Accuracy')\n",
    "plt.show()"
   ]
  },
  {
   "cell_type": "code",
   "execution_count": null,
   "id": "4c626e71",
   "metadata": {},
   "outputs": [],
   "source": []
  },
  {
   "cell_type": "markdown",
   "id": "868e70b2",
   "metadata": {},
   "source": [
    "#### T5_small trained on full dataset with Word Segmented vs ByT5_small Model"
   ]
  },
  {
   "cell_type": "code",
   "execution_count": null,
   "id": "cd3a0389",
   "metadata": {},
   "outputs": [],
   "source": [
    "byt5_letter_list, byt5_word_list, _ = get_mean_data(\"./Second pass model outputs/byt5 multi iteration data.txt\")\n",
    "t5_letter_list, t5_word_list, _ = get_mean_data(\"./Second pass model outputs/t5 multi iteration wod segmented 2 epochs.txt\")\n",
    "t5_letter_list_1, t5_word_list_1, _ = get_mean_data(\"./Second pass model outputs/t5 multi iteration data.txt\")"
   ]
  },
  {
   "cell_type": "code",
   "execution_count": null,
   "id": "5b70220b",
   "metadata": {},
   "outputs": [],
   "source": [
    "# BYT5 graphical analysis on the iterative improvement steps\n",
    "sns.set_style('whitegrid')\n",
    "plt.figure(figsize = (10, 6))\n",
    "\n",
    "plt.plot(byt5_letter_list, label = 'ByT5 - Letter Accuracy', color = (56/255, 135/255, 190/255))\n",
    "plt.plot(t5_letter_list[:6], label = 'T5 - Word Segment Answers', linestyle = '--', color = (137/255, 185/255, 220/255))\n",
    "plt.plot(t5_letter_list_1, label = 'T5 - Unsegmented Answers', linestyle = '-.', color = (137/255, 135/255, 220/255))\n",
    "\n",
    "\n",
    "plt.plot(byt5_word_list, label = 'ByT5 - Word Accuracy', color = (64/255, 120/255, 7/255))\n",
    "plt.plot(t5_word_list[:6], label = 'T5 - Word Segment', linestyle = '--', color = (89/255, 169/255, 10/255))\n",
    "plt.plot(t5_word_list_1, label = 'T5 - Unsegmented', linestyle = '-.', color = (89/255, 79/255, 10/255))\n",
    "plt.legend(loc = 'best')\n",
    "\n",
    "custom_xticks = ['Original\\nAccuracy', '1st\\nIteration', '2nd\\nIteration', '3rd\\nIteration', '4th\\nIteration', '5th\\nIteration']\n",
    "plt.xticks(range(len(custom_xticks)), custom_xticks)\n",
    "plt.yticks(np.arange(89, 100, 1))\n",
    "plt.xlabel(\"Iterative Improvement Steps\", font = {'weight':'bold'})\n",
    "plt.ylabel(\"Accuracy (%)\", font = {'weight':'bold'})\n",
    "plt.title(\"ByT5 vs T5: Average accuracy on each improvement steps\", font = {'weight': 'bold', 'size': 12})\n",
    "plt.savefig('./iterative stand.png', dpi = 360, bbox_inches = 'tight')\n",
    "plt.show()"
   ]
  },
  {
   "cell_type": "markdown",
   "id": "67f4d584",
   "metadata": {},
   "source": [
    "#### Date-by-Date comparison between both models"
   ]
  },
  {
   "cell_type": "code",
   "execution_count": null,
   "id": "c62afcb3",
   "metadata": {},
   "outputs": [],
   "source": [
    "_, _, byt5_data = get_mean_data(\"./Second pass model outputs/byt5 multi iteration data.txt\")\n",
    "_, _, t5_data = get_mean_data(\"./Second pass model outputs/t5 multi iteration wod segmented 2 epochs.txt\")"
   ]
  },
  {
   "cell_type": "code",
   "execution_count": null,
   "id": "83972d87",
   "metadata": {},
   "outputs": [],
   "source": [
    "def get_report_df(data_dict):\n",
    "    individual_accs = []\n",
    "    for key, value in data_dict.items():\n",
    "        b_lett_acc, b_word_acc = value['Before Letter Accuracy'], value['Before Word Accuracy']\n",
    "        if b_lett_acc != 100.0:\n",
    "            max_lett_acc = max(value['Letter II'])\n",
    "            max_word_acc = value['Word II'][value['Letter II'].index(max_lett_acc)]\n",
    "            individual_accs.append([key, b_lett_acc, b_word_acc, max_lett_acc, max_word_acc])\n",
    "    report_df = pd.DataFrame(individual_accs, columns = ['Date', 'Before Letter Accuracy', 'Before Word Accuracy', 'After Letter Accuracy', 'After Word Accuracy'])\n",
    "    return report_df"
   ]
  },
  {
   "cell_type": "code",
   "execution_count": null,
   "id": "b9fe085f",
   "metadata": {},
   "outputs": [],
   "source": [
    "t5_report = get_report_df(t5_data)\n",
    "\n",
    "before_avg_lett_acc = t5_report['Before Letter Accuracy'].mean()\n",
    "after_avg_lett_acc = t5_report['After Letter Accuracy'].mean()\n",
    "\n",
    "plt.figure(figsize = (10, 4))\n",
    "plt.scatter(report_df['Date'], t5_report['Before Letter Accuracy'], color = 'r', label = 'Before Letter Accuracy')\n",
    "plt.scatter(report_df['Date'], t5_report['After Letter Accuracy'], color = 'g', label = 'After Letter Accuracy')\n",
    "plt.axhline(y = before_avg_lett_acc, color='r', linestyle='-.', label='Average Letter Accuracy (Before)')\n",
    "plt.axhline(y = after_avg_lett_acc, color='g', linestyle='-.', label='Average Letter Accuracy (After)')\n",
    "\n",
    "plt.xticks(rotation = 90)\n",
    "plt.xlabel(\"Dates\", fontsize = 10, fontweight = 'bold')\n",
    "plt.ylabel(\"Accuracy (%)\", fontsize = 10, fontweight = 'bold')\n",
    "plt.title(\"t5_small trained on word segmented answers\\nComparing First Pass vs Second Pass Letter Accuracy\", fontsize = 12, fontweight = 'bold')\n",
    "plt.legend(loc = 'best')\n",
    "plt.show()"
   ]
  },
  {
   "cell_type": "code",
   "execution_count": null,
   "id": "47c8fefd",
   "metadata": {},
   "outputs": [],
   "source": [
    "byt5_report = get_report_df(byt5_data)\n",
    "\n",
    "before_avg_lett_acc = byt5_report['Before Letter Accuracy'].mean()\n",
    "after_avg_lett_acc = byt5_report['After Letter Accuracy'].mean()\n",
    "\n",
    "plt.figure(figsize = (10, 4))\n",
    "plt.scatter(report_df['Date'], byt5_report['Before Letter Accuracy'], color = 'r', label = 'Before Letter Accuracy')\n",
    "plt.scatter(report_df['Date'], byt5_report['After Letter Accuracy'], color = 'g', label = 'After Letter Accuracy')\n",
    "plt.axhline(y = before_avg_lett_acc, color='r', linestyle='-.', label='Average Letter Accuracy (Before)')\n",
    "plt.axhline(y = after_avg_lett_acc, color='g', linestyle='-.', label='Average Letter Accuracy (After)')\n",
    "\n",
    "plt.xticks(rotation = 90)\n",
    "plt.xlabel(\"Dates\", fontsize = 10, fontweight = 'bold')\n",
    "plt.ylabel(\"Accuracy (%)\", fontsize = 10, fontweight = 'bold')\n",
    "plt.title(\"byt5_small trained on word segmented answers\\nComparing First Pass vs Second Pass Letter Accuracy\", fontsize = 12, fontweight = 'bold')\n",
    "plt.legend(loc = 'best')\n",
    "plt.show()"
   ]
  },
  {
   "cell_type": "code",
   "execution_count": null,
   "id": "3d5766b4",
   "metadata": {},
   "outputs": [],
   "source": [
    "byt5_report = get_report_df(byt5_data)\n",
    "\n",
    "assert len(byt5_report) == len(t5_report)\n",
    "\n",
    "byt5_b_let_acc = byt5_report['Before Letter Accuracy'].mean()\n",
    "byt5_a_let_acc = byt5_report['After Letter Accuracy'].mean()\n",
    "\n",
    "t5_b_let_acc = t5_report['Before Letter Accuracy'].mean()\n",
    "t5_a_let_acc = t5_report['After Letter Accuracy'].mean()\n",
    "\n",
    "plt.figure(figsize = (10, 5))\n",
    "\n",
    "plt.scatter(byt5_report['Date'], byt5_report['After Letter Accuracy'], marker = '+', s = 100, color = 'g', label = 'Letter Accuracy (ByT5)')\n",
    "plt.scatter(t5_report['Date'], t5_report['After Letter Accuracy'], marker = 'v', s = 50, label = 'Letter Accuracy (T5)')\n",
    "plt.scatter(byt5_report['Date'], byt5_report['Before Letter Accuracy'], marker = 'o', s = 15, color = 'r', label = 'First Pass Letter Accuracy')\n",
    "\n",
    "plt.axhline(y = byt5_a_let_acc, color='g', linestyle='-.', label='Avg. Letter Accuracy (ByT5)')\n",
    "plt.axhline(y = t5_a_let_acc,  linestyle='-.', label='Avg. Letter Accuracy (T5)')\n",
    "plt.axhline(y = byt5_b_let_acc, color='r', linestyle='-.', label='Avg. Letter Accuracy (Before)')\n",
    "\n",
    "plt.xticks(rotation = 90)\n",
    "plt.xlabel(\"Dates\", fontsize = 10, fontweight = 'bold')\n",
    "plt.ylabel(\"Accuracy (%)\", fontsize = 10, fontweight = 'bold')\n",
    "plt.title(\"ByT5 vs T5 Improvement Comparison (Letter Accuracy)\", fontsize = 12, fontweight = 'bold')\n",
    "plt.legend(loc = 'best')\n",
    "\n",
    "plt.savefig(\"byt5 vs t5 improvement comparison on letter accuracy.png\", dpi = 360, bbox_inches = 'tight')\n",
    "plt.show()"
   ]
  },
  {
   "cell_type": "code",
   "execution_count": null,
   "id": "726a6e78",
   "metadata": {},
   "outputs": [],
   "source": [
    "byt5_b_let_acc = byt5_report['Before Word Accuracy'].mean()\n",
    "byt5_a_let_acc = byt5_report['After Word Accuracy'].mean()\n",
    "\n",
    "t5_b_let_acc = t5_report['Before Word Accuracy'].mean()\n",
    "t5_a_let_acc = t5_report['After Word Accuracy'].mean()\n",
    "\n",
    "plt.figure(figsize = (10, 5))\n",
    "\n",
    "plt.scatter(byt5_report['Date'], byt5_report['After Word Accuracy'], marker = '+', s = 100, color = 'g', label = 'Word Accuracy (ByT5)')\n",
    "plt.scatter(t5_report['Date'], t5_report['After Word Accuracy'], marker = 'v', s = 50, label = 'Word Accuracy (T5)')\n",
    "plt.scatter(byt5_report['Date'], byt5_report['Before Word Accuracy'], marker = 'o', s = 15, color = 'r', label = 'First Pass Word Accuracy')\n",
    "\n",
    "plt.axhline(y = byt5_a_let_acc, color='g', linestyle='-.', label='Avg. Word Accuracy (ByT5)')\n",
    "plt.axhline(y = t5_a_let_acc,  linestyle='-.', label='Avg. Word Accuracy (T5)')\n",
    "plt.axhline(y = byt5_b_let_acc, color='r', linestyle='-.', label='Avg. Word Accuracy (Before)')\n",
    "\n",
    "plt.xticks(rotation = 90)\n",
    "plt.xlabel(\"Dates\", fontsize = 10, fontweight = 'bold')\n",
    "plt.ylabel(\"Accuracy (%)\", fontsize = 10, fontweight = 'bold')\n",
    "plt.title(\"ByT5 vs T5 Improvement Comparison (Word Accuracy)\", fontsize = 12, fontweight = 'bold')\n",
    "plt.legend(loc = 'best')\n",
    "\n",
    "plt.savefig(\"byt5 vs t5 improvement comparison on Word accuracy.png\", dpi = 360, bbox_inches = 'tight')\n",
    "plt.show()"
   ]
  },
  {
   "cell_type": "markdown",
   "id": "0de43732",
   "metadata": {},
   "source": [
    "#### T5_small trained on 3M dataset for 2 epoch vs ByT5_small Model"
   ]
  },
  {
   "cell_type": "code",
   "execution_count": null,
   "id": "4fc245ce",
   "metadata": {},
   "outputs": [],
   "source": [
    "byt5_letter_list, byt5_word_list = get_mean_data(\"./Result and Analysis Section/Second pass model outputs/byt5 multi iteration data.txt\")\n",
    "t5_letter_list, t5_word_list = get_mean_data(\"./Result and Analysis Section/Second pass model outputs/t5 multi iteration data word segmented.txt\")\n",
    "t5_letter_list_1, t5_word_list_1 = get_mean_data(\"./Result and Analysis Section/Second pass model outputs/t5 multi iteration data.txt\")"
   ]
  },
  {
   "cell_type": "code",
   "execution_count": null,
   "id": "6c97f9f8",
   "metadata": {},
   "outputs": [],
   "source": [
    "# BYT5 graphical analysis on the iterative improvement steps\n",
    "sns.set_style('whitegrid')\n",
    "plt.figure(figsize = (8, 4))\n",
    "\n",
    "plt.plot(byt5_letter_list, label = 'ByT5 - Letter', color = (56/255, 135/255, 190/255))\n",
    "plt.plot(t5_letter_list, label = 'T5 - Word Segment Answers', linestyle = '-.', color = (137/255, 185/255, 220/255))\n",
    "plt.plot(t5_letter_list_1, label = 'T5 - Unsegmented Answers', linestyle = '-.', color = (137/255, 135/255, 220/255))\n",
    "\n",
    "\n",
    "plt.plot(byt5_word_list, label = 'ByT5 - Word', color = (64/255, 120/255, 7/255))\n",
    "plt.plot(t5_word_list, label = 'T5 - Word Segment', linestyle = '-.', color = (89/255, 169/255, 10/255))\n",
    "plt.plot(t5_word_list_1, label = 'T5 - Unsegmented', linestyle = '-.', color = (89/255, 79/255, 10/255))\n",
    "plt.legend(loc = 'best')\n",
    "\n",
    "custom_xticks = ['Original\\nAccuracy', '1st\\nIteration', '2nd\\nIteration', '3rd\\nIteration', '4th\\nIteration', '5th\\nIteration']\n",
    "plt.xticks(range(len(custom_xticks)), custom_xticks)\n",
    "plt.yticks(np.arange(89, 100, 1))\n",
    "plt.xlabel(\"Iterative Improvement Steps\", font = {'weight':'bold'})\n",
    "plt.ylabel(\"Accuracy (%)\", font = {'weight':'bold'})\n",
    "# plt.title(\"Byt5 as Second Pass Model\")\n",
    "plt.show()"
   ]
  },
  {
   "cell_type": "markdown",
   "id": "275f3ab7",
   "metadata": {},
   "source": [
    "#### T5_small trained one full epoch with 64 batch size, with segmented answers"
   ]
  },
  {
   "cell_type": "code",
   "execution_count": null,
   "id": "b35b51cd",
   "metadata": {},
   "outputs": [],
   "source": [
    "byt5_letter_list, byt5_word_list = get_mean_data(\"./Second pass model outputs/byt5 multi iteration data.txt\")\n",
    "t5_letter_list, t5_word_list = get_mean_data(\"./Second pass model outputs/t5 multi iteration data.txt\")"
   ]
  },
  {
   "cell_type": "code",
   "execution_count": null,
   "id": "0fdc65ca",
   "metadata": {},
   "outputs": [],
   "source": [
    "# BYT5 graphical analysis on the iterative improvement steps\n",
    "sns.set_style('whitegrid')\n",
    "plt.figure(figsize = (8, 4))\n",
    "\n",
    "plt.plot(byt5_letter_list, label = 'Average Letter Accuracy')\n",
    "plt.plot(byt5_word_list, label = 'Average Word Accuracy')\n",
    "plt.legend(loc = 'best')\n",
    "\n",
    "custom_xticks = ['Original\\nAccuracy', '1st\\nIteration', '2nd\\nIteration', '3rd\\nIteration', '4th\\nIteration', '5th\\nIteration']\n",
    "plt.xticks(range(len(custom_xticks)), custom_xticks)\n",
    "plt.yticks(np.arange(89, 100, 1))\n",
    "\n",
    "plt.title(\"Byt5 as Second Pass Model\")\n",
    "plt.show()"
   ]
  },
  {
   "cell_type": "code",
   "execution_count": null,
   "id": "ef3f8f1b",
   "metadata": {},
   "outputs": [],
   "source": [
    "# BYT5 graphical analysis on the iterative improvement steps\n",
    "sns.set_style('whitegrid')\n",
    "plt.figure(figsize = (8, 4))\n",
    "\n",
    "plt.plot(t5_letter_list, label = 'Average Letter Accuracy')\n",
    "plt.plot(t5_word_list, label = 'Average Word Accuracy')\n",
    "plt.legend(loc = 'best')\n",
    "\n",
    "custom_xticks = ['Original\\nAccuracy', '1st\\nIteration', '2nd\\nIteration', '3rd\\nIteration', '4th\\nIteration', '5th\\nIteration']\n",
    "plt.xticks(range(len(custom_xticks)), custom_xticks)\n",
    "plt.yticks(np.arange(89, 100, 1))\n",
    "\n",
    "plt.title(\"T5 as Second Pass Model\")\n",
    "plt.show()"
   ]
  },
  {
   "cell_type": "markdown",
   "id": "b1901a76",
   "metadata": {},
   "source": [
    "#### Comparison between ByT5 and T5"
   ]
  },
  {
   "cell_type": "code",
   "execution_count": null,
   "id": "1886d357",
   "metadata": {},
   "outputs": [],
   "source": [
    "# BYT5 graphical analysis on the iterative improvement steps\n",
    "sns.set_style('whitegrid')\n",
    "plt.figure(figsize = (8, 4))\n",
    "\n",
    "plt.plot(byt5_letter_list, label = 'ByT5 - Average letter accuracy', color = (56/255, 135/255, 190/255))\n",
    "plt.plot(t5_letter_list, label = 'T5 - Average letter accuracy', linestyle = '-.', color = (137/255, 185/255, 220/255))\n",
    "\n",
    "plt.plot(byt5_word_list, label = 'ByT5 - Average word accuracy', color = (64/255, 120/255, 7/255))\n",
    "plt.plot(t5_word_list, label = 'T5 - Average word accuracy', linestyle = '-.', color = (89/255, 169/255, 10/255))\n",
    "plt.legend(loc = 'best')\n",
    "\n",
    "custom_xticks = ['Original\\nAccuracy', '1st\\nIteration', '2nd\\nIteration', '3rd\\nIteration', '4th\\nIteration', '5th\\nIteration']\n",
    "plt.xticks(range(len(custom_xticks)), custom_xticks)\n",
    "plt.yticks(np.arange(89, 100, 1))\n",
    "plt.xlabel(\"Iterative Improvement Steps\", font = {'weight':'bold'})\n",
    "plt.ylabel(\"Accuracy (%)\", font = {'weight':'bold'})\n",
    "# plt.title(\"Byt5 as Second Pass Model\")\n",
    "plt.show()"
   ]
  },
  {
   "cell_type": "markdown",
   "id": "5e67d3df",
   "metadata": {},
   "source": [
    "#### T5_small trained with segmented answer and tokenizer set to 32 sequence length for both input (clue) & label (answer)"
   ]
  },
  {
   "cell_type": "code",
   "execution_count": null,
   "id": "b5f5a97d",
   "metadata": {},
   "outputs": [],
   "source": [
    "t5_letter_list_1, t5_word_list_1 = get_mean_data(\"./Second pass model outputs/t5 multi iteration data segmented answer model.txt\")\n",
    "\n",
    "# BYT5 graphical analysis on the iterative improvement steps\n",
    "sns.set_style('whitegrid')\n",
    "plt.figure(figsize = (8, 4))\n",
    "\n",
    "plt.plot(t5_letter_list_1, label = 'Average Letter Accuracy')\n",
    "plt.plot(t5_word_list_1, label = 'Average Word Accuracy')\n",
    "plt.legend(loc = 'best')\n",
    "\n",
    "custom_xticks = ['Original\\nAccuracy', '1st\\nIteration', '2nd\\nIteration', '3rd\\nIteration']\n",
    "for i in range(4, len(t5_letter_list_1)):\n",
    "    custom_xticks.append(f\"{i}th\\nIteration\")\n",
    "    \n",
    "plt.xticks(range(len(custom_xticks)), custom_xticks)\n",
    "plt.yticks(np.arange(89, 100, 1))\n",
    "\n",
    "plt.title(\"T5 as Second Pass Model\")\n",
    "plt.show()"
   ]
  },
  {
   "cell_type": "code",
   "execution_count": null,
   "id": "e87cb834",
   "metadata": {},
   "outputs": [],
   "source": [
    "t5_letter_list_1, t5_word_list_1 = get_mean_data(\"./Second pass model outputs/t5 multi iteration data segmented answer model_2.txt\")\n",
    "\n",
    "# BYT5 graphical analysis on the iterative improvement steps\n",
    "sns.set_style('whitegrid')\n",
    "plt.figure(figsize = (8, 4))\n",
    "\n",
    "plt.plot(t5_letter_list_1, label = 'Average Letter Accuracy')\n",
    "plt.plot(t5_word_list_1, label = 'Average Word Accuracy')\n",
    "plt.legend(loc = 'best')\n",
    "\n",
    "custom_xticks = ['Original\\nAccuracy', '1st\\nIteration', '2nd\\nIteration', '3rd\\nIteration']\n",
    "for i in range(4, len(t5_letter_list_1)):\n",
    "    custom_xticks.append(f\"{i}th\\nIteration\")\n",
    "    \n",
    "plt.xticks(range(len(custom_xticks)), custom_xticks)\n",
    "plt.yticks(np.arange(89, 100, 1))\n",
    "\n",
    "plt.title(\"T5 as Second Pass Model\")\n",
    "plt.show()"
   ]
  },
  {
   "cell_type": "markdown",
   "id": "b5b21bf6",
   "metadata": {},
   "source": [
    "#### Analyzing all the T5_small model iterative ability"
   ]
  },
  {
   "cell_type": "code",
   "execution_count": null,
   "id": "fe893292",
   "metadata": {},
   "outputs": [],
   "source": [
    "t5_letter_list_0, t5_word_list_0 = get_mean_data(\"./Second pass model outputs/t5 multi iteration data.txt\")\n",
    "t5_letter_list_1, t5_word_list_1 = get_mean_data(\"./Second pass model outputs/t5 multi iteration data segmented answer model.txt\")\n",
    "t5_letter_list_2, t5_word_list_2 = get_mean_data(\"./Second pass model outputs/t5 multi iteration data segmented answer model_2.txt\")\n",
    "\n",
    "# BYT5 graphical analysis on the iterative improvement steps\n",
    "sns.set_style('whitegrid')\n",
    "plt.figure(figsize = (8, 4))\n",
    "\n",
    "plt.plot(t5_letter_list_0, label = 'T5 - Unsegmented trained 32-bit')\n",
    "# plt.plot(t5_letter_list_1, label = 'T5 - Average letter accuracy', linestyle = '-.')\n",
    "plt.plot(t5_letter_list_2, label = 'T5 - Segmented trained tokenized set', linestyle = '--')\n",
    "\n",
    "plt.plot(t5_word_list_0, label = 'ByT5 - Average word accuracy')\n",
    "# plt.plot(t5_word_list_1, label = 'ByT5 - Average word accuracy', linestyle = '-.')\n",
    "plt.plot(t5_word_list_2, label = 'ByT5 - Average word accuracy', linestyle = '--')\n",
    "plt.legend(loc = 'best')\n",
    "\n",
    "custom_xticks = ['Original\\nAccuracy', '1st\\nIteration', '2nd\\nIteration', '3rd\\nIteration', '4th\\nIteration', '5th\\nIteration']\n",
    "plt.xticks(range(len(custom_xticks)), custom_xticks)\n",
    "plt.yticks(np.arange(89, 100, 1))\n",
    "plt.xlabel(\"Iterative Improvement Steps\", font = {'weight':'bold'})\n",
    "plt.ylabel(\"Accuracy (%)\", font = {'weight':'bold'})\n",
    "# plt.title(\"Byt5 as Second Pass Model\")\n",
    "plt.show()"
   ]
  },
  {
   "cell_type": "markdown",
   "id": "d70045d0",
   "metadata": {},
   "source": [
    "<b>In every test upto this point, t5_small performed bad in compared to the byt5_small fine-tuned from the BCS. So, a possible improved training strategy could be to train the t5_small again without using sequence length restriction. "
   ]
  }
 ],
 "metadata": {
  "kernelspec": {
   "display_name": "Python 3 (ipykernel)",
   "language": "python",
   "name": "python3"
  },
  "language_info": {
   "codemirror_mode": {
    "name": "ipython",
    "version": 3
   },
   "file_extension": ".py",
   "mimetype": "text/x-python",
   "name": "python",
   "nbconvert_exporter": "python",
   "pygments_lexer": "ipython3",
   "version": "3.11.4"
  }
 },
 "nbformat": 4,
 "nbformat_minor": 5
}
