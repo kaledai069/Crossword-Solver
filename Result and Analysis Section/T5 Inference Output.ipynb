{
 "cells": [
  {
   "cell_type": "code",
   "execution_count": 1,
   "id": "827eeded",
   "metadata": {},
   "outputs": [],
   "source": [
    "import pandas as pd\n",
    "import os\n",
    "import numpy as np\n",
    "import matplotlib.pyplot as plt\n",
    "import glob\n",
    "import re\n",
    "import seaborn as sns\n",
    "from pprint import pprint"
   ]
  },
  {
   "cell_type": "code",
   "execution_count": 2,
   "id": "285b0958",
   "metadata": {},
   "outputs": [
    {
     "data": {
      "text/plain": [
       "['./Second pass model outputs\\\\ByT5 Console Output.txt',\n",
       " './Second pass model outputs\\\\byt5 inference data.txt',\n",
       " './Second pass model outputs\\\\byt5 multi iteration data.txt',\n",
       " './Second pass model outputs\\\\T5 Console Output.txt',\n",
       " './Second pass model outputs\\\\t5 full dateaset word segment.txt',\n",
       " './Second pass model outputs\\\\t5 inference data.txt',\n",
       " './Second pass model outputs\\\\t5 multi iteration 70 percentage data trained on.txt',\n",
       " './Second pass model outputs\\\\t5 multi iteration data segmented answer model.txt',\n",
       " './Second pass model outputs\\\\t5 multi iteration data segmented answer model_2.txt',\n",
       " './Second pass model outputs\\\\t5 multi iteration data word segmented.txt',\n",
       " './Second pass model outputs\\\\t5 multi iteration data.txt',\n",
       " './Second pass model outputs\\\\t5 multi iteration wod segmented 2 epochs.txt',\n",
       " './Second pass model outputs\\\\t5 training output.txt',\n",
       " './Second pass model outputs\\\\t5_small on all dataset training.txt']"
      ]
     },
     "execution_count": 2,
     "metadata": {},
     "output_type": "execute_result"
    }
   ],
   "source": [
    "glob.glob(\"./Second pass model outputs/*.txt\")"
   ]
  },
  {
   "cell_type": "code",
   "execution_count": 11,
   "id": "d4c191d8",
   "metadata": {},
   "outputs": [],
   "source": [
    "TXT_PATH = \"./Second pass model outputs\\\\t5 inference data.txt\""
   ]
  },
  {
   "cell_type": "code",
   "execution_count": 4,
   "id": "cbb0e1f0",
   "metadata": {},
   "outputs": [],
   "source": [
    "def extract_float(input_string):\n",
    "    pattern = r\"\\d+\\.\\d+\"\n",
    "    matches = re.findall(pattern, input_string)\n",
    "    float_numbers = [float(match) for match in matches]\n",
    "    return float_numbers\n",
    "\n",
    "def get_date_data(F_NAME):\n",
    "    with open(F_NAME, 'r') as f:\n",
    "        lines = f.readlines()\n",
    "        \n",
    "    date_pattern = r\"\\b\\d{2}/\\d{2}/\\d{4}\\b\"\n",
    "    data_dict = {}\n",
    "    new_date_math = False\n",
    "    current_date = ''\n",
    "\n",
    "    for line in lines:\n",
    "        match = re.match(date_pattern, line)\n",
    "\n",
    "        if match:\n",
    "            current_date = line.strip()\n",
    "            data_dict[current_date] = {}\n",
    "            data_dict[current_date]['Letter II'] = []\n",
    "            data_dict[current_date]['Word II'] = []\n",
    "\n",
    "        if 'Before' in line:\n",
    "            [lett_accu, word_accu] = extract_float(line)\n",
    "            data_dict[current_date]['Before Letter Accuracy'] = lett_accu\n",
    "            data_dict[current_date]['Before Word Accuracy'] = word_accu\n",
    "\n",
    "        if 'iteration:' in line:\n",
    "            lett_accu, word_accu = extract_float(line)\n",
    "            data_dict[current_date]['Letter II'].append(lett_accu)\n",
    "            data_dict[current_date]['Word II'].append(word_accu)\n",
    "            \n",
    "    return data_dict"
   ]
  },
  {
   "cell_type": "code",
   "execution_count": 14,
   "id": "912f7486",
   "metadata": {},
   "outputs": [],
   "source": [
    "inference_results = get_date_data(TXT_PATH)"
   ]
  },
  {
   "cell_type": "code",
   "execution_count": 37,
   "id": "5e283a3a",
   "metadata": {},
   "outputs": [],
   "source": [
    "df_list = []\n",
    "for key, value in inference_results.items():\n",
    "    if len(value['Letter II']) != 0:\n",
    "        max_lett_acc = max(value['Letter II'])\n",
    "        max_indx = value['Letter II'].index(max_lett_acc)\n",
    "        max_word_acc = value['Word II'][max_indx]\n",
    "        \n",
    "        df_list.append((key, round(value['Before Letter Accuracy'], 2), round(value['Before Word Accuracy'], 2), round(max_lett_acc, 2), round(max_word_acc, 2)))\n",
    "    elif 'Before Letter Accuracy' in value.keys():\n",
    "        df_list.append((key, round(value['Before Letter Accuracy'], 2), round(value['Before Word Accuracy'], 2), round(value['Before Letter Accuracy'], 2), round(value['Before Word Accuracy'], 2)))"
   ]
  },
  {
   "cell_type": "code",
   "execution_count": 45,
   "id": "7a74ab3f",
   "metadata": {},
   "outputs": [],
   "source": [
    "report_df = pd.DataFrame(df_list, columns = ['Date', 'Before Letter Accuracy', 'Before Word Accuracy', 'After Letter Accuracy', 'After Word Accuracy'])\n",
    "report_df.to_csv(\"./Second pass model outputs/t5_inference_results.csv\")"
   ]
  },
  {
   "cell_type": "code",
   "execution_count": 44,
   "id": "77f65cfc",
   "metadata": {},
   "outputs": [
    {
     "name": "stdout",
     "output_type": "stream",
     "text": [
      "First Pass Model - Letter Accuracy:  98.89690476190476\n",
      "First Pass Model - Word Accuracy:  96.04190476190476\n",
      "Second Pass Model - Letter Accuracy:  99.51761904761904\n",
      "Second Pass Model - Word Accuracy:  98.17666666666666\n"
     ]
    }
   ],
   "source": [
    "print(\"First Pass Model - Letter Accuracy: \", report_df['Before Letter Accuracy'].mean())\n",
    "print(\"First Pass Model - Word Accuracy: \",report_df['Before Word Accuracy'].mean())\n",
    "print(\"Second Pass Model - Letter Accuracy: \",report_df['After Letter Accuracy'].mean())\n",
    "print(\"Second Pass Model - Word Accuracy: \",report_df['After Word Accuracy'].mean())"
   ]
  },
  {
   "cell_type": "code",
   "execution_count": 5,
   "id": "dcdb4436",
   "metadata": {},
   "outputs": [],
   "source": [
    "BYT5_TXT_PATH = \"./Second pass model outputs\\\\byt5 inference data.txt\"\n",
    "byt5_inference_results = get_date_data(BYT5_TXT_PATH)"
   ]
  },
  {
   "cell_type": "code",
   "execution_count": 6,
   "id": "909b1435",
   "metadata": {},
   "outputs": [],
   "source": [
    "df_list = []\n",
    "for key, value in byt5_inference_results.items():\n",
    "    if len(value['Letter II']) != 0:\n",
    "        max_lett_acc = max(value['Letter II'])\n",
    "        max_indx = value['Letter II'].index(max_lett_acc)\n",
    "        max_word_acc = value['Word II'][max_indx]\n",
    "        \n",
    "        df_list.append((key, round(value['Before Letter Accuracy'], 2), round(value['Before Word Accuracy'], 2), round(max_lett_acc, 2), round(max_word_acc, 2)))\n",
    "    elif 'Before Letter Accuracy' in value.keys():\n",
    "        df_list.append((key, round(value['Before Letter Accuracy'], 2), round(value['Before Word Accuracy'], 2), round(value['Before Letter Accuracy'], 2), round(value['Before Word Accuracy'], 2)))\n",
    "\n",
    "report_df = pd.DataFrame(df_list, columns = ['Date', 'Before Letter Accuracy', 'Before Word Accuracy', 'After Letter Accuracy', 'After Word Accuracy'])\n",
    "report_df.to_csv(\"./Second pass model outputs/byt5_inference_results.csv\")"
   ]
  },
  {
   "cell_type": "code",
   "execution_count": 7,
   "id": "8337feb0",
   "metadata": {},
   "outputs": [
    {
     "name": "stdout",
     "output_type": "stream",
     "text": [
      "First Pass Model - Letter Accuracy:  98.89690476190476\n",
      "First Pass Model - Word Accuracy:  96.04190476190476\n",
      "Second Pass Model - Letter Accuracy:  99.15714285714287\n",
      "Second Pass Model - Word Accuracy:  96.84476190476191\n"
     ]
    }
   ],
   "source": [
    "print(\"First Pass Model - Letter Accuracy: \", report_df['Before Letter Accuracy'].mean())\n",
    "print(\"First Pass Model - Word Accuracy: \",report_df['Before Word Accuracy'].mean())\n",
    "print(\"Second Pass Model - Letter Accuracy: \",report_df['After Letter Accuracy'].mean())\n",
    "print(\"Second Pass Model - Word Accuracy: \",report_df['After Word Accuracy'].mean())"
   ]
  }
 ],
 "metadata": {
  "kernelspec": {
   "display_name": "Python 3 (ipykernel)",
   "language": "python",
   "name": "python3"
  },
  "language_info": {
   "codemirror_mode": {
    "name": "ipython",
    "version": 3
   },
   "file_extension": ".py",
   "mimetype": "text/x-python",
   "name": "python",
   "nbconvert_exporter": "python",
   "pygments_lexer": "ipython3",
   "version": "3.11.4"
  }
 },
 "nbformat": 4,
 "nbformat_minor": 5
}
