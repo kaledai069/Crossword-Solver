{
 "cells": [
  {
   "cell_type": "code",
   "execution_count": 4,
   "id": "36bfa2b8",
   "metadata": {},
   "outputs": [],
   "source": [
    "import pandas as pd\n",
    "\n",
    "with open(\"T5 Console Output.txt\", 'r') as file:\n",
    "    lines = file.readlines()"
   ]
  },
  {
   "cell_type": "code",
   "execution_count": 5,
   "id": "f6121693",
   "metadata": {},
   "outputs": [],
   "source": [
    "date = []\n",
    "before_result = []\n",
    "after_result = []\n",
    "time_taken = []\n",
    "\n",
    "for line in lines:\n",
    "    if \"2023\" in line and 'Error' not in line:\n",
    "        date.append(line.strip())\n",
    "        \n",
    "    if 'Error' in line:\n",
    "        date.pop()\n",
    "        \n",
    "    if 'Before' in line or 'After' in line:\n",
    "        if 'Before' in line:\n",
    "            lett_accu = float(line.split(' ')[6].strip('%'))\n",
    "            word_accu = float(line.split(' ')[10].strip('%\\n'))\n",
    "            before_result.append((lett_accu, word_accu))\n",
    "        elif 'After' in line:\n",
    "            lett_accu = float(line.split(' ')[6].strip('%'))\n",
    "            word_accu = float(line.split(' ')[10].strip('%\\n'))\n",
    "            after_result.append((lett_accu, word_accu))\n",
    "            \n",
    "    if 'Total time taken' in line:\n",
    "        time_taken.append(float(line.split(' ')[-1].strip('\\n')))\n",
    "\n",
    "assert len(date) == len(before_result) == len(after_result) == len(time_taken)"
   ]
  },
  {
   "cell_type": "code",
   "execution_count": 6,
   "id": "6bdf3e4d",
   "metadata": {},
   "outputs": [],
   "source": [
    "df_list = []\n",
    "for d, b, a, t in zip(date, before_result, after_result, time_taken):\n",
    "    df_list.append((d, b[0], b[1], a[0], a[1], t))\n",
    "\n",
    "df = pd.DataFrame(df_list, columns = ['Date', 'Before: Letter Accuracy', 'Before: Word Accuracy', 'After: Letter Accuracy', 'After: Word Accuracy', 'Time Taken for Iterative Improvement'])\n",
    "df.to_csv('./T5 Inspection.csv')"
   ]
  },
  {
   "cell_type": "code",
   "execution_count": 51,
   "id": "033f8af0",
   "metadata": {},
   "outputs": [],
   "source": [
    "import re\n",
    "\n",
    "def get_only_clue(x):\n",
    "    pattern = r\"'(.*?)'\"\n",
    "    match = re.search(pattern, x)\n",
    "    if match:\n",
    "        extracted_substring = match.group(1)\n",
    "        return extracted_substring\n",
    "    else:\n",
    "        return \"No match found.\"\n",
    "\n",
    "df = pd.read_csv(\"result instruct with 200k samples.csv\")\n",
    "df['Clue'] = df['Clue'].apply(lambda x: get_only_clue(x))\n",
    "\n",
    "df.to_csv(\"Bart Result.csv\")"
   ]
  }
 ],
 "metadata": {
  "kernelspec": {
   "display_name": "Python 3 (ipykernel)",
   "language": "python",
   "name": "python3"
  },
  "language_info": {
   "codemirror_mode": {
    "name": "ipython",
    "version": 3
   },
   "file_extension": ".py",
   "mimetype": "text/x-python",
   "name": "python",
   "nbconvert_exporter": "python",
   "pygments_lexer": "ipython3",
   "version": "3.9.12"
  }
 },
 "nbformat": 4,
 "nbformat_minor": 5
}
