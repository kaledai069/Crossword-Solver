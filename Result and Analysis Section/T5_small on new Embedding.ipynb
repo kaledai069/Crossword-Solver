{
 "cells": [
  {
   "cell_type": "code",
   "execution_count": 1,
   "id": "63b206f0",
   "metadata": {},
   "outputs": [],
   "source": [
    "import pandas as pd\n",
    "import numpy as np\n",
    "import glob\n",
    "import re\n",
    "\n",
    "from pprint import pprint"
   ]
  },
  {
   "cell_type": "code",
   "execution_count": 2,
   "id": "35ab0818",
   "metadata": {},
   "outputs": [
    {
     "data": {
      "text/plain": [
       "['./Second pass model outputs\\\\ByT5 Console Output.txt',\n",
       " './Second pass model outputs\\\\byt5 inference clean data.txt',\n",
       " './Second pass model outputs\\\\byt5 inference data.txt',\n",
       " './Second pass model outputs\\\\byt5 multi iteration data.txt',\n",
       " './Second pass model outputs\\\\T5 Console Output.txt',\n",
       " './Second pass model outputs\\\\t5 full dateaset word segment.txt',\n",
       " './Second pass model outputs\\\\t5 inference data.txt',\n",
       " './Second pass model outputs\\\\t5 multi iteration 70 percentage data trained on.txt',\n",
       " './Second pass model outputs\\\\t5 multi iteration data segmented answer model.txt',\n",
       " './Second pass model outputs\\\\t5 multi iteration data segmented answer model_2.txt',\n",
       " './Second pass model outputs\\\\t5 multi iteration data word segmented.txt',\n",
       " './Second pass model outputs\\\\t5 multi iteration data.txt',\n",
       " './Second pass model outputs\\\\t5 multi iteration wod segmented 2 epochs.txt',\n",
       " './Second pass model outputs\\\\t5 training output.txt',\n",
       " './Second pass model outputs\\\\t5_small on all dataset training.txt',\n",
       " './Second pass model outputs\\\\t5_small_2021_inference test.txt',\n",
       " './Second pass model outputs\\\\t5_small_new_dataset_training.txt',\n",
       " './Second pass model outputs\\\\t5_small_new_embedding.txt']"
      ]
     },
     "execution_count": 2,
     "metadata": {},
     "output_type": "execute_result"
    }
   ],
   "source": [
    "glob.glob('./Second pass model outputs/*.txt')"
   ]
  },
  {
   "cell_type": "code",
   "execution_count": 3,
   "id": "76d3f75e",
   "metadata": {},
   "outputs": [],
   "source": [
    "txt_path = \"./Second pass model outputs\\\\t5_small_new_embedding.txt\"\n",
    "\n",
    "lines = open(txt_path, 'r').readlines()"
   ]
  },
  {
   "cell_type": "code",
   "execution_count": 4,
   "id": "5ac3cedc",
   "metadata": {},
   "outputs": [],
   "source": [
    "def extract_float(input_string):\n",
    "    pattern = r\"\\d+\\.\\d+\"\n",
    "    matches = re.findall(pattern, input_string)\n",
    "    float_numbers = [float(match) for match in matches]\n",
    "    return float_numbers"
   ]
  },
  {
   "cell_type": "code",
   "execution_count": 5,
   "id": "a03cef70",
   "metadata": {},
   "outputs": [],
   "source": [
    "date_pattern = r\"\\b\\d{2}/\\d{2}/\\d{4}\\b\"\n",
    "data_dict = {}\n",
    "new_date_math = False\n",
    "current_date = ''\n",
    "error_dates = []\n",
    "\n",
    "for line in lines:\n",
    "    if 'error' in line:\n",
    "        match = re.search(date_pattern, line)\n",
    "        error_dates.append(match.group())\n",
    "\n",
    "for line in lines:\n",
    "    match = re.match(date_pattern, line) # to match the date pattern\n",
    "\n",
    "    if match:\n",
    "        current_date = line.strip()\n",
    "        data_dict[current_date] = {}\n",
    "        data_dict[current_date]['Letter II'] = []\n",
    "        data_dict[current_date]['Word II'] = []\n",
    "\n",
    "\n",
    "    if 'Before' in line:\n",
    "        [lett_accu, word_accu] = extract_float(line)\n",
    "        data_dict[current_date]['Before Letter Accuracy'] = lett_accu\n",
    "        data_dict[current_date]['Before Word Accuracy'] = word_accu\n",
    "\n",
    "    if 'iteration:' in line:\n",
    "        lett_accu, word_accu = extract_float(line)\n",
    "        data_dict[current_date]['Letter II'].append(lett_accu)\n",
    "        data_dict[current_date]['Word II'].append(word_accu)\n"
   ]
  },
  {
   "cell_type": "code",
   "execution_count": 6,
   "id": "853b6ff6",
   "metadata": {},
   "outputs": [],
   "source": [
    "output_data = []\n",
    "for date, inf_data in data_dict.items():\n",
    "    \n",
    "    if len(inf_data.keys()) < 4:\n",
    "        continue\n",
    "    \n",
    "    # only first pass model output exists\n",
    "    if len(inf_data['Letter II']) == 0:\n",
    "        f_pass_l_accu = inf_data['Before Letter Accuracy']\n",
    "        f_pass_w_accu = inf_data['Before Word Accuracy']\n",
    "        \n",
    "        s_pass_l_accu = inf_data['Before Letter Accuracy']\n",
    "        s_pass_w_accu = inf_data['Before Word Accuracy']\n",
    "        output_data.append((date, f_pass_l_accu, f_pass_w_accu, s_pass_l_accu, s_pass_w_accu))\n",
    "    else:\n",
    "        f_pass_l_accu = round(inf_data['Before Letter Accuracy'], 2)\n",
    "        f_pass_w_accu = round(inf_data['Before Word Accuracy'], 2)\n",
    "        \n",
    "        s_pass_l_list = inf_data['Letter II']\n",
    "        s_pass_w_list = inf_data['Word II']\n",
    "        max_accu_index = s_pass_l_list.index(max(s_pass_l_list))\n",
    "        \n",
    "        s_pass_l_accu = round(s_pass_l_list[max_accu_index], 2)\n",
    "        s_pass_w_accu = round(s_pass_w_list[max_accu_index], 2)\n",
    "        \n",
    "        if s_pass_l_accu < f_pass_l_accu:\n",
    "            s_pass_l_accu = f_pass_l_accu\n",
    "            s_pass_w_accu = f_pass_w_accu\n",
    "            \n",
    "        output_data.append((date, f_pass_l_accu, f_pass_w_accu, s_pass_l_accu, s_pass_w_accu))\n",
    "\n",
    "df = pd.DataFrame(output_data, columns = ['Date', 'First Pass Letter Accuracy', 'First Pass Word Accuracy', 'Second Pass Letter Accuracy', 'Second Pass Word Accuracy'])\n",
    "df.to_csv('./Second pass model outputs/t5_with_new_embedding_2023_test_set.csv')"
   ]
  },
  {
   "cell_type": "code",
   "execution_count": null,
   "id": "c25b9d5f",
   "metadata": {},
   "outputs": [],
   "source": []
  }
 ],
 "metadata": {
  "kernelspec": {
   "display_name": "Python 3 (ipykernel)",
   "language": "python",
   "name": "python3"
  },
  "language_info": {
   "codemirror_mode": {
    "name": "ipython",
    "version": 3
   },
   "file_extension": ".py",
   "mimetype": "text/x-python",
   "name": "python",
   "nbconvert_exporter": "python",
   "pygments_lexer": "ipython3",
   "version": "3.11.4"
  }
 },
 "nbformat": 4,
 "nbformat_minor": 5
}
