{
 "cells": [
  {
   "cell_type": "code",
   "execution_count": 1,
   "id": "6bbf3f13",
   "metadata": {},
   "outputs": [],
   "source": [
    "import pandas as pd\n",
    "import numpy as np\n",
    "import glob"
   ]
  },
  {
   "cell_type": "code",
   "execution_count": 3,
   "id": "0764af7e",
   "metadata": {},
   "outputs": [
    {
     "data": {
      "text/plain": [
       "['./Second pass model outputs\\\\ByT5 Console Output.txt',\n",
       " './Second pass model outputs\\\\byt5 inference clean data.txt',\n",
       " './Second pass model outputs\\\\byt5 inference data.txt',\n",
       " './Second pass model outputs\\\\byt5 multi iteration data.txt',\n",
       " './Second pass model outputs\\\\T5 Console Output.txt',\n",
       " './Second pass model outputs\\\\t5 full dateaset word segment.txt',\n",
       " './Second pass model outputs\\\\t5 inference data.txt',\n",
       " './Second pass model outputs\\\\t5 multi iteration 70 percentage data trained on.txt',\n",
       " './Second pass model outputs\\\\t5 multi iteration data segmented answer model.txt',\n",
       " './Second pass model outputs\\\\t5 multi iteration data segmented answer model_2.txt',\n",
       " './Second pass model outputs\\\\t5 multi iteration data word segmented.txt',\n",
       " './Second pass model outputs\\\\t5 multi iteration data.txt',\n",
       " './Second pass model outputs\\\\t5 multi iteration wod segmented 2 epochs.txt',\n",
       " './Second pass model outputs\\\\t5 training output.txt',\n",
       " './Second pass model outputs\\\\t5_small on all dataset training.txt',\n",
       " './Second pass model outputs\\\\t5_small_new_embedding.txt']"
      ]
     },
     "execution_count": 3,
     "metadata": {},
     "output_type": "execute_result"
    }
   ],
   "source": [
    "glob.glob('./Second pass model outputs/*.txt')"
   ]
  },
  {
   "cell_type": "code",
   "execution_count": 8,
   "id": "fc6d96fe",
   "metadata": {},
   "outputs": [],
   "source": [
    "txt_path = \"./Second pass model outputs\\\\t5_small_new_embedding.txt\"\n",
    "\n",
    "lines = open(txt_path, 'r').readlines()"
   ]
  },
  {
   "cell_type": "code",
   "execution_count": 11,
   "id": "4a2420f7",
   "metadata": {},
   "outputs": [
    {
     "name": "stdout",
     "output_type": "stream",
     "text": [
      "08/01/2023\n",
      "\n",
      "08/02/2023\n",
      "\n",
      "08/03/2023\n",
      "\n",
      "08/04/2023\n",
      "\n",
      "08/05/2023\n",
      "\n",
      "08/06/2023\n",
      "\n",
      "An error has occured in 08/06/2023.\n",
      "\n",
      "08/07/2023\n",
      "\n",
      "08/08/2023\n",
      "\n",
      "08/09/2023\n",
      "\n",
      "08/10/2023\n",
      "\n",
      "An error has occured in 08/10/2023.\n",
      "\n",
      "08/11/2023\n",
      "\n",
      "An error has occured in 08/11/2023.\n",
      "\n",
      "08/12/2023\n",
      "\n",
      "An error has occured in 08/12/2023.\n",
      "\n",
      "08/13/2023\n",
      "\n",
      "An error has occured in 08/13/2023.\n",
      "\n",
      "08/14/2023\n",
      "\n",
      "08/15/2023\n",
      "\n",
      "An error has occured in 08/15/2023.\n",
      "\n",
      "08/16/2023\n",
      "\n",
      "An error has occured in 08/16/2023.\n",
      "\n",
      "08/17/2023\n",
      "\n",
      "An error has occured in 08/17/2023.\n",
      "\n",
      "08/18/2023\n",
      "\n",
      "An error has occured in 08/18/2023.\n",
      "\n",
      "08/19/2023\n",
      "\n",
      "An error has occured in 08/19/2023.\n",
      "\n",
      "08/20/2023\n",
      "\n",
      "08/21/2023\n",
      "\n",
      "08/22/2023\n",
      "\n",
      "08/23/2023\n",
      "\n",
      "An error has occured in 08/23/2023.\n",
      "\n",
      "08/24/2023\n",
      "\n",
      "An error has occured in 08/24/2023.\n",
      "\n",
      "08/25/2023\n",
      "\n",
      "An error has occured in 08/25/2023.\n",
      "\n",
      "08/26/2023\n",
      "\n",
      "An error has occured in 08/26/2023.\n",
      "\n",
      "08/27/2023\n",
      "\n",
      "An error has occured in 08/27/2023.\n",
      "\n",
      "08/28/2023\n",
      "\n",
      "08/29/2023\n",
      "\n",
      "An error has occured in 08/29/2023.\n",
      "\n",
      "08/30/2023\n",
      "\n",
      "An error has occured in 08/30/2023.\n",
      "\n",
      "08/31/2023\n",
      "\n",
      "An error has occured in 08/31/2023.\n"
     ]
    }
   ],
   "source": [
    "for line in lines:\n",
    "    if '2023' in line:\n",
    "        print(line)"
   ]
  }
 ],
 "metadata": {
  "kernelspec": {
   "display_name": "Python 3 (ipykernel)",
   "language": "python",
   "name": "python3"
  },
  "language_info": {
   "codemirror_mode": {
    "name": "ipython",
    "version": 3
   },
   "file_extension": ".py",
   "mimetype": "text/x-python",
   "name": "python",
   "nbconvert_exporter": "python",
   "pygments_lexer": "ipython3",
   "version": "3.11.4"
  }
 },
 "nbformat": 4,
 "nbformat_minor": 5
}
