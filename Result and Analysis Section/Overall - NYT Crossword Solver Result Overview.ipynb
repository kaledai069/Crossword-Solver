{
 "cells": [
  {
   "cell_type": "code",
   "execution_count": 33,
   "id": "acd34450",
   "metadata": {},
   "outputs": [],
   "source": [
    "import glob\n",
    "import matplotlib.pyplot as plt\n",
    "import pandas as pd\n",
    "import seaborn as sns\n",
    "import numpy as np"
   ]
  },
  {
   "cell_type": "code",
   "execution_count": 36,
   "id": "8c17e5c4",
   "metadata": {},
   "outputs": [
    {
     "data": {
      "text/html": [
       "<div>\n",
       "<style scoped>\n",
       "    .dataframe tbody tr th:only-of-type {\n",
       "        vertical-align: middle;\n",
       "    }\n",
       "\n",
       "    .dataframe tbody tr th {\n",
       "        vertical-align: top;\n",
       "    }\n",
       "\n",
       "    .dataframe thead th {\n",
       "        text-align: right;\n",
       "    }\n",
       "</style>\n",
       "<table border=\"1\" class=\"dataframe\">\n",
       "  <thead>\n",
       "    <tr style=\"text-align: right;\">\n",
       "      <th></th>\n",
       "      <th>S.N.</th>\n",
       "      <th>Date</th>\n",
       "      <th>Letter Accuracy</th>\n",
       "      <th>Word Accuracy</th>\n",
       "      <th>Letter Accuracy.1</th>\n",
       "      <th>Word Accuracy.1</th>\n",
       "    </tr>\n",
       "  </thead>\n",
       "  <tbody>\n",
       "    <tr>\n",
       "      <th>0</th>\n",
       "      <td>26</td>\n",
       "      <td>8/1/2023</td>\n",
       "      <td>100.0</td>\n",
       "      <td>100.0</td>\n",
       "      <td>100.0</td>\n",
       "      <td>100.0</td>\n",
       "    </tr>\n",
       "    <tr>\n",
       "      <th>1</th>\n",
       "      <td>27</td>\n",
       "      <td>8/2/2023</td>\n",
       "      <td>100.0</td>\n",
       "      <td>100.0</td>\n",
       "      <td>100.0</td>\n",
       "      <td>100.0</td>\n",
       "    </tr>\n",
       "    <tr>\n",
       "      <th>2</th>\n",
       "      <td>28</td>\n",
       "      <td>8/3/2023</td>\n",
       "      <td>100.0</td>\n",
       "      <td>100.0</td>\n",
       "      <td>100.0</td>\n",
       "      <td>100.0</td>\n",
       "    </tr>\n",
       "    <tr>\n",
       "      <th>3</th>\n",
       "      <td>29</td>\n",
       "      <td>8/4/2023</td>\n",
       "      <td>100.0</td>\n",
       "      <td>100.0</td>\n",
       "      <td>100.0</td>\n",
       "      <td>100.0</td>\n",
       "    </tr>\n",
       "    <tr>\n",
       "      <th>4</th>\n",
       "      <td>30</td>\n",
       "      <td>8/5/2023</td>\n",
       "      <td>100.0</td>\n",
       "      <td>100.0</td>\n",
       "      <td>100.0</td>\n",
       "      <td>100.0</td>\n",
       "    </tr>\n",
       "  </tbody>\n",
       "</table>\n",
       "</div>"
      ],
      "text/plain": [
       "  S.N.      Date  Letter Accuracy  Word Accuracy  Letter Accuracy.1  \\\n",
       "0   26  8/1/2023            100.0          100.0              100.0   \n",
       "1   27  8/2/2023            100.0          100.0              100.0   \n",
       "2   28  8/3/2023            100.0          100.0              100.0   \n",
       "3   29  8/4/2023            100.0          100.0              100.0   \n",
       "4   30  8/5/2023            100.0          100.0              100.0   \n",
       "\n",
       "   Word Accuracy.1  \n",
       "0            100.0  \n",
       "1            100.0  \n",
       "2            100.0  \n",
       "3            100.0  \n",
       "4            100.0  "
      ]
     },
     "execution_count": 36,
     "metadata": {},
     "output_type": "execute_result"
    }
   ],
   "source": [
    "PATH = \"./Second pass model outputs\\\\t5_with_new_embedding_2023_test_set.csv\"\n",
    "\n",
    "test_data_df = pd.read_csv(PATH)\n",
    "test_data_df.head()"
   ]
  },
  {
   "cell_type": "code",
   "execution_count": 37,
   "id": "dcd7753b",
   "metadata": {},
   "outputs": [
    {
     "data": {
      "text/plain": [
       "Index(['S.N.', 'Date', 'Letter Accuracy', 'Word Accuracy', 'Letter Accuracy.1',\n",
       "       'Word Accuracy.1'],\n",
       "      dtype='object')"
      ]
     },
     "execution_count": 37,
     "metadata": {},
     "output_type": "execute_result"
    }
   ],
   "source": [
    "test_data_df.columns"
   ]
  },
  {
   "cell_type": "code",
   "execution_count": 48,
   "id": "b370dcdf",
   "metadata": {},
   "outputs": [],
   "source": [
    "avg_fpass_lett_accu = test_data_df['Letter Accuracy'].mean()\n",
    "avg_spass_lett_accu = test_data_df['Letter Accuracy.1'].mean()\n",
    "avg_fpass_word_accu = test_data_df['Word Accuracy'].mean()\n",
    "avg_spass_word_accu = test_data_df['Word Accuracy.1'].mean()\n",
    "\n",
    "total_size = len(test_data_df)\n",
    "\n",
    "avg_perfect_puzzle_accuracy_fpass = len(test_data_df[test_data_df['Letter Accuracy'] == 100.0]) / total_size * 100.0\n",
    "avg_perfect_puzzle_accuracy_spass = len(test_data_df[test_data_df['Letter Accuracy.1'] == 100.0]) / total_size * 100.0"
   ]
  },
  {
   "cell_type": "code",
   "execution_count": 126,
   "id": "ebbe31ae",
   "metadata": {},
   "outputs": [
    {
     "data": {
      "image/png": "[encoded data removed]",
      "text/plain": [
       "<Figure size 700x500 with 1 Axes>"
      ]
     },
     "metadata": {},
     "output_type": "display_data"
    }
   ],
   "source": [
    "# Set up positions for each group\n",
    "ind = np.arange(2)  # Assuming you have 3 groups\n",
    "\n",
    "# Set the width of the bars\n",
    "width = 0.30  # Adjust this based on your preference\n",
    "sns.set_style('whitegrid')\n",
    "# Create grouped bar plots\n",
    "plt.figure(figsize=(7, 5))\n",
    "bars1 = plt.bar(ind, [avg_fpass_lett_accu, avg_spass_lett_accu], width, label='Letter Accuracy')\n",
    "bars2 = plt.bar(ind + width, [avg_fpass_word_accu, avg_spass_word_accu], width, label='Word Accuracy')\n",
    "bars3 = plt.bar(ind + 2 * width, [avg_perfect_puzzle_accuracy_fpass, avg_perfect_puzzle_accuracy_spass], width, label='Perfect Puzzle Accuracy')\n",
    "\n",
    "# Labeling and customization\n",
    "# plt.xlabel('Metrics')\n",
    "plt.ylabel('Accuracy', font = {'weight': 'bold', 'size': 10})\n",
    "plt.yticks(np.arange(0, 110, 10))\n",
    "plt.xticks(ind + width, ['First Pass', 'Second Pass'])\n",
    "# plt.legend(loc = (0.5545, 0.039))\n",
    "plt.legend(loc = (0.97, 0.85))\n",
    "\n",
    "# Add percentage labels on top of each bar\n",
    "def add_percentage_labels(bars):\n",
    "    for bar in bars:\n",
    "        height = bar.get_height()\n",
    "        plt.text(bar.get_x() + bar.get_width() / 2, height,\n",
    "                 f'{height:.2f}%', ha='center', va='bottom')\n",
    "\n",
    "add_percentage_labels(bars1)\n",
    "add_percentage_labels(bars2)\n",
    "add_percentage_labels(bars3)\n",
    "\n",
    "plt.gca().spines['top'].set_visible(False)\n",
    "plt.gca().spines['right'].set_visible(False)\n",
    "\n",
    "# Show the plot\n",
    "plt.savefig(\"./Figures/first pass vs second pass.png\", dpi = 240, bbox_inches = 'tight')\n",
    "plt.show()"
   ]
  },
  {
   "cell_type": "code",
   "execution_count": null,
   "id": "97046c38",
   "metadata": {},
   "outputs": [],
   "source": []
  }
 ],
 "metadata": {
  "kernelspec": {
   "display_name": "Python 3 (ipykernel)",
   "language": "python",
   "name": "python3"
  },
  "language_info": {
   "codemirror_mode": {
    "name": "ipython",
    "version": 3
   },
   "file_extension": ".py",
   "mimetype": "text/x-python",
   "name": "python",
   "nbconvert_exporter": "python",
   "pygments_lexer": "ipython3",
   "version": "3.11.4"
  }
 },
 "nbformat": 4,
 "nbformat_minor": 5
}
