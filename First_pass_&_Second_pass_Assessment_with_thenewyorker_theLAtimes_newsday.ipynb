{
  "nbformat": 4,
  "nbformat_minor": 0,
  "metadata": {
    "colab": {
      "provenance": [],
      "gpuType": "T4",
      "authorship_tag": "ABX9TyNPy9vO3O+Xf5iBVPRFE21f",
      "include_colab_link": true
    },
    "kernelspec": {
      "name": "python3",
      "display_name": "Python 3"
    },
    "language_info": {
      "name": "python"
    },
    "accelerator": "GPU"
  },
  "cells": [
    {
      "cell_type": "markdown",
      "metadata": {
        "id": "view-in-github",
        "colab_type": "text"
      },
      "source": [
        "<a href=\"https://colab.research.google.com/github/kaledai069/Crossword-Solver-A-Neural-Transformer-based-Approach/blob/master/First_pass_%26_Second_pass_Assessment_with_thenewyorker_theLAtimes_newsday.ipynb\" target=\"_parent\"><img src=\"https://colab.research.google.com/assets/colab-badge.svg\" alt=\"Open In Colab\"/></a>"
      ]
    },
    {
      "cell_type": "code",
      "execution_count": 1,
      "metadata": {
        "colab": {
          "base_uri": "https://localhost:8080/"
        },
        "id": "4SF5OSZ1IdCW",
        "outputId": "d83ed5af-559a-4e1d-8a05-487376c7632e"
      },
      "outputs": [
        {
          "output_type": "stream",
          "name": "stdout",
          "text": [
            "Mounted at /content/gdrive\n"
          ]
        }
      ],
      "source": [
        "from google.colab import drive\n",
        "drive.mount('/content/gdrive')"
      ]
    },
    {
      "cell_type": "code",
      "source": [
        "!git clone https://github.com/kaledai069/Crossword-Solver-A-Neural-Transformer-based-Approach\n",
        "%cd Crossword-Solver-A-Neural-Transformer-based-Approach/\n",
        "!bash inference_setup.sh"
      ],
      "metadata": {
        "colab": {
          "base_uri": "https://localhost:8080/"
        },
        "id": "YlhT0u2iI1ko",
        "outputId": "ab2c51dc-9402-4c1f-c962-61bc8cfb8182"
      },
      "execution_count": 2,
      "outputs": [
        {
          "output_type": "stream",
          "name": "stdout",
          "text": [
            "Cloning into 'Crossword-Solver-A-Neural-Transformer-based-Approach'...\n",
            "remote: Enumerating objects: 2997, done.\u001b[K\n",
            "remote: Counting objects: 100% (1697/1697), done.\u001b[K\n",
            "remote: Compressing objects: 100% (1358/1358), done.\u001b[K\n",
            "remote: Total 2997 (delta 402), reused 1626 (delta 335), pack-reused 1300\u001b[K\n",
            "Receiving objects: 100% (2997/2997), 15.37 MiB | 19.24 MiB/s, done.\n",
            "Resolving deltas: 100% (596/596), done.\n",
            "/content/Crossword-Solver-A-Neural-Transformer-based-Approach\n",
            "\u001b[2K     \u001b[90m━━━━━━━━━━━━━━━━━━━━━━━━━━━━━━━━━━━━━━━━\u001b[0m \u001b[32m1.3/1.3 MB\u001b[0m \u001b[31m6.5 MB/s\u001b[0m eta \u001b[36m0:00:00\u001b[0m\n",
            "\u001b[2K     \u001b[90m━━━━━━━━━━━━━━━━━━━━━━━━━━━━━━━━━━━━━━━━\u001b[0m \u001b[32m17.6/17.6 MB\u001b[0m \u001b[31m53.3 MB/s\u001b[0m eta \u001b[36m0:00:00\u001b[0m\n",
            "\u001b[2K     \u001b[90m━━━━━━━━━━━━━━━━━━━━━━━━━━━━━━━━━━━━━━━━\u001b[0m \u001b[32m4.8/4.8 MB\u001b[0m \u001b[31m18.8 MB/s\u001b[0m eta \u001b[36m0:00:00\u001b[0m\n",
            "\u001b[?25h  Preparing metadata (setup.py) ... \u001b[?25l\u001b[?25hdone\n",
            "  Building wheel for puzpy (setup.py) ... \u001b[?25l\u001b[?25hdone\n",
            "\u001b[2K     \u001b[90m━━━━━━━━━━━━━━━━━━━━━━━━━━━━━━━━━━━━━━━━\u001b[0m \u001b[32m8.4/8.4 MB\u001b[0m \u001b[31m22.2 MB/s\u001b[0m eta \u001b[36m0:00:00\u001b[0m\n",
            "\u001b[2K     \u001b[90m━━━━━━━━━━━━━━━━━━━━━━━━━━━━━━━━━━━━━━━━\u001b[0m \u001b[32m190.6/190.6 kB\u001b[0m \u001b[31m21.6 MB/s\u001b[0m eta \u001b[36m0:00:00\u001b[0m\n",
            "\u001b[2K     \u001b[90m━━━━━━━━━━━━━━━━━━━━━━━━━━━━━━━━━━━━━━━━\u001b[0m \u001b[32m4.8/4.8 MB\u001b[0m \u001b[31m62.0 MB/s\u001b[0m eta \u001b[36m0:00:00\u001b[0m\n",
            "\u001b[2K     \u001b[90m━━━━━━━━━━━━━━━━━━━━━━━━━━━━━━━━━━━━━━━━\u001b[0m \u001b[32m82.1/82.1 kB\u001b[0m \u001b[31m10.4 MB/s\u001b[0m eta \u001b[36m0:00:00\u001b[0m\n",
            "\u001b[2K     \u001b[90m━━━━━━━━━━━━━━━━━━━━━━━━━━━━━━━━━━━━━━━━\u001b[0m \u001b[32m62.7/62.7 kB\u001b[0m \u001b[31m8.3 MB/s\u001b[0m eta \u001b[36m0:00:00\u001b[0m\n",
            "\u001b[?25h"
          ]
        }
      ]
    },
    {
      "cell_type": "markdown",
      "source": [
        "# Assessing croswords from The New Yorker, The LA Times & Newsday"
      ],
      "metadata": {
        "id": "I5qdb6VgI85h"
      }
    },
    {
      "cell_type": "markdown",
      "source": [
        "### Important Imports"
      ],
      "metadata": {
        "id": "8YHzaDZQJcNO"
      }
    },
    {
      "cell_type": "code",
      "source": [
        "# the usuals\n",
        "import datetime\n",
        "import time\n",
        "import matplotlib.pyplot as plt\n",
        "import cv2\n",
        "import pprint\n",
        "import shutil\n",
        "import os\n",
        "import re\n",
        "import json\n",
        "import glob\n",
        "\n",
        "from copy import deepcopy\n",
        "from pprint import pprint\n",
        "from matplotlib.gridspec import GridSpec\n",
        "\n",
        "# from crossword solver\n",
        "from solver.Crossword import Crossword\n",
        "from solver.BPSolver import BPSolver\n",
        "from utils import puz_to_json, fetch_nyt_crossword\n",
        "from draw_grid import get_grid"
      ],
      "metadata": {
        "id": "qOMIaYh9JffE"
      },
      "execution_count": 7,
      "outputs": []
    },
    {
      "cell_type": "markdown",
      "source": [
        "### Paths to all required files:"
      ],
      "metadata": {
        "id": "QW-UACskJob2"
      }
    },
    {
      "cell_type": "code",
      "source": [
        "# First pass model ingredients\n",
        "model_path = \"/content/gdrive/MyDrive/First Pass Model/distilbert_EPOCHs_7_COMPLETE.bin\"\n",
        "ans_path = \"/content/gdrive/MyDrive/First Pass Model/new_answer_list.tsv\"\n",
        "dense_embd_path = \"/content/gdrive/MyDrive/First Pass Model/distilbert_embeddings_v2_0.pkl\"\n",
        "\n",
        "# Second pass model ingredients\n",
        "reranker_path = \"/content/gdrive/MyDrive/Second Pass Model/t5_word_segmented_pair_2_epochs\"\n",
        "reranker_model_type = 't5-small'"
      ],
      "metadata": {
        "id": "4pYkWnMhJnhS"
      },
      "execution_count": 4,
      "outputs": []
    },
    {
      "cell_type": "code",
      "source": [
        "def solve(crossword, m_path, a_path, d_path, r_path, reranker_m_type, max_candidate = 50000, score_threshold = 0.5):\n",
        "    solver = BPSolver(\n",
        "                          crossword,\n",
        "                          model_path = m_path,\n",
        "                          ans_tsv_path = a_path,\n",
        "                          dense_embd_path = d_path,\n",
        "                          reranker_path = r_path,\n",
        "                          reranker_model_type = reranker_m_type,\n",
        "                          max_candidates = max_candidate,\n",
        "                          score_improvement_threshold = score_threshold\n",
        "                      )\n",
        "\n",
        "    solution = solver.solve(num_iters = 60, iterative_improvement_steps = 10)\n",
        "    return solution"
      ],
      "metadata": {
        "id": "xdL-am5DJyzY"
      },
      "execution_count": 5,
      "outputs": []
    },
    {
      "cell_type": "code",
      "source": [
        "NEWSDAY_PUZ_FILES = \"/content/gdrive/MyDrive/Full Crossword Data/newsday\"\n",
        "LATIMES_PUZ_FILES = \"/content/gdrive/MyDrive/Full Crossword Data/the-LA-times\"\n",
        "NEWYORKER_PUZ_FILES = \"/content/gdrive/MyDrive/Full Crossword Data/the_new_yorker\""
      ],
      "metadata": {
        "id": "rMGBNhzsJ3BV"
      },
      "execution_count": 6,
      "outputs": []
    },
    {
      "cell_type": "code",
      "source": [
        "def extract_date(file_path):\n",
        "    match = re.search(r'\\d{2}-\\d{2}-\\d{4}', file_path)\n",
        "    return match.group() if match else ''\n",
        "\n",
        "def get_all_puz_files_path(dir_name):\n",
        "    puz_files = glob.glob(os.path.join(dir_name, \"*.puz\"))\n",
        "    puz_files = [path for path in puz_files if '2023' in path]\n",
        "\n",
        "    sorted_puz_files = sorted(puz_files, key = extract_date)\n",
        "    return sorted_puz_files\n",
        "\n",
        "def get_puzzle_dict(puz_path):\n",
        "    date = puz_path.split('/')[-1].replace('.puz', '').replace('crossword_', '').replace(\"-\", \"/\")\n",
        "\n",
        "    puzzle = puz_to_json(puz_path)\n",
        "\n",
        "    for dim in ['across', 'down']:\n",
        "        for grid_num, CA_tuple in puzzle['clues'][dim].items():\n",
        "            clue = CA_tuple[0].strip()\n",
        "            answer = CA_tuple[1].strip()\n",
        "\n",
        "            if len(clue) == 0 or len(answer) == 0:\n",
        "                return None\n",
        "\n",
        "            puzzle['clues'][dim][grid_num] = [clue, answer]\n",
        "\n",
        "    return date, puzzle"
      ],
      "metadata": {
        "id": "h3s6WMySKPY7"
      },
      "execution_count": 31,
      "outputs": []
    },
    {
      "cell_type": "code",
      "source": [
        "all_outputs = []\n",
        "for puz_path in get_all_puz_files_path(NEWSDAY_PUZ_FILES):\n",
        "    date_str, puzzle = get_puzzle_dict(puz_path)\n",
        "\n",
        "    try:\n",
        "        crossword = Crossword(puzzle)\n",
        "\n",
        "        start_time = time.time()\n",
        "        output = solve(crossword, model_path, ans_path, dense_embd_path, reranker_path, \"t5-small\", 50000)\n",
        "        end_time = time.time()\n",
        "\n",
        "        time_taken = end_time - start_time\n",
        "        all_outputs.append((date_str, output, time_taken))\n",
        "        print(\"Total time taken: \", time_taken)\n",
        "\n",
        "    except:\n",
        "        print(f\"An error occured for date: {date_str}\")"
      ],
      "metadata": {
        "id": "i88vtj90NWd4"
      },
      "execution_count": 32,
      "outputs": []
    }
  ]
}