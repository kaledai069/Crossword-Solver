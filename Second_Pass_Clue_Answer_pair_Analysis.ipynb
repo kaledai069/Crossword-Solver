{
  "nbformat": 4,
  "nbformat_minor": 0,
  "metadata": {
    "colab": {
      "provenance": [],
      "gpuType": "T4",
      "authorship_tag": "ABX9TyPV2j34NOZlJKS8Tbf38kZZ",
      "include_colab_link": true
    },
    "kernelspec": {
      "name": "python3",
      "display_name": "Python 3"
    },
    "language_info": {
      "name": "python"
    },
    "accelerator": "GPU"
  },
  "cells": [
    {
      "cell_type": "markdown",
      "metadata": {
        "id": "view-in-github",
        "colab_type": "text"
      },
      "source": [
        "<a href=\"https://colab.research.google.com/github/kaledai069/Crossword-Solver-A-Neural-Transformer-based-Approach/blob/master/Second_Pass_Clue_Answer_pair_Analysis.ipynb\" target=\"_parent\"><img src=\"https://colab.research.google.com/assets/colab-badge.svg\" alt=\"Open In Colab\"/></a>"
      ]
    },
    {
      "cell_type": "code",
      "execution_count": null,
      "metadata": {
        "colab": {
          "base_uri": "https://localhost:8080/"
        },
        "id": "drX81gcTvhzv",
        "outputId": "2039bfd7-fc49-400e-8ba2-27b3135a8d53"
      },
      "outputs": [
        {
          "output_type": "stream",
          "name": "stdout",
          "text": [
            "Mounted at /content/gdrive\n"
          ]
        }
      ],
      "source": [
        "from google.colab import drive\n",
        "drive.mount('/content/gdrive')"
      ]
    },
    {
      "cell_type": "code",
      "source": [
        "!git clone https://github.com/kaledai069/Crossword-Solver-A-Neural-Transformer-based-Approach\n",
        "%cd Crossword-Solver-A-Neural-Transformer-based-Approach/\n",
        "!bash inference_setup.sh"
      ],
      "metadata": {
        "colab": {
          "base_uri": "https://localhost:8080/"
        },
        "id": "fA8xpLKx_NoB",
        "outputId": "1ae91830-a4a1-4063-9d5f-2df9397e4a80"
      },
      "execution_count": null,
      "outputs": [
        {
          "output_type": "stream",
          "name": "stdout",
          "text": [
            "Cloning into 'Crossword-Solver-A-Neural-Transformer-based-Approach'...\n",
            "remote: Enumerating objects: 3170, done.\u001b[K\n",
            "remote: Counting objects: 100% (19/19), done.\u001b[K\n",
            "remote: Compressing objects: 100% (13/13), done.\u001b[K\n",
            "remote: Total 3170 (delta 9), reused 14 (delta 6), pack-reused 3151\u001b[K\n",
            "Receiving objects: 100% (3170/3170), 17.93 MiB | 23.24 MiB/s, done.\n",
            "Resolving deltas: 100% (745/745), done.\n",
            "/content/Crossword-Solver-A-Neural-Transformer-based-Approach\n",
            "\u001b[2K     \u001b[90m━━━━━━━━━━━━━━━━━━━━━━━━━━━━━━━━━━━━━━━━\u001b[0m \u001b[32m1.3/1.3 MB\u001b[0m \u001b[31m3.7 MB/s\u001b[0m eta \u001b[36m0:00:00\u001b[0m\n",
            "\u001b[2K     \u001b[90m━━━━━━━━━━━━━━━━━━━━━━━━━━━━━━━━━━━━━━━━\u001b[0m \u001b[32m17.6/17.6 MB\u001b[0m \u001b[31m48.2 MB/s\u001b[0m eta \u001b[36m0:00:00\u001b[0m\n",
            "\u001b[2K     \u001b[90m━━━━━━━━━━━━━━━━━━━━━━━━━━━━━━━━━━━━━━━━\u001b[0m \u001b[32m4.8/4.8 MB\u001b[0m \u001b[31m18.8 MB/s\u001b[0m eta \u001b[36m0:00:00\u001b[0m\n",
            "\u001b[?25h  Preparing metadata (setup.py) ... \u001b[?25l\u001b[?25hdone\n",
            "  Building wheel for puzpy (setup.py) ... \u001b[?25l\u001b[?25hdone\n",
            "\u001b[2K     \u001b[90m━━━━━━━━━━━━━━━━━━━━━━━━━━━━━━━━━━━━━━━━\u001b[0m \u001b[32m8.4/8.4 MB\u001b[0m \u001b[31m24.1 MB/s\u001b[0m eta \u001b[36m0:00:00\u001b[0m\n",
            "\u001b[2K     \u001b[90m━━━━━━━━━━━━━━━━━━━━━━━━━━━━━━━━━━━━━━━━\u001b[0m \u001b[32m196.4/196.4 kB\u001b[0m \u001b[31m19.9 MB/s\u001b[0m eta \u001b[36m0:00:00\u001b[0m\n",
            "\u001b[2K     \u001b[90m━━━━━━━━━━━━━━━━━━━━━━━━━━━━━━━━━━━━━━━━\u001b[0m \u001b[32m4.8/4.8 MB\u001b[0m \u001b[31m48.3 MB/s\u001b[0m eta \u001b[36m0:00:00\u001b[0m\n",
            "\u001b[2K     \u001b[90m━━━━━━━━━━━━━━━━━━━━━━━━━━━━━━━━━━━━━━━━\u001b[0m \u001b[32m82.1/82.1 kB\u001b[0m \u001b[31m11.1 MB/s\u001b[0m eta \u001b[36m0:00:00\u001b[0m\n",
            "\u001b[2K     \u001b[90m━━━━━━━━━━━━━━━━━━━━━━━━━━━━━━━━━━━━━━━━\u001b[0m \u001b[32m62.7/62.7 kB\u001b[0m \u001b[31m8.4 MB/s\u001b[0m eta \u001b[36m0:00:00\u001b[0m\n",
            "\u001b[?25h"
          ]
        }
      ]
    },
    {
      "cell_type": "markdown",
      "source": [
        "#### Importing all the Libraries"
      ],
      "metadata": {
        "id": "o1dVCE4J_PVb"
      }
    },
    {
      "cell_type": "code",
      "source": [
        "import datetime\n",
        "import time\n",
        "import matplotlib.pyplot as plt\n",
        "import cv2\n",
        "import pprint\n",
        "import shutil\n",
        "import os\n",
        "import json\n",
        "\n",
        "from bs4 import BeautifulSoup\n",
        "from matplotlib.gridspec import GridSpec\n",
        "from solver.Crossword import Crossword\n",
        "from solver.BPSolver import BPSolver\n",
        "from utils import puz_to_json, fetch_nyt_crossword, json_CA_json_converter\n",
        "from draw_grid import get_grid\n",
        "from copy import deepcopy\n",
        "from pprint import pprint"
      ],
      "metadata": {
        "id": "2YudHUF8_NlZ"
      },
      "execution_count": null,
      "outputs": []
    },
    {
      "cell_type": "code",
      "source": [
        "model_path = \"/content/gdrive/MyDrive/First Pass Model/distilbert_EPOCHs_7_COMPLETE.bin\"\n",
        "ans_path = \"/content/gdrive/MyDrive/First Pass Model/new_answer_list.tsv\"\n",
        "dense_embd_path = \"/content/gdrive/MyDrive/First Pass Model/distilbert_embeddings_v2_0.pkl\"\n",
        "\n",
        "t5_reranker_path = \"/content/gdrive/MyDrive/Second Pass Model/t5_small_new_dataset_2EPOCHS/\"\n",
        "byt5_reranker_path = \"/content/gdrive/MyDrive/Second Pass Model/byt5_reranker/\"\n",
        "reranker_model_type = 't5-small'"
      ],
      "metadata": {
        "id": "ejLNFAVx_Nij"
      },
      "execution_count": null,
      "outputs": []
    },
    {
      "cell_type": "code",
      "source": [
        "def solve(crossword, m_path, a_path, d_path, r_path, reranker_m_type, max_candidate = 50000, score_threshold = 0.5):\n",
        "    solver = BPSolver(\n",
        "                        crossword,\n",
        "                        model_path = m_path,\n",
        "                        ans_tsv_path = a_path,\n",
        "                        dense_embd_path = d_path,\n",
        "                        reranker_path = r_path,\n",
        "                        reranker_model_type = reranker_m_type,\n",
        "                        max_candidates = max_candidate,\n",
        "                        score_improvement_threshold = score_threshold\n",
        "                      )\n",
        "\n",
        "    solution = solver.solve(num_iters = 60, iterative_improvement_steps = 4)\n",
        "    return solution"
      ],
      "metadata": {
        "id": "ZQ5-jUrRAPJg"
      },
      "execution_count": null,
      "outputs": []
    },
    {
      "cell_type": "code",
      "source": [
        "def grid_to_CA_pairs(grid, puzzle):\n",
        "    '''\n",
        "        Get clue-answer(grid) for any grid solution.\n",
        "    '''\n",
        "\n",
        "    def get_answer(grid, cell_pos, ans_len, direction = None):\n",
        "        no_rows = len(grid)\n",
        "        no_cols = len(grid[0])\n",
        "\n",
        "        i, j = cell_pos\n",
        "        word = ''\n",
        "\n",
        "        if direction == 'across':\n",
        "            for k in range(ans_len):\n",
        "                word += grid[i][j + k]\n",
        "        else:\n",
        "            for k in range(ans_len):\n",
        "                word += grid[i + k][j]\n",
        "        return word\n",
        "\n",
        "    gridnum_to_cell_position = {}\n",
        "    for i, row in enumerate(puzzle['grid']):\n",
        "        for j, element in enumerate(row):\n",
        "            if not isinstance(element, list):\n",
        "                continue\n",
        "            else:\n",
        "                if element[0] != '':\n",
        "                    gridnum_to_cell_position[element[0]] = (i, j)\n",
        "\n",
        "    clue_answer_pairs = {}\n",
        "    for dim in ['across', 'down']:\n",
        "        for grid_num, clue_ans_pair in puzzle['clues'][dim].items():\n",
        "            clue, gold_answer = clue_ans_pair\n",
        "            cell_position = gridnum_to_cell_position[grid_num]\n",
        "            ans_len = len(gold_answer)\n",
        "            grid_answer = get_answer(grid, cell_position, ans_len, dim)\n",
        "            clue_answer_pairs[clue] = grid_answer\n",
        "    return clue_answer_pairs"
      ],
      "metadata": {
        "id": "oEzX4ludXdN9"
      },
      "execution_count": null,
      "outputs": []
    },
    {
      "cell_type": "code",
      "source": [
        "# lets take some list of dates to analyze on\n",
        "date_strings = [\"01/20/2024\", \"10/17/2023\", \"12/15/2023\", \"07/09/2023\", \"10/18/2023\", \"10/26/2023\", \"11/05/2023\", \"07/30/2023\", \"08/18/2023\", \"08/26/2023\"]\n",
        "date_list = []\n",
        "for date_str in date_strings:\n",
        "    month, day, year = [int(d) for d in date_str.split('/')]\n",
        "    date_list.append(datetime.date(year, month, day))\n",
        "\n",
        "all_outputs = []\n",
        "\n",
        "for curr_date in date_list:\n",
        "    formatted_date = curr_date.strftime(\"%m/%d/%Y\")\n",
        "    print(formatted_date)\n",
        "\n",
        "    # get the NYT puzzle for the specified date and do some baisc chaat-khaat\n",
        "    puzzle = fetch_nyt_crossword(formatted_date)\n",
        "    for dim in ['across', 'down']:\n",
        "        for grid_num, clue_answer_pair in puzzle['clues'][dim].items():\n",
        "            clue, gold_answer = clue_answer_pair\n",
        "            if '<img' in clue and 'alt=' in clue:\n",
        "                soup = BeautifulSoup(clue, 'html.parser')\n",
        "                alt_text = soup.img['alt']\n",
        "                puzzle['clues'][dim][grid_num] = [alt_text, gold_answer]\n",
        "\n",
        "    crossword = Crossword(puzzle)\n",
        "    output = solve(crossword, model_path, ans_path, dense_embd_path, t5_reranker_path, reranker_model_type, 40000, 0.5)\n",
        "\n",
        "    all_outputs.append((formatted_date, output))"
      ],
      "metadata": {
        "colab": {
          "base_uri": "https://localhost:8080/"
        },
        "id": "9JxAgX5A_Nf6",
        "outputId": "9f12a37e-0cdc-4042-b82c-cac84a33c9b1"
      },
      "execution_count": null,
      "outputs": [
        {
          "output_type": "stream",
          "name": "stdout",
          "text": [
            "01/20/2024\n",
            "#-#-#-#-#-#-#-#-#-#-#-#-#-#-#-#-#-#-#-#-#-#-#-#-#-#-#-#-#-#-#-#-#-#-#-#-#-#-#-#-#-#-#-#-#-#-#-#-#-#-#-#-#-\n",
            "----------------------------------------------------------------------------------------------------------\n",
            "|                        First Pass: DistilBERT Bi-Encoder with Belief Propagation                       |\n",
            "----------------------------------------------------------------------------------------------------------\n",
            "\n",
            "Loopy Belief Propagation Starts.\n",
            "\n"
          ]
        },
        {
          "output_type": "stream",
          "name": "stderr",
          "text": [
            "100%|████████████████████████████████████████████████████████████████████████████████████████████████████|\n"
          ]
        },
        {
          "output_type": "stream",
          "name": "stdout",
          "text": [
            "\n",
            "Loopy Belief Propagation Completed.\n",
            "\n",
            "First Pass Model Accuracy Report --→ Letters Accuracy: 96.34% | Words Accuracy: 88.89%\n",
            "\n",
            "----------------------------------------------------------------------------------------------------------\n",
            "**********************************************************************************************************\n",
            "----------------------------------------------------------------------------------------------------------\n",
            "|                            Second Pass: Iterative Improvement with 't5-small'                          |\n",
            "---------------------------------------------------------------------------------------------------------- \n",
            "\n",
            "1st Iteration Accuracy Report --→ Letters Accuracy: 97.38% | Words Accuracy: 90.28%\n",
            "2nd Iteration Accuracy Report --→ Letters Accuracy: 97.91% | Words Accuracy: 91.67%\n",
            "3rd Iteration Accuracy Report --→ Letters Accuracy: 98.95% | Words Accuracy: 95.83%\n",
            "4th Iteration Accuracy Report --→ Letters Accuracy: 98.43% | Words Accuracy: 93.06%\n",
            "\n",
            "Second Pass Model Accuracy Report (3rd Iteration) --→ Letters Accuracy: 98.95% | Words Accuracy: 95.83%\n",
            "\n",
            "Time Taken by Second Pass Re-ranker Model: 54.750611305236816 seconds.\n",
            "Re-ranker Model Invoke Count: 4703\n",
            "Re-ranker Model Average Inference Time: 11.64 ms\n",
            "\n",
            "----------------------------------------------------------------------------------------------------------\n",
            "**********************************************************************************************************\n",
            "----------------------------------------------------------------------------------------------------------\n",
            "|                                           Post-Refinement Step                                         |\n",
            "---------------------------------------------------------------------------------------------------------- \n",
            "\n",
            "Last-Refinement Accuracy Report --→ Letters Accuracy: 98.43% | Words Accuracy: 93.06%\n",
            "\n",
            "----------------------------------------------------------------------------------------------------------\n",
            "#-#-#-#-#-#-#-#-#-#-#-#-#-#-#-#-#-#-#-#-#-#-#-#-#-#-#-#-#-#-#-#-#-#-#-#-#-#-#-#-#-#-#-#-#-#-#-#-#-#-#-#-#-\n",
            "10/17/2023\n",
            "#-#-#-#-#-#-#-#-#-#-#-#-#-#-#-#-#-#-#-#-#-#-#-#-#-#-#-#-#-#-#-#-#-#-#-#-#-#-#-#-#-#-#-#-#-#-#-#-#-#-#-#-#-\n",
            "----------------------------------------------------------------------------------------------------------\n",
            "|                        First Pass: DistilBERT Bi-Encoder with Belief Propagation                       |\n",
            "----------------------------------------------------------------------------------------------------------\n",
            "\n",
            "Loopy Belief Propagation Starts.\n",
            "\n"
          ]
        },
        {
          "output_type": "stream",
          "name": "stderr",
          "text": [
            "100%|████████████████████████████████████████████████████████████████████████████████████████████████████|\n"
          ]
        },
        {
          "output_type": "stream",
          "name": "stdout",
          "text": [
            "\n",
            "Loopy Belief Propagation Completed.\n",
            "\n",
            "First Pass Model Accuracy Report --→ Letters Accuracy: 98.40% | Words Accuracy: 93.42%\n",
            "\n",
            "----------------------------------------------------------------------------------------------------------\n",
            "**********************************************************************************************************\n",
            "----------------------------------------------------------------------------------------------------------\n",
            "|                            Second Pass: Iterative Improvement with 't5-small'                          |\n",
            "---------------------------------------------------------------------------------------------------------- \n",
            "\n",
            "1st Iteration Accuracy Report --→ Letters Accuracy: 99.47% | Words Accuracy: 97.37%\n",
            "2nd Iteration Accuracy Report --→ Letters Accuracy: 99.47% | Words Accuracy: 97.37%\n",
            "\n",
            "Second Pass Model Accuracy Report (1st Iteration) --→ Letters Accuracy: 99.47% | Words Accuracy: 97.37%\n",
            "\n",
            "Time Taken by Second Pass Re-ranker Model: 26.781059741973877 seconds.\n",
            "Re-ranker Model Invoke Count: 5519\n",
            "Re-ranker Model Average Inference Time: 4.85 ms\n",
            "\n",
            "----------------------------------------------------------------------------------------------------------\n",
            "**********************************************************************************************************\n",
            "----------------------------------------------------------------------------------------------------------\n",
            "|                                           Post-Refinement Step                                         |\n",
            "---------------------------------------------------------------------------------------------------------- \n",
            "\n",
            "\tDid no improvment in Last-Refinement Step!\n",
            "\n",
            "----------------------------------------------------------------------------------------------------------\n",
            "#-#-#-#-#-#-#-#-#-#-#-#-#-#-#-#-#-#-#-#-#-#-#-#-#-#-#-#-#-#-#-#-#-#-#-#-#-#-#-#-#-#-#-#-#-#-#-#-#-#-#-#-#-\n",
            "12/15/2023\n",
            "#-#-#-#-#-#-#-#-#-#-#-#-#-#-#-#-#-#-#-#-#-#-#-#-#-#-#-#-#-#-#-#-#-#-#-#-#-#-#-#-#-#-#-#-#-#-#-#-#-#-#-#-#-\n",
            "----------------------------------------------------------------------------------------------------------\n",
            "|                        First Pass: DistilBERT Bi-Encoder with Belief Propagation                       |\n",
            "----------------------------------------------------------------------------------------------------------\n",
            "\n",
            "Loopy Belief Propagation Starts.\n",
            "\n"
          ]
        },
        {
          "output_type": "stream",
          "name": "stderr",
          "text": [
            "100%|████████████████████████████████████████████████████████████████████████████████████████████████████|\n"
          ]
        },
        {
          "output_type": "stream",
          "name": "stdout",
          "text": [
            "\n",
            "Loopy Belief Propagation Completed.\n",
            "\n",
            "First Pass Model Accuracy Report --→ Letters Accuracy: 91.98% | Words Accuracy: 86.11%\n",
            "\n",
            "----------------------------------------------------------------------------------------------------------\n",
            "**********************************************************************************************************\n",
            "----------------------------------------------------------------------------------------------------------\n",
            "|                            Second Pass: Iterative Improvement with 't5-small'                          |\n",
            "---------------------------------------------------------------------------------------------------------- \n",
            "\n",
            "1st Iteration Accuracy Report --→ Letters Accuracy: 91.98% | Words Accuracy: 86.11%\n",
            "2nd Iteration Accuracy Report --→ Letters Accuracy: 91.98% | Words Accuracy: 86.11%\n",
            "\n",
            "Second Pass Model Accuracy Report (1st Iteration) --→ Letters Accuracy: 91.98% | Words Accuracy: 86.11%\n",
            "\n",
            "Time Taken by Second Pass Re-ranker Model: 207.52559900283813 seconds.\n",
            "Re-ranker Model Invoke Count: 11120\n",
            "Re-ranker Model Average Inference Time: 18.66 ms\n",
            "\n",
            "----------------------------------------------------------------------------------------------------------\n",
            "**********************************************************************************************************\n",
            "----------------------------------------------------------------------------------------------------------\n",
            "|                                           Post-Refinement Step                                         |\n",
            "---------------------------------------------------------------------------------------------------------- \n",
            "\n",
            "\tDid no improvment in Last-Refinement Step!\n",
            "\n",
            "----------------------------------------------------------------------------------------------------------\n",
            "#-#-#-#-#-#-#-#-#-#-#-#-#-#-#-#-#-#-#-#-#-#-#-#-#-#-#-#-#-#-#-#-#-#-#-#-#-#-#-#-#-#-#-#-#-#-#-#-#-#-#-#-#-\n",
            "07/09/2023\n",
            "#-#-#-#-#-#-#-#-#-#-#-#-#-#-#-#-#-#-#-#-#-#-#-#-#-#-#-#-#-#-#-#-#-#-#-#-#-#-#-#-#-#-#-#-#-#-#-#-#-#-#-#-#-\n",
            "----------------------------------------------------------------------------------------------------------\n",
            "|                        First Pass: DistilBERT Bi-Encoder with Belief Propagation                       |\n",
            "----------------------------------------------------------------------------------------------------------\n",
            "\n",
            "Loopy Belief Propagation Starts.\n",
            "\n"
          ]
        },
        {
          "output_type": "stream",
          "name": "stderr",
          "text": [
            "100%|████████████████████████████████████████████████████████████████████████████████████████████████████|\n"
          ]
        },
        {
          "output_type": "stream",
          "name": "stdout",
          "text": [
            "\n",
            "Loopy Belief Propagation Completed.\n",
            "\n",
            "First Pass Model Accuracy Report --→ Letters Accuracy: 97.23% | Words Accuracy: 91.43%\n",
            "\n",
            "----------------------------------------------------------------------------------------------------------\n",
            "**********************************************************************************************************\n",
            "----------------------------------------------------------------------------------------------------------\n",
            "|                            Second Pass: Iterative Improvement with 't5-small'                          |\n",
            "---------------------------------------------------------------------------------------------------------- \n",
            "\n",
            "1st Iteration Accuracy Report --→ Letters Accuracy: 98.34% | Words Accuracy: 94.29%\n",
            "2nd Iteration Accuracy Report --→ Letters Accuracy: 99.17% | Words Accuracy: 96.43%\n",
            "3rd Iteration Accuracy Report --→ Letters Accuracy: 99.72% | Words Accuracy: 98.57%\n",
            "4th Iteration Accuracy Report --→ Letters Accuracy: 99.72% | Words Accuracy: 98.57%\n",
            "\n",
            "Second Pass Model Accuracy Report (3rd Iteration) --→ Letters Accuracy: 99.72% | Words Accuracy: 98.57%\n",
            "\n",
            "Time Taken by Second Pass Re-ranker Model: 122.25104212760925 seconds.\n",
            "Re-ranker Model Invoke Count: 11205\n",
            "Re-ranker Model Average Inference Time: 10.91 ms\n",
            "\n",
            "----------------------------------------------------------------------------------------------------------\n",
            "**********************************************************************************************************\n",
            "----------------------------------------------------------------------------------------------------------\n",
            "|                                           Post-Refinement Step                                         |\n",
            "---------------------------------------------------------------------------------------------------------- \n",
            "\n",
            "Last-Refinement Accuracy Report --→ Letters Accuracy: 99.45% | Words Accuracy: 97.86%\n",
            "\n",
            "----------------------------------------------------------------------------------------------------------\n",
            "#-#-#-#-#-#-#-#-#-#-#-#-#-#-#-#-#-#-#-#-#-#-#-#-#-#-#-#-#-#-#-#-#-#-#-#-#-#-#-#-#-#-#-#-#-#-#-#-#-#-#-#-#-\n",
            "10/18/2023\n",
            "#-#-#-#-#-#-#-#-#-#-#-#-#-#-#-#-#-#-#-#-#-#-#-#-#-#-#-#-#-#-#-#-#-#-#-#-#-#-#-#-#-#-#-#-#-#-#-#-#-#-#-#-#-\n",
            "----------------------------------------------------------------------------------------------------------\n",
            "|                        First Pass: DistilBERT Bi-Encoder with Belief Propagation                       |\n",
            "----------------------------------------------------------------------------------------------------------\n",
            "\n",
            "Loopy Belief Propagation Starts.\n",
            "\n"
          ]
        },
        {
          "output_type": "stream",
          "name": "stderr",
          "text": [
            "100%|████████████████████████████████████████████████████████████████████████████████████████████████████|\n"
          ]
        },
        {
          "output_type": "stream",
          "name": "stdout",
          "text": [
            "\n",
            "Loopy Belief Propagation Completed.\n",
            "\n",
            "First Pass Model Accuracy Report --→ Letters Accuracy: 96.15% | Words Accuracy: 88.89%\n",
            "\n",
            "----------------------------------------------------------------------------------------------------------\n",
            "**********************************************************************************************************\n",
            "----------------------------------------------------------------------------------------------------------\n",
            "|                            Second Pass: Iterative Improvement with 't5-small'                          |\n",
            "---------------------------------------------------------------------------------------------------------- \n",
            "\n",
            "1st Iteration Accuracy Report --→ Letters Accuracy: 98.35% | Words Accuracy: 93.06%\n",
            "2nd Iteration Accuracy Report --→ Letters Accuracy: 99.45% | Words Accuracy: 97.22%\n",
            "3rd Iteration Accuracy Report --→ Letters Accuracy: 99.45% | Words Accuracy: 97.22%\n",
            "\n",
            "Second Pass Model Accuracy Report (2nd Iteration) --→ Letters Accuracy: 99.45% | Words Accuracy: 97.22%\n",
            "\n",
            "Time Taken by Second Pass Re-ranker Model: 18.021785020828247 seconds.\n",
            "Re-ranker Model Invoke Count: 11749\n",
            "Re-ranker Model Average Inference Time: 1.53 ms\n",
            "\n",
            "----------------------------------------------------------------------------------------------------------\n",
            "**********************************************************************************************************\n",
            "----------------------------------------------------------------------------------------------------------\n",
            "|                                           Post-Refinement Step                                         |\n",
            "---------------------------------------------------------------------------------------------------------- \n",
            "\n",
            "\tDid no improvment in Last-Refinement Step!\n",
            "\n",
            "----------------------------------------------------------------------------------------------------------\n",
            "#-#-#-#-#-#-#-#-#-#-#-#-#-#-#-#-#-#-#-#-#-#-#-#-#-#-#-#-#-#-#-#-#-#-#-#-#-#-#-#-#-#-#-#-#-#-#-#-#-#-#-#-#-\n",
            "10/26/2023\n",
            "#-#-#-#-#-#-#-#-#-#-#-#-#-#-#-#-#-#-#-#-#-#-#-#-#-#-#-#-#-#-#-#-#-#-#-#-#-#-#-#-#-#-#-#-#-#-#-#-#-#-#-#-#-\n",
            "----------------------------------------------------------------------------------------------------------\n",
            "|                        First Pass: DistilBERT Bi-Encoder with Belief Propagation                       |\n",
            "----------------------------------------------------------------------------------------------------------\n",
            "\n",
            "Loopy Belief Propagation Starts.\n",
            "\n"
          ]
        },
        {
          "output_type": "stream",
          "name": "stderr",
          "text": [
            "100%|████████████████████████████████████████████████████████████████████████████████████████████████████|\n"
          ]
        },
        {
          "output_type": "stream",
          "name": "stdout",
          "text": [
            "\n",
            "Loopy Belief Propagation Completed.\n",
            "\n",
            "First Pass Model Accuracy Report --→ Letters Accuracy: 96.79% | Words Accuracy: 89.19%\n",
            "\n",
            "----------------------------------------------------------------------------------------------------------\n",
            "**********************************************************************************************************\n",
            "----------------------------------------------------------------------------------------------------------\n",
            "|                            Second Pass: Iterative Improvement with 't5-small'                          |\n",
            "---------------------------------------------------------------------------------------------------------- \n",
            "\n",
            "1st Iteration Accuracy Report --→ Letters Accuracy: 97.86% | Words Accuracy: 91.89%\n",
            "2nd Iteration Accuracy Report --→ Letters Accuracy: 97.86% | Words Accuracy: 91.89%\n",
            "\n",
            "Second Pass Model Accuracy Report (1st Iteration) --→ Letters Accuracy: 97.86% | Words Accuracy: 91.89%\n",
            "\n",
            "Time Taken by Second Pass Re-ranker Model: 64.30419182777405 seconds.\n",
            "Re-ranker Model Invoke Count: 13351\n",
            "Re-ranker Model Average Inference Time: 4.82 ms\n",
            "\n",
            "----------------------------------------------------------------------------------------------------------\n",
            "**********************************************************************************************************\n",
            "----------------------------------------------------------------------------------------------------------\n",
            "|                                           Post-Refinement Step                                         |\n",
            "---------------------------------------------------------------------------------------------------------- \n",
            "\n",
            "\tDid no improvment in Last-Refinement Step!\n",
            "\n",
            "----------------------------------------------------------------------------------------------------------\n",
            "#-#-#-#-#-#-#-#-#-#-#-#-#-#-#-#-#-#-#-#-#-#-#-#-#-#-#-#-#-#-#-#-#-#-#-#-#-#-#-#-#-#-#-#-#-#-#-#-#-#-#-#-#-\n",
            "11/05/2023\n",
            "#-#-#-#-#-#-#-#-#-#-#-#-#-#-#-#-#-#-#-#-#-#-#-#-#-#-#-#-#-#-#-#-#-#-#-#-#-#-#-#-#-#-#-#-#-#-#-#-#-#-#-#-#-\n",
            "----------------------------------------------------------------------------------------------------------\n",
            "|                        First Pass: DistilBERT Bi-Encoder with Belief Propagation                       |\n",
            "----------------------------------------------------------------------------------------------------------\n",
            "\n",
            "Loopy Belief Propagation Starts.\n",
            "\n"
          ]
        },
        {
          "output_type": "stream",
          "name": "stderr",
          "text": [
            "100%|████████████████████████████████████████████████████████████████████████████████████████████████████|\n"
          ]
        },
        {
          "output_type": "stream",
          "name": "stdout",
          "text": [
            "\n",
            "Loopy Belief Propagation Completed.\n",
            "\n",
            "First Pass Model Accuracy Report --→ Letters Accuracy: 95.65% | Words Accuracy: 87.86%\n",
            "\n",
            "----------------------------------------------------------------------------------------------------------\n",
            "**********************************************************************************************************\n",
            "----------------------------------------------------------------------------------------------------------\n",
            "|                            Second Pass: Iterative Improvement with 't5-small'                          |\n",
            "---------------------------------------------------------------------------------------------------------- \n",
            "\n",
            "1st Iteration Accuracy Report --→ Letters Accuracy: 97.01% | Words Accuracy: 90.71%\n",
            "2nd Iteration Accuracy Report --→ Letters Accuracy: 98.37% | Words Accuracy: 95.00%\n",
            "3rd Iteration Accuracy Report --→ Letters Accuracy: 98.37% | Words Accuracy: 96.43%\n",
            "4th Iteration Accuracy Report --→ Letters Accuracy: 98.37% | Words Accuracy: 96.43%\n",
            "\n",
            "Second Pass Model Accuracy Report (2nd Iteration) --→ Letters Accuracy: 98.37% | Words Accuracy: 95.00%\n",
            "\n",
            "Time Taken by Second Pass Re-ranker Model: 276.50132727622986 seconds.\n",
            "Re-ranker Model Invoke Count: 17907\n",
            "Re-ranker Model Average Inference Time: 15.44 ms\n",
            "\n",
            "----------------------------------------------------------------------------------------------------------\n",
            "**********************************************************************************************************\n",
            "----------------------------------------------------------------------------------------------------------\n",
            "|                                           Post-Refinement Step                                         |\n",
            "---------------------------------------------------------------------------------------------------------- \n",
            "\n",
            "Last-Refinement Accuracy Report --→ Letters Accuracy: 98.37% | Words Accuracy: 95.00%\n",
            "\n",
            "----------------------------------------------------------------------------------------------------------\n",
            "#-#-#-#-#-#-#-#-#-#-#-#-#-#-#-#-#-#-#-#-#-#-#-#-#-#-#-#-#-#-#-#-#-#-#-#-#-#-#-#-#-#-#-#-#-#-#-#-#-#-#-#-#-\n",
            "07/30/2023\n",
            "#-#-#-#-#-#-#-#-#-#-#-#-#-#-#-#-#-#-#-#-#-#-#-#-#-#-#-#-#-#-#-#-#-#-#-#-#-#-#-#-#-#-#-#-#-#-#-#-#-#-#-#-#-\n",
            "----------------------------------------------------------------------------------------------------------\n",
            "|                        First Pass: DistilBERT Bi-Encoder with Belief Propagation                       |\n",
            "----------------------------------------------------------------------------------------------------------\n",
            "\n",
            "Loopy Belief Propagation Starts.\n",
            "\n"
          ]
        },
        {
          "output_type": "stream",
          "name": "stderr",
          "text": [
            "100%|████████████████████████████████████████████████████████████████████████████████████████████████████|\n"
          ]
        },
        {
          "output_type": "stream",
          "name": "stdout",
          "text": [
            "\n",
            "Loopy Belief Propagation Completed.\n",
            "\n",
            "First Pass Model Accuracy Report --→ Letters Accuracy: 98.65% | Words Accuracy: 94.29%\n",
            "\n",
            "----------------------------------------------------------------------------------------------------------\n",
            "**********************************************************************************************************\n",
            "----------------------------------------------------------------------------------------------------------\n",
            "|                            Second Pass: Iterative Improvement with 't5-small'                          |\n",
            "---------------------------------------------------------------------------------------------------------- \n",
            "\n",
            "1st Iteration Accuracy Report --→ Letters Accuracy: 99.19% | Words Accuracy: 96.43%\n",
            "2nd Iteration Accuracy Report --→ Letters Accuracy: 99.19% | Words Accuracy: 96.43%\n",
            "\n",
            "Second Pass Model Accuracy Report (1st Iteration) --→ Letters Accuracy: 99.19% | Words Accuracy: 96.43%\n",
            "\n",
            "Time Taken by Second Pass Re-ranker Model: 56.2907600402832 seconds.\n",
            "Re-ranker Model Invoke Count: 18676\n",
            "Re-ranker Model Average Inference Time: 3.01 ms\n",
            "\n",
            "----------------------------------------------------------------------------------------------------------\n",
            "**********************************************************************************************************\n",
            "----------------------------------------------------------------------------------------------------------\n",
            "|                                           Post-Refinement Step                                         |\n",
            "---------------------------------------------------------------------------------------------------------- \n",
            "\n",
            "\tDid no improvment in Last-Refinement Step!\n",
            "\n",
            "----------------------------------------------------------------------------------------------------------\n",
            "#-#-#-#-#-#-#-#-#-#-#-#-#-#-#-#-#-#-#-#-#-#-#-#-#-#-#-#-#-#-#-#-#-#-#-#-#-#-#-#-#-#-#-#-#-#-#-#-#-#-#-#-#-\n",
            "08/18/2023\n",
            "#-#-#-#-#-#-#-#-#-#-#-#-#-#-#-#-#-#-#-#-#-#-#-#-#-#-#-#-#-#-#-#-#-#-#-#-#-#-#-#-#-#-#-#-#-#-#-#-#-#-#-#-#-\n",
            "----------------------------------------------------------------------------------------------------------\n",
            "|                        First Pass: DistilBERT Bi-Encoder with Belief Propagation                       |\n",
            "----------------------------------------------------------------------------------------------------------\n",
            "\n",
            "Loopy Belief Propagation Starts.\n",
            "\n"
          ]
        },
        {
          "output_type": "stream",
          "name": "stderr",
          "text": [
            "100%|████████████████████████████████████████████████████████████████████████████████████████████████████|\n"
          ]
        },
        {
          "output_type": "stream",
          "name": "stdout",
          "text": [
            "\n",
            "Loopy Belief Propagation Completed.\n",
            "\n",
            "First Pass Model Accuracy Report --→ Letters Accuracy: 96.30% | Words Accuracy: 90.28%\n",
            "\n",
            "----------------------------------------------------------------------------------------------------------\n",
            "**********************************************************************************************************\n",
            "----------------------------------------------------------------------------------------------------------\n",
            "|                            Second Pass: Iterative Improvement with 't5-small'                          |\n",
            "---------------------------------------------------------------------------------------------------------- \n",
            "\n",
            "1st Iteration Accuracy Report --→ Letters Accuracy: 97.35% | Words Accuracy: 93.06%\n",
            "2nd Iteration Accuracy Report --→ Letters Accuracy: 97.35% | Words Accuracy: 93.06%\n",
            "\n",
            "Second Pass Model Accuracy Report (1st Iteration) --→ Letters Accuracy: 97.35% | Words Accuracy: 93.06%\n",
            "\n",
            "Time Taken by Second Pass Re-ranker Model: 27.722150325775146 seconds.\n",
            "Re-ranker Model Invoke Count: 19379\n",
            "Re-ranker Model Average Inference Time: 1.43 ms\n",
            "\n",
            "----------------------------------------------------------------------------------------------------------\n",
            "**********************************************************************************************************\n",
            "----------------------------------------------------------------------------------------------------------\n",
            "|                                           Post-Refinement Step                                         |\n",
            "---------------------------------------------------------------------------------------------------------- \n",
            "\n",
            "\tDid no improvment in Last-Refinement Step!\n",
            "\n",
            "----------------------------------------------------------------------------------------------------------\n",
            "#-#-#-#-#-#-#-#-#-#-#-#-#-#-#-#-#-#-#-#-#-#-#-#-#-#-#-#-#-#-#-#-#-#-#-#-#-#-#-#-#-#-#-#-#-#-#-#-#-#-#-#-#-\n",
            "08/26/2023\n",
            "#-#-#-#-#-#-#-#-#-#-#-#-#-#-#-#-#-#-#-#-#-#-#-#-#-#-#-#-#-#-#-#-#-#-#-#-#-#-#-#-#-#-#-#-#-#-#-#-#-#-#-#-#-\n",
            "----------------------------------------------------------------------------------------------------------\n",
            "|                        First Pass: DistilBERT Bi-Encoder with Belief Propagation                       |\n",
            "----------------------------------------------------------------------------------------------------------\n",
            "\n",
            "Loopy Belief Propagation Starts.\n",
            "\n"
          ]
        },
        {
          "output_type": "stream",
          "name": "stderr",
          "text": [
            "100%|████████████████████████████████████████████████████████████████████████████████████████████████████|\n"
          ]
        },
        {
          "output_type": "stream",
          "name": "stdout",
          "text": [
            "\n",
            "Loopy Belief Propagation Completed.\n",
            "\n",
            "First Pass Model Accuracy Report --→ Letters Accuracy: 98.96% | Words Accuracy: 95.31%\n",
            "\n",
            "----------------------------------------------------------------------------------------------------------\n",
            "**********************************************************************************************************\n",
            "----------------------------------------------------------------------------------------------------------\n",
            "|                            Second Pass: Iterative Improvement with 't5-small'                          |\n",
            "---------------------------------------------------------------------------------------------------------- \n",
            "\n",
            "1st Iteration Accuracy Report --→ Letters Accuracy: 99.48% | Words Accuracy: 96.88%\n",
            "2nd Iteration Accuracy Report --→ Letters Accuracy: 99.48% | Words Accuracy: 96.88%\n",
            "\n",
            "Second Pass Model Accuracy Report (1st Iteration) --→ Letters Accuracy: 99.48% | Words Accuracy: 96.88%\n",
            "\n",
            "Time Taken by Second Pass Re-ranker Model: 22.42174005508423 seconds.\n",
            "Re-ranker Model Invoke Count: 19977\n",
            "Re-ranker Model Average Inference Time: 1.12 ms\n",
            "\n",
            "----------------------------------------------------------------------------------------------------------\n",
            "**********************************************************************************************************\n",
            "----------------------------------------------------------------------------------------------------------\n",
            "|                                           Post-Refinement Step                                         |\n",
            "---------------------------------------------------------------------------------------------------------- \n",
            "\n",
            "\tDid no improvment in Last-Refinement Step!\n",
            "\n",
            "----------------------------------------------------------------------------------------------------------\n",
            "#-#-#-#-#-#-#-#-#-#-#-#-#-#-#-#-#-#-#-#-#-#-#-#-#-#-#-#-#-#-#-#-#-#-#-#-#-#-#-#-#-#-#-#-#-#-#-#-#-#-#-#-#-\n"
          ]
        }
      ]
    },
    {
      "cell_type": "code",
      "source": [
        "main_output = {}\n",
        "\n",
        "for formatted_date, output in all_outputs:\n",
        "    # lets again fetch for the puzzle file\n",
        "    puzzle = fetch_nyt_crossword(formatted_date)\n",
        "    for dim in ['across', 'down']:\n",
        "        for grid_num, clue_answer_pair in puzzle['clues'][dim].items():\n",
        "            clue, gold_answer = clue_answer_pair\n",
        "            if '<img' in clue and 'alt=' in clue:\n",
        "                soup = BeautifulSoup(clue, 'html.parser')\n",
        "                alt_text = soup.img['alt']\n",
        "                puzzle['clues'][dim][grid_num] = [alt_text, gold_answer]\n",
        "  # lets take the original ground truth clue-answer pairs\n",
        "    GT_CA_pairs = {}\n",
        "    for dim in ['across', 'down']:\n",
        "        for grid_num, clue_answer_pair in puzzle['clues'][dim].items():\n",
        "            clue, gold_answer = clue_answer_pair\n",
        "            GT_CA_pairs[clue] = gold_answer\n",
        "\n",
        "    # lets take all clue-answer pairs from solutions\n",
        "\n",
        "    improvement_steps = len(output['second pass model']['all grids'])\n",
        "    first_pass_grid = output['first pass model']['grid']\n",
        "    first_pass_CA_pairs = grid_to_CA_pairs(first_pass_grid, puzzle)\n",
        "\n",
        "\n",
        "    main_output[formatted_date] = {}\n",
        "\n",
        "    for i in range(improvement_steps):\n",
        "        second_pass_best_grid = output['second pass model']['all grids'][i]\n",
        "        second_pass_CA_pairs = grid_to_CA_pairs(second_pass_best_grid, puzzle)\n",
        "\n",
        "        uncertain_CA_pairs = output['second pass model']['uncertain_pairs'][i]\n",
        "\n",
        "        for clue, answer in uncertain_CA_pairs.items():\n",
        "            if clue not in main_output[formatted_date].keys():\n",
        "                main_output[formatted_date][clue] = {\n",
        "                    'gold': '',\n",
        "                    'f_pass': '',\n",
        "                    's_pass': []\n",
        "                }\n",
        "            main_output[formatted_date][clue]['gold'] = GT_CA_pairs[clue]\n",
        "            main_output[formatted_date][clue]['f_pass'] = first_pass_CA_pairs[clue]\n",
        "            main_output[formatted_date][clue]['s_pass'].append(second_pass_CA_pairs[clue])\n",
        "\n",
        "            print(f'\"{clue}\" - GOLD ANSWER: {GT_CA_pairs[clue]} - F_PASS ANSWER: {first_pass_CA_pairs[clue]} - S_PASS ANSWER: {second_pass_CA_pairs[clue]}')"
      ],
      "metadata": {
        "colab": {
          "base_uri": "https://localhost:8080/"
        },
        "id": "kfppsbVVgJRZ",
        "outputId": "c3fc9871-ed86-4c35-c880-5ef468c48888"
      },
      "execution_count": null,
      "outputs": [
        {
          "output_type": "stream",
          "name": "stdout",
          "text": [
            "\"Gardener's item that breaks down a lot\" - GOLD ANSWER: COMPOSTBIN - F_PASS ANSWER: COLPOSTLIN - S_PASS ANSWER: COMPOSTLIN\n",
            "\"Nonkosher Wendy's offering\" - GOLD ANSWER: BACONATOR - F_PASS ANSWER: BACONOTOR - S_PASS ANSWER: BACONOTOR\n",
            "\"Plant-based protein brand\" - GOLD ANSWER: INCOGMEATO - F_PASS ANSWER: INSOGMEITO - S_PASS ANSWER: INCOGMEITO\n",
            "\"View with disdain\" - GOLD ANSWER: HATEWATCH - F_PASS ANSWER: HATEBATCH - S_PASS ANSWER: HATEBATCH\n",
            "\"Subject for a museum curator\" - GOLD ANSWER: ARTHISTORY - F_PASS ANSWER: ARRHISTORY - S_PASS ANSWER: ARRHISTORY\n",
            "\"Dead-tree edition\" - GOLD ANSWER: PRINTISSUE - F_PASS ANSWER: PRINTISSUE - S_PASS ANSWER: PRINTISSUE\n",
            "\"Gardener's item that breaks down a lot\" - GOLD ANSWER: COMPOSTBIN - F_PASS ANSWER: COLPOSTLIN - S_PASS ANSWER: COMPOSTBIN\n",
            "\"Nonkosher Wendy's offering\" - GOLD ANSWER: BACONATOR - F_PASS ANSWER: BACONOTOR - S_PASS ANSWER: BACONOTOR\n",
            "\"Plant-based protein brand\" - GOLD ANSWER: INCOGMEATO - F_PASS ANSWER: INSOGMEITO - S_PASS ANSWER: INCOMMEITO\n",
            "\"View with disdain\" - GOLD ANSWER: HATEWATCH - F_PASS ANSWER: HATEBATCH - S_PASS ANSWER: HATEBATCH\n",
            "\"Subject for a museum curator\" - GOLD ANSWER: ARTHISTORY - F_PASS ANSWER: ARRHISTORY - S_PASS ANSWER: ARTHISTORY\n",
            "\"Dead-tree edition\" - GOLD ANSWER: PRINTISSUE - F_PASS ANSWER: PRINTISSUE - S_PASS ANSWER: PRINTISSUE\n",
            "\"Nonkosher Wendy's offering\" - GOLD ANSWER: BACONATOR - F_PASS ANSWER: BACONOTOR - S_PASS ANSWER: BACONOTOR\n",
            "\"Plant-based protein brand\" - GOLD ANSWER: INCOGMEATO - F_PASS ANSWER: INSOGMEITO - S_PASS ANSWER: INCOGMEATO\n",
            "\"View with disdain\" - GOLD ANSWER: HATEWATCH - F_PASS ANSWER: HATEBATCH - S_PASS ANSWER: HATEBATCH\n",
            "\"Dead-tree edition\" - GOLD ANSWER: PRINTISSUE - F_PASS ANSWER: PRINTISSUE - S_PASS ANSWER: PRINTISSUE\n",
            "\"Nonkosher Wendy's offering\" - GOLD ANSWER: BACONATOR - F_PASS ANSWER: BACONOTOR - S_PASS ANSWER: BACONOTOR\n",
            "\"Plant-based protein brand\" - GOLD ANSWER: INCOGMEATO - F_PASS ANSWER: INSOGMEITO - S_PASS ANSWER: INCONMEATO\n",
            "\"View with disdain\" - GOLD ANSWER: HATEWATCH - F_PASS ANSWER: HATEBATCH - S_PASS ANSWER: HATEBATCH\n",
            "\"Dead-tree edition\" - GOLD ANSWER: PRINTISSUE - F_PASS ANSWER: PRINTISSUE - S_PASS ANSWER: PRINTISSUE\n",
            "\"Bell ringer's prank\" - GOLD ANSWER: DINGDONGDITCH - F_PASS ANSWER: DINGDONGGITCH - S_PASS ANSWER: DINGDONGDITCH\n",
            "\"Casual office occasions\" - GOLD ANSWER: DRESSDOWNDAYS - F_PASS ANSWER: DRESSDOONDAYS - S_PASS ANSWER: DRESSDOWNDAYS\n",
            "\"Modern manufacturing device … or you, when answering 17-, 31-, 39- and 46-Across?\" - GOLD ANSWER: 3DPRINTER - F_PASS ANSWER: TDPRINTER - S_PASS ANSWER: ADPRINTER\n",
            "\"One behind, in baseball\" - GOLD ANSWER: DOWNARUN - F_PASS ANSWER: GOONARUN - S_PASS ANSWER: DOWNARUN\n",
            "\"Casual office occasions\" - GOLD ANSWER: DRESSDOWNDAYS - F_PASS ANSWER: DRESSDOONDAYS - S_PASS ANSWER: DRESSDOWNDAYS\n",
            "\"Modern manufacturing device … or you, when answering 17-, 31-, 39- and 46-Across?\" - GOLD ANSWER: 3DPRINTER - F_PASS ANSWER: TDPRINTER - S_PASS ANSWER: ADPRINTER\n",
            "\"'Don't even think of coming back!'\" - GOLD ANSWER: ANDSTAYOUT - F_PASS ANSWER: ANDETALOIS - S_PASS ANSWER: ANDSTALOIS\n",
            "\"Nephalist\" - GOLD ANSWER: TEETOTALER - F_PASS ANSWER: TEECOTOLED - S_PASS ANSWER: TEECOTONED\n",
            "\"Common place to see Santa\" - GOLD ANSWER: MALL - F_PASS ANSWER: AOOF - S_PASS ANSWER: AONE\n",
            "\"'Don't even think of coming back!'\" - GOLD ANSWER: ANDSTAYOUT - F_PASS ANSWER: ANDETALOIS - S_PASS ANSWER: ANDSTALOIN\n",
            "\"Nephalist\" - GOLD ANSWER: TEETOTALER - F_PASS ANSWER: TEECOTOLED - S_PASS ANSWER: TEECOTONET\n",
            "\"Warty hopper\" - GOLD ANSWER: TOAD - F_PASS ANSWER: TUAA - S_PASS ANSWER: TEAT\n",
            "\"Nihao in simplified Chinese\" - GOLD ANSWER: CHARACTERSKETCHES - F_PASS ANSWER: DHARACTERSKETCTEM - S_PASS ANSWER: CHARACTERSKETCTEM\n",
            "\"A person going Ptui!\" - GOLD ANSWER: SPITTINGIMAGE - F_PASS ANSWER: SPITTINGIDAGE - S_PASS ANSWER: SPITTINGIMAGE\n",
            "\"Clear sign\" - GOLD ANSWER: DEADGIVEAWAY - F_PASS ANSWER: XEADGISEAWAY - S_PASS ANSWER: LEADGIVEAWAY\n",
            "\"Person carrying a box into a van\" - GOLD ANSWER: MOVINGPICTURE - F_PASS ANSWER: MOSINGPICTUNE - S_PASS ANSWER: MOVINGPICTUNE\n",
            "\"Nihao in simplified Chinese\" - GOLD ANSWER: CHARACTERSKETCHES - F_PASS ANSWER: DHARACTERSKETCTEM - S_PASS ANSWER: CHARACTERSKETCHES\n",
            "\"Clear sign\" - GOLD ANSWER: DEADGIVEAWAY - F_PASS ANSWER: XEADGISEAWAY - S_PASS ANSWER: LEADGIVEAWAY\n",
            "\"Person carrying a box into a van\" - GOLD ANSWER: MOVINGPICTURE - F_PASS ANSWER: MOSINGPICTUNE - S_PASS ANSWER: MOVINGPICTURE\n",
            "\"Clear sign\" - GOLD ANSWER: DEADGIVEAWAY - F_PASS ANSWER: XEADGISEAWAY - S_PASS ANSWER: LEADGIVEAWAY\n",
            "\"Clear sign\" - GOLD ANSWER: DEADGIVEAWAY - F_PASS ANSWER: XEADGISEAWAY - S_PASS ANSWER: LEADGIVEAWAY\n",
            "\"'So, so delish!'\" - GOLD ANSWER: NOMNOM - F_PASS ANSWER: VAVNOM - S_PASS ANSWER: NOVNOM\n",
            "\"Get in a twist\" - GOLD ANSWER: CONTORT - F_PASS ANSWER: CONDRRT - S_PASS ANSWER: CONDORT\n",
            "\"'Ladies and gentlemen, you are about to witness something extraordinary that has never been seen or attempted before!' (go to 34-Down)\" - GOLD ANSWER: FORTHEFIRSTTIME - F_PASS ANSWER: FORTHEFIOSTTIVE - S_PASS ANSWER: FORTHEFIRSTTIVE\n",
            "\"'So, so delish!'\" - GOLD ANSWER: NOMNOM - F_PASS ANSWER: VAVNOM - S_PASS ANSWER: NOMNOM\n",
            "\"Get in a twist\" - GOLD ANSWER: CONTORT - F_PASS ANSWER: CONDRRT - S_PASS ANSWER: CONTORT\n",
            "\"'Ladies and gentlemen, you are about to witness something extraordinary that has never been seen or attempted before!' (go to 34-Down)\" - GOLD ANSWER: FORTHEFIRSTTIME - F_PASS ANSWER: FORTHEFIOSTTIVE - S_PASS ANSWER: FORTHEFIRSTTIME\n",
            "\"Bottoms out?\" - GOLD ANSWER: MOONS - F_PASS ANSWER: REORS - S_PASS ANSWER: REONS\n",
            "\"Afflicted\" - GOLD ANSWER: ILL - F_PASS ANSWER: IDL - S_PASS ANSWER: ILL\n",
            "\"What a multitasker might kill\" - GOLD ANSWER: BIRDBIRDSTONE - F_PASS ANSWER: BIRDBIRDSTORE - S_PASS ANSWER: BIRDBIRDSTONE\n",
            "\"Bottoms out?\" - GOLD ANSWER: MOONS - F_PASS ANSWER: REORS - S_PASS ANSWER: MEOWS\n",
            "\"Last remaining\" - GOLD ANSWER: ONLY - F_PASS ANSWER: ENDI - S_PASS ANSWER: ENLI\n",
            "\"One doing kickflips and ollies, in slang\" - GOLD ANSWER: SKATERAT - F_PASS ANSWER: SEETERET - S_PASS ANSWER: SKATERET\n",
            "\"<em>To peace!</em>\" - GOLD ANSWER: STRINGBIKINI - F_PASS ANSWER: STRINBBIEINI - S_PASS ANSWER: STRINBBIKINI\n",
            "\"<em>See in</em>\" - GOLD ANSWER: BEACHHOTEL - F_PASS ANSWER: BEAKHHOTEL - S_PASS ANSWER: PEAKHHOTEL\n",
            "\"<em>Holy Week</em>\" - GOLD ANSWER: TUCKEREDOUT - F_PASS ANSWER: TUCBEREDOUY - S_PASS ANSWER: TUCKEREDOUT\n",
            "\"Like those at the top, it's said\" - GOLD ANSWER: LONELY - F_PASS ANSWER: LORELY - S_PASS ANSWER: LONELY\n",
            "\"<em>Air rights</em>\" - GOLD ANSWER: CORONATIONS - F_PASS ANSWER: SERONATIORS - S_PASS ANSWER: HERONATIONS\n",
            "\"Sources of winter strains\" - GOLD ANSWER: CAROLS - F_PASS ANSWER: SAIRLS - S_PASS ANSWER: HAIRLS\n",
            "\"<em>Bare feet</em>\" - GOLD ANSWER: SUPERBOWLWIN - F_PASS ANSWER: SUPERBROLWIN - S_PASS ANSWER: SUPERBRALWIN\n",
            "\"<em>We won!</em>\" - GOLD ANSWER: KINDERGARTENER - F_PASS ANSWER: KINDERBARTENER - S_PASS ANSWER: KINDERGARTENER\n",
            "\"Commit a holiday etiquette no-no\" - GOLD ANSWER: REGIFT - F_PASS ANSWER: WEBIFY - S_PASS ANSWER: REGIFT\n",
            "\"One doing kickflips and ollies, in slang\" - GOLD ANSWER: SKATERAT - F_PASS ANSWER: SEETERET - S_PASS ANSWER: SKATERAT\n",
            "\"<em>To peace!</em>\" - GOLD ANSWER: STRINGBIKINI - F_PASS ANSWER: STRINBBIEINI - S_PASS ANSWER: STRINGBIKINI\n",
            "\"Classic Greek archetype?\" - GOLD ANSWER: FRATBRO - F_PASS ANSWER: FRATBRO - S_PASS ANSWER: FRATPRO\n",
            "\"<em>See in</em>\" - GOLD ANSWER: BEACHHOTEL - F_PASS ANSWER: BEAKHHOTEL - S_PASS ANSWER: PEACHHOTEL\n",
            "\"Home organizing guru Marie\" - GOLD ANSWER: KONDO - F_PASS ANSWER: BONDE - S_PASS ANSWER: KONDO\n",
            "\"<em>Air rights</em>\" - GOLD ANSWER: CORONATIONS - F_PASS ANSWER: SERONATIORS - S_PASS ANSWER: CORONATIONS\n",
            "\"Sources of winter strains\" - GOLD ANSWER: CAROLS - F_PASS ANSWER: SAIRLS - S_PASS ANSWER: CAIRLS\n",
            "\"Coming 'round again\" - GOLD ANSWER: RETRO - F_PASS ANSWER: RETIL - S_PASS ANSWER: RENIP\n",
            "\"<em>Bare feet</em>\" - GOLD ANSWER: SUPERBOWLWIN - F_PASS ANSWER: SUPERBROLWIN - S_PASS ANSWER: SUPERBRALWIN\n",
            "\"Classic Greek archetype?\" - GOLD ANSWER: FRATBRO - F_PASS ANSWER: FRATBRO - S_PASS ANSWER: FRATBRO\n",
            "\"<em>See in</em>\" - GOLD ANSWER: BEACHHOTEL - F_PASS ANSWER: BEAKHHOTEL - S_PASS ANSWER: BEACHHOTEL\n",
            "\"Sources of winter strains\" - GOLD ANSWER: CAROLS - F_PASS ANSWER: SAIRLS - S_PASS ANSWER: CAILLS\n",
            "\"Connective tissues in the legs, informally\" - GOLD ANSWER: ITBANDS - F_PASS ANSWER: ITBANDS - S_PASS ANSWER: INHANDS\n",
            "\"Coming 'round again\" - GOLD ANSWER: RETRO - F_PASS ANSWER: RETIL - S_PASS ANSWER: RENIP\n",
            "\"<em>Bare feet</em>\" - GOLD ANSWER: SUPERBOWLWIN - F_PASS ANSWER: SUPERBROLWIN - S_PASS ANSWER: SUPERHLALWIN\n",
            "\"Sources of winter strains\" - GOLD ANSWER: CAROLS - F_PASS ANSWER: SAIRLS - S_PASS ANSWER: CAILLS\n",
            "\"Connective tissues in the legs, informally\" - GOLD ANSWER: ITBANDS - F_PASS ANSWER: ITBANDS - S_PASS ANSWER: INHANDS\n",
            "\"Coming 'round again\" - GOLD ANSWER: RETRO - F_PASS ANSWER: RETIL - S_PASS ANSWER: RENIP\n",
            "\"<em>Bare feet</em>\" - GOLD ANSWER: SUPERBOWLWIN - F_PASS ANSWER: SUPERBROLWIN - S_PASS ANSWER: SUPERHLALWIN\n",
            "\"<em>'Hugh Hefner was quite the media mogul. They called him ...'</em>\" - GOLD ANSWER: MISTERBUNNYMAGS - F_PASS ANSWER: MISTERBUNNYMANS - S_PASS ANSWER: MISTERBUNNYMANS\n",
            "\"<em>'I know they've had them on all day, but let the kids eat their candy. After all, a Ring Pop is a ...'</em>\" - GOLD ANSWER: WEARABLETHINGTOTASTE - F_PASS ANSWER: WEARABLETHINGTOTABTE - S_PASS ANSWER: WEARABLETHINGTOTASTE\n",
            "\"<em>'That poor lion has a mighty toothache. Boy, ...'</em>\" - GOLD ANSWER: WHENITPAINSITROARS - F_PASS ANSWER: WHENITPAINSATROARS - S_PASS ANSWER: WHENITPAINSATROARS\n",
            "\"<em>'Hugh Hefner was quite the media mogul. They called him ...'</em>\" - GOLD ANSWER: MISTERBUNNYMAGS - F_PASS ANSWER: MISTERBUNNYMANS - S_PASS ANSWER: MISTERBUNNYMANS\n",
            "\"<em>'That poor lion has a mighty toothache. Boy, ...'</em>\" - GOLD ANSWER: WHENITPAINSITROARS - F_PASS ANSWER: WHENITPAINSATROARS - S_PASS ANSWER: WHENITPAINSATROARS\n",
            "\"The cask of amontillado, e.g.\" - GOLD ANSWER: WINEBARREL - F_PASS ANSWER: WILEGARREL - S_PASS ANSWER: WINEBARREL\n",
            "\"It dots the 'i' in the Ohio State marching band's spelling of 'Ohio'\" - GOLD ANSWER: SOUSAPHONE - F_PASS ANSWER: AOUSAPHONE - S_PASS ANSWER: SOUSAPHONE\n",
            "\"Troublemaker\" - GOLD ANSWER: HELLRAISER - F_PASS ANSWER: LELLRAISER - S_PASS ANSWER: WELLRAISER\n",
            "\"Deceive so as to deflect\" - GOLD ANSWER: SHINEON - F_PASS ANSWER: ALINEON - S_PASS ANSWER: SWINEON\n",
            "\"Troublemaker\" - GOLD ANSWER: HELLRAISER - F_PASS ANSWER: LELLRAISER - S_PASS ANSWER: WELLRAISER\n"
          ]
        }
      ]
    },
    {
      "cell_type": "code",
      "source": [
        "dict_to_list = []\n",
        "for date, data in main_output.items():\n",
        "    date_push = False\n",
        "    for clue, details in data.items():\n",
        "        iter_times = len(details['s_pass'])\n",
        "        for i in range(iter_times):\n",
        "            if i == 0:\n",
        "                if not date_push:\n",
        "                    dict_to_list.append((date, clue, details['gold'], details['f_pass'], details['s_pass'][0]))\n",
        "                    date_push = True\n",
        "                else:\n",
        "                    dict_to_list.append(('', clue, details['gold'], details['f_pass'], details['s_pass'][0]))\n",
        "            else:\n",
        "                dict_to_list.append(('', '', '', '', details['s_pass'][i]))\n",
        "\n",
        "import pandas as pd\n",
        "\n",
        "data_df = pd.DataFrame(dict_to_list, columns = ['Date', 'Clue', 'Gold Answer', 'First Pass Answer', 'Second Pass Answers'])\n",
        "data_df.to_csv('/content/s_pass_analysis.csv')"
      ],
      "metadata": {
        "id": "Z2vtvW5x_NYA"
      },
      "execution_count": null,
      "outputs": []
    },
    {
      "cell_type": "code",
      "source": [],
      "metadata": {
        "id": "VyZS9F2i_NVh"
      },
      "execution_count": null,
      "outputs": []
    },
    {
      "cell_type": "code",
      "source": [],
      "metadata": {
        "id": "kmR_cXlK_NTI"
      },
      "execution_count": null,
      "outputs": []
    },
    {
      "cell_type": "code",
      "source": [],
      "metadata": {
        "id": "JEYIAxzQ_NQy"
      },
      "execution_count": null,
      "outputs": []
    }
  ]
}